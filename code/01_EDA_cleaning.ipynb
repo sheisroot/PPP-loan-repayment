{
 "cells": [
  {
   "cell_type": "code",
   "execution_count": 1,
   "id": "e465568f-5ec6-42b7-91f0-ca77dbb1d9fc",
   "metadata": {},
   "outputs": [],
   "source": [
    "# Imports\n",
    "import numpy as np\n",
    "import pandas as pd\n",
    "import matplotlib.pyplot as plt\n",
    "\n",
    "import os"
   ]
  },
  {
   "cell_type": "markdown",
   "id": "2aab13b8-5f52-4be7-be0e-ba69dd69ae52",
   "metadata": {},
   "source": [
    "## Loan Status Classification"
   ]
  },
  {
   "cell_type": "code",
   "execution_count": 2,
   "id": "9e184f31-b71d-4070-ae6a-28c2d9eb97d9",
   "metadata": {},
   "outputs": [
    {
     "name": "stdout",
     "output_type": "stream",
     "text": [
      "['public_up_to_150k_3_230930.csv', 'public_up_to_150k_11_230930.csv', 'cleaned_1and2_reduced.csv', 'public_up_to_150k_6_230930.csv', 'public_up_to_150k_1_230930.csv', 'public_up_to_150k_9_230930.csv', 'cleaned_ppp.csv', 'public_up_to_150k_4_230930.csv', 'public_up_to_150k_10_230930.csv', 'public_up_to_150k_7_230930.csv', 'public_up_to_150k_2_230930.csv', 'public_150k_plus_230930.csv', '.ipynb_checkpoints', 'placeholder.txt', 'public_up_to_150k_8_230930.csv', 'public_up_to_150k_12_230930.csv', 'public_up_to_150k_5_230930.csv']\n"
     ]
    }
   ],
   "source": [
    "# ppp1 = pd.read_csv('../data/public_up_to_150k_1_230930.csv')\n",
    "path = '../data/'\n",
    "dir_list = os.listdir(path)[:-1] # Exclude the data dict\n",
    "print(dir_list)"
   ]
  },
  {
   "cell_type": "code",
   "execution_count": 3,
   "id": "006b99e2-44b4-4f97-91d0-8a569a109e9b",
   "metadata": {},
   "outputs": [],
   "source": [
    "loans_1 = pd.read_csv(path + dir_list[0])\n",
    "loans_2 = pd.read_csv(path + dir_list[1])\n",
    "ppp = pd.concat([loans_1, loans_2])"
   ]
  },
  {
   "cell_type": "code",
   "execution_count": 4,
   "id": "d1857f53-dc44-416d-b772-e678ba7214e7",
   "metadata": {},
   "outputs": [
    {
     "data": {
      "text/plain": [
       "(1800000, 53)"
      ]
     },
     "execution_count": 4,
     "metadata": {},
     "output_type": "execute_result"
    }
   ],
   "source": [
    "ppp.shape"
   ]
  },
  {
   "cell_type": "code",
   "execution_count": 5,
   "id": "65f3d6da-7629-4384-8c46-5c184a366d9b",
   "metadata": {},
   "outputs": [
    {
     "data": {
      "text/plain": [
       "Index(['LoanNumber', 'DateApproved', 'SBAOfficeCode', 'ProcessingMethod',\n",
       "       'BorrowerName', 'BorrowerAddress', 'BorrowerCity', 'BorrowerState',\n",
       "       'BorrowerZip', 'LoanStatusDate', 'LoanStatus', 'Term',\n",
       "       'SBAGuarantyPercentage', 'InitialApprovalAmount',\n",
       "       'CurrentApprovalAmount', 'UndisbursedAmount', 'FranchiseName',\n",
       "       'ServicingLenderLocationID', 'ServicingLenderName',\n",
       "       'ServicingLenderAddress', 'ServicingLenderCity', 'ServicingLenderState',\n",
       "       'ServicingLenderZip', 'RuralUrbanIndicator', 'HubzoneIndicator',\n",
       "       'LMIIndicator', 'BusinessAgeDescription', 'ProjectCity',\n",
       "       'ProjectCountyName', 'ProjectState', 'ProjectZip', 'CD', 'JobsReported',\n",
       "       'NAICSCode', 'Race', 'Ethnicity', 'UTILITIES_PROCEED',\n",
       "       'PAYROLL_PROCEED', 'MORTGAGE_INTEREST_PROCEED', 'RENT_PROCEED',\n",
       "       'REFINANCE_EIDL_PROCEED', 'HEALTH_CARE_PROCEED',\n",
       "       'DEBT_INTEREST_PROCEED', 'BusinessType', 'OriginatingLenderLocationID',\n",
       "       'OriginatingLender', 'OriginatingLenderCity', 'OriginatingLenderState',\n",
       "       'Gender', 'Veteran', 'NonProfit', 'ForgivenessAmount',\n",
       "       'ForgivenessDate'],\n",
       "      dtype='object')"
      ]
     },
     "execution_count": 5,
     "metadata": {},
     "output_type": "execute_result"
    }
   ],
   "source": [
    "ppp.columns"
   ]
  },
  {
   "cell_type": "code",
   "execution_count": 6,
   "id": "5cdf1d9c-d629-4c27-981d-532d157f73fb",
   "metadata": {},
   "outputs": [
    {
     "name": "stdout",
     "output_type": "stream",
     "text": [
      "LoanStatus\n",
      "Paid in Full    1634401\n",
      "Charged Off      111965\n",
      "Exemption 4       53634\n",
      "Name: count, dtype: int64\n",
      "0\n"
     ]
    }
   ],
   "source": [
    "print(ppp['LoanStatus'].value_counts())\n",
    "print(np.sum(ppp['LoanStatus'].isna())) # no nulls"
   ]
  },
  {
   "cell_type": "code",
   "execution_count": 7,
   "id": "2ba7511c-3ed1-4b3a-95c0-982ea181b60f",
   "metadata": {},
   "outputs": [
    {
     "name": "stdout",
     "output_type": "stream",
     "text": [
      "Paid in full: 0.908\n",
      "Charged Off: 0.062\n",
      "Exemption 4: 0.03\n"
     ]
    }
   ],
   "source": [
    "# Baseline model and class imbalance\n",
    "paid_frac = np.sum(ppp['LoanStatus'] == 'Paid in Full') / ppp.shape[0]\n",
    "forgiven_frac = np.sum(ppp['LoanStatus'] == 'Charged Off') / ppp.shape[0]\n",
    "ex4_frac = np.sum(ppp['LoanStatus'] == 'Exemption 4') / ppp.shape[0]\n",
    "print(f'Paid in full: {round(paid_frac, 3)}')\n",
    "print(f'Charged Off: {round(forgiven_frac, 3)}')\n",
    "print(f'Exemption 4: {round(ex4_frac, 3)}')"
   ]
  },
  {
   "cell_type": "markdown",
   "id": "1f59fc18-3f8c-4ff5-bc68-cc0369ec79f6",
   "metadata": {},
   "source": [
    "'Paid in full' is the plurality class at 0.908.  Predicting 'paid in full' 90.8% of the time represents the baseline model which a successful classifier will beat."
   ]
  },
  {
   "cell_type": "markdown",
   "id": "2ee30b8b-8f83-4113-9e42-812beaf6bd4a",
   "metadata": {},
   "source": [
    "### Random Forest"
   ]
  },
  {
   "cell_type": "code",
   "execution_count": 8,
   "id": "a5630cc9-5f63-47dd-a641-a388c2aab577",
   "metadata": {},
   "outputs": [],
   "source": [
    "# type check\n",
    "ppp['SBAOfficeCode'] = ppp['SBAOfficeCode'].astype(int)"
   ]
  },
  {
   "cell_type": "code",
   "execution_count": 9,
   "id": "07246f2f-2fb4-456a-a683-7aba62cabc38",
   "metadata": {},
   "outputs": [
    {
     "data": {
      "text/plain": [
       "0.029796666666666666"
      ]
     },
     "execution_count": 9,
     "metadata": {},
     "output_type": "execute_result"
    }
   ],
   "source": [
    "np.sum(ppp['LoanStatusDate'].isna()) / ppp['LoanStatusDate'].size"
   ]
  },
  {
   "cell_type": "markdown",
   "id": "1617f12f-3b06-4b60-8714-4a257dc27aba",
   "metadata": {},
   "source": [
    "We know that about 2.97% of loans are still in arrears, and the LoanStatusDate will be null. We drop this from the model features for now because this will be highly correlated with the target and lead to data leakage.  We can add this feature back in at a later iteration of the model if we want to see whether the date the loan was forgiven or repaid can predict between these two classes only."
   ]
  },
  {
   "cell_type": "code",
   "execution_count": 10,
   "id": "41a94035-b6b2-462a-8513-aa8fff120eb7",
   "metadata": {},
   "outputs": [
    {
     "data": {
      "text/plain": [
       "4"
      ]
     },
     "execution_count": 10,
     "metadata": {},
     "output_type": "execute_result"
    }
   ],
   "source": [
    "np.sum(ppp['UndisbursedAmount'] > 0)"
   ]
  },
  {
   "cell_type": "code",
   "execution_count": 11,
   "id": "0ae7f2a2-0983-4925-8220-bbb48fbfb631",
   "metadata": {},
   "outputs": [
    {
     "data": {
      "text/html": [
       "<div>\n",
       "<style scoped>\n",
       "    .dataframe tbody tr th:only-of-type {\n",
       "        vertical-align: middle;\n",
       "    }\n",
       "\n",
       "    .dataframe tbody tr th {\n",
       "        vertical-align: top;\n",
       "    }\n",
       "\n",
       "    .dataframe thead th {\n",
       "        text-align: right;\n",
       "    }\n",
       "</style>\n",
       "<table border=\"1\" class=\"dataframe\">\n",
       "  <thead>\n",
       "    <tr style=\"text-align: right;\">\n",
       "      <th></th>\n",
       "      <th>UndisbursedAmount</th>\n",
       "      <th>CurrentApprovalAmount</th>\n",
       "    </tr>\n",
       "  </thead>\n",
       "  <tbody>\n",
       "    <tr>\n",
       "      <th>156358</th>\n",
       "      <td>78230.00</td>\n",
       "      <td>78230.00</td>\n",
       "    </tr>\n",
       "    <tr>\n",
       "      <th>149720</th>\n",
       "      <td>3000.00</td>\n",
       "      <td>28400.00</td>\n",
       "    </tr>\n",
       "    <tr>\n",
       "      <th>772551</th>\n",
       "      <td>0.75</td>\n",
       "      <td>2262.75</td>\n",
       "    </tr>\n",
       "    <tr>\n",
       "      <th>809276</th>\n",
       "      <td>330000.00</td>\n",
       "      <td>0.00</td>\n",
       "    </tr>\n",
       "  </tbody>\n",
       "</table>\n",
       "</div>"
      ],
      "text/plain": [
       "        UndisbursedAmount  CurrentApprovalAmount\n",
       "156358           78230.00               78230.00\n",
       "149720            3000.00               28400.00\n",
       "772551               0.75                2262.75\n",
       "809276          330000.00                   0.00"
      ]
     },
     "execution_count": 11,
     "metadata": {},
     "output_type": "execute_result"
    }
   ],
   "source": [
    "ppp[ppp['UndisbursedAmount'] > 0][['UndisbursedAmount', 'CurrentApprovalAmount']]"
   ]
  },
  {
   "cell_type": "markdown",
   "id": "20fda408-3ff4-4f77-92c9-0b62074f7ee1",
   "metadata": {},
   "source": [
    "Nearly all loans have been disbursed, so we drop UndisbursedAmount from the model because it will not have predictive value."
   ]
  },
  {
   "cell_type": "code",
   "execution_count": 12,
   "id": "8ce977bd-73bf-45af-af8d-d876c679bccb",
   "metadata": {},
   "outputs": [
    {
     "data": {
      "text/plain": [
       "RuralUrbanIndicator\n",
       "U    1618966\n",
       "R     181034\n",
       "Name: count, dtype: int64"
      ]
     },
     "execution_count": 12,
     "metadata": {},
     "output_type": "execute_result"
    }
   ],
   "source": [
    "ppp['RuralUrbanIndicator'].value_counts()"
   ]
  },
  {
   "cell_type": "code",
   "execution_count": 13,
   "id": "87b86f76-6740-4f43-88f0-272023171c3d",
   "metadata": {},
   "outputs": [
    {
     "data": {
      "text/plain": [
       "0"
      ]
     },
     "execution_count": 13,
     "metadata": {},
     "output_type": "execute_result"
    }
   ],
   "source": [
    "np.sum(ppp['RuralUrbanIndicator'].isna())"
   ]
  },
  {
   "cell_type": "code",
   "execution_count": 14,
   "id": "90f4d48d-74de-4fba-8386-1c8adb31b74e",
   "metadata": {},
   "outputs": [
    {
     "data": {
      "text/plain": [
       "HubzoneIndicator\n",
       "N    1308199\n",
       "Y     491801\n",
       "Name: count, dtype: int64"
      ]
     },
     "execution_count": 14,
     "metadata": {},
     "output_type": "execute_result"
    }
   ],
   "source": [
    "ppp['HubzoneIndicator'].value_counts()"
   ]
  },
  {
   "cell_type": "code",
   "execution_count": 15,
   "id": "204a75cc-a358-40c7-91b6-091860761cb7",
   "metadata": {},
   "outputs": [
    {
     "data": {
      "text/plain": [
       "0"
      ]
     },
     "execution_count": 15,
     "metadata": {},
     "output_type": "execute_result"
    }
   ],
   "source": [
    "np.sum(ppp['BusinessAgeDescription'].isna())"
   ]
  },
  {
   "cell_type": "code",
   "execution_count": 16,
   "id": "9890442a-6809-48b6-bfcb-65ab19f4fdab",
   "metadata": {},
   "outputs": [
    {
     "data": {
      "text/plain": [
       "63"
      ]
     },
     "execution_count": 16,
     "metadata": {},
     "output_type": "execute_result"
    }
   ],
   "source": [
    "np.sum(ppp['ProjectCountyName'].isna())"
   ]
  },
  {
   "cell_type": "markdown",
   "id": "2db9e9f1-489c-4c10-94c0-5c2b282af0b1",
   "metadata": {},
   "source": [
    "We do not know what Project features refer to and there are some missing values. We elect to ignore these features."
   ]
  },
  {
   "cell_type": "code",
   "execution_count": 17,
   "id": "de4c2cb3-ff6f-40cd-afd1-bea5d60a05a8",
   "metadata": {},
   "outputs": [
    {
     "data": {
      "text/plain": [
       "54"
      ]
     },
     "execution_count": 17,
     "metadata": {},
     "output_type": "execute_result"
    }
   ],
   "source": [
    "np.sum(ppp['CD'].isna())"
   ]
  },
  {
   "cell_type": "markdown",
   "id": "5deb2744-7aab-4be8-9273-4b1be4b117cf",
   "metadata": {},
   "source": [
    "The congressional district associated with a loan (CD) is important for potentially connecting this dataset to related COVID public health data.  There are some missing values, which we will handle as 'unrecorded'."
   ]
  },
  {
   "cell_type": "code",
   "execution_count": 18,
   "id": "8ffcc431-b874-4512-9809-1d4ff25880ad",
   "metadata": {},
   "outputs": [
    {
     "data": {
      "text/plain": [
       "0"
      ]
     },
     "execution_count": 18,
     "metadata": {},
     "output_type": "execute_result"
    }
   ],
   "source": [
    "ppp['CD'] = ppp['CD'].where(ppp['CD'].notna(), 'unrecorded')\n",
    "np.sum(ppp['CD'].isna())"
   ]
  },
  {
   "cell_type": "code",
   "execution_count": 19,
   "id": "23c8eca4-68a2-46c5-b3bd-58238976ac91",
   "metadata": {},
   "outputs": [
    {
     "data": {
      "text/plain": [
       "0"
      ]
     },
     "execution_count": 19,
     "metadata": {},
     "output_type": "execute_result"
    }
   ],
   "source": [
    "np.sum(ppp['JobsReported'].isna()) # All businesses report number of jobs (business size)"
   ]
  },
  {
   "cell_type": "code",
   "execution_count": 20,
   "id": "ca94aba7-e3cd-4fb6-b08e-9441bf083738",
   "metadata": {},
   "outputs": [
    {
     "data": {
      "text/plain": [
       "dtype('float64')"
      ]
     },
     "execution_count": 20,
     "metadata": {},
     "output_type": "execute_result"
    }
   ],
   "source": [
    "ppp['NAICSCode'].dtypes"
   ]
  },
  {
   "cell_type": "code",
   "execution_count": 21,
   "id": "75e9a635-17fd-4025-8491-cdbbd947e391",
   "metadata": {},
   "outputs": [
    {
     "data": {
      "text/plain": [
       "19483"
      ]
     },
     "execution_count": 21,
     "metadata": {},
     "output_type": "execute_result"
    }
   ],
   "source": [
    "np.sum(ppp['NAICSCode'].isna())"
   ]
  },
  {
   "cell_type": "markdown",
   "id": "dfee58df-3094-4aef-b4c1-4f19bc75be1b",
   "metadata": {},
   "source": [
    "Nearly 20,000 loans do not report the NAICSCode (type of industry) the business operates in.  This information is important for the classifier. We designate unrecorded values as '000000'."
   ]
  },
  {
   "cell_type": "code",
   "execution_count": 22,
   "id": "d3f6a291-9a48-4db4-b986-ce4caaf98a65",
   "metadata": {},
   "outputs": [],
   "source": [
    "# temp_ppp = ppp"
   ]
  },
  {
   "cell_type": "code",
   "execution_count": 23,
   "id": "012d035b-e296-4a22-a0d5-a20e19251b60",
   "metadata": {},
   "outputs": [
    {
     "data": {
      "text/plain": [
       "0"
      ]
     },
     "execution_count": 23,
     "metadata": {},
     "output_type": "execute_result"
    }
   ],
   "source": [
    "ppp['NAICSCode'] = ppp['NAICSCode'].where(ppp['NAICSCode'].notna(), 0)\n",
    "np.sum(ppp['NAICSCode'].isna())"
   ]
  },
  {
   "cell_type": "code",
   "execution_count": 24,
   "id": "eccbd8ce-9372-4b80-94fb-83982c23aaf0",
   "metadata": {
    "scrolled": true
   },
   "outputs": [
    {
     "data": {
      "text/plain": [
       "19483"
      ]
     },
     "execution_count": 24,
     "metadata": {},
     "output_type": "execute_result"
    }
   ],
   "source": [
    "temp = ppp['NAICSCode'].astype(int).astype(str).replace(to_replace='0', value='000000')\n",
    "np.sum(temp == '000000')"
   ]
  },
  {
   "cell_type": "code",
   "execution_count": 25,
   "id": "ba130814-ae4e-4306-b8c9-94d1d3c9d7dd",
   "metadata": {},
   "outputs": [],
   "source": [
    "ppp['NAICSCode'] = temp"
   ]
  },
  {
   "cell_type": "code",
   "execution_count": 26,
   "id": "e1c893f5-728b-4ae0-bb90-62f6233028c4",
   "metadata": {},
   "outputs": [
    {
     "data": {
      "text/plain": [
       "dtype('O')"
      ]
     },
     "execution_count": 26,
     "metadata": {},
     "output_type": "execute_result"
    }
   ],
   "source": [
    "ppp['NAICSCode'].dtypes"
   ]
  },
  {
   "cell_type": "code",
   "execution_count": 27,
   "id": "ee012b5f-2e1d-48d2-8fbf-6be2dc2d12ee",
   "metadata": {},
   "outputs": [
    {
     "data": {
      "text/plain": [
       "Race         0\n",
       "Ethnicity    0\n",
       "Gender       0\n",
       "Veteran      0\n",
       "dtype: int64"
      ]
     },
     "execution_count": 27,
     "metadata": {},
     "output_type": "execute_result"
    }
   ],
   "source": [
    "np.sum(ppp[['Race', 'Ethnicity', 'Gender', 'Veteran']].isna(), axis=0)"
   ]
  },
  {
   "cell_type": "markdown",
   "id": "c2ec8b02-4a3d-4055-8fd6-1f7dcc479809",
   "metadata": {},
   "source": [
    "Demographic information of the business owner has no nulls."
   ]
  },
  {
   "cell_type": "code",
   "execution_count": 28,
   "id": "a2515668-7527-4af1-bba0-7aa3cd1aebdd",
   "metadata": {},
   "outputs": [
    {
     "data": {
      "text/plain": [
       "UTILITIES_PROCEED            1279767\n",
       "PAYROLL_PROCEED                 1379\n",
       "MORTGAGE_INTEREST_PROCEED    1765119\n",
       "RENT_PROCEED                 1730784\n",
       "REFINANCE_EIDL_PROCEED       1784389\n",
       "HEALTH_CARE_PROCEED          1779194\n",
       "DEBT_INTEREST_PROCEED        1784319\n",
       "dtype: int64"
      ]
     },
     "execution_count": 28,
     "metadata": {},
     "output_type": "execute_result"
    }
   ],
   "source": [
    "np.sum(ppp[['UTILITIES_PROCEED', 'PAYROLL_PROCEED', 'MORTGAGE_INTEREST_PROCEED', 'RENT_PROCEED', 'REFINANCE_EIDL_PROCEED', 'HEALTH_CARE_PROCEED', 'DEBT_INTEREST_PROCEED']].isna(), axis=0)"
   ]
  },
  {
   "cell_type": "code",
   "execution_count": 29,
   "id": "14bb2068-3d2a-413e-8f40-c71cdeb7cfb5",
   "metadata": {},
   "outputs": [
    {
     "data": {
      "text/plain": [
       "UTILITIES_PROCEED            0\n",
       "PAYROLL_PROCEED              0\n",
       "MORTGAGE_INTEREST_PROCEED    0\n",
       "RENT_PROCEED                 0\n",
       "REFINANCE_EIDL_PROCEED       0\n",
       "HEALTH_CARE_PROCEED          0\n",
       "DEBT_INTEREST_PROCEED        0\n",
       "dtype: int64"
      ]
     },
     "execution_count": 29,
     "metadata": {},
     "output_type": "execute_result"
    }
   ],
   "source": [
    "# fill nulls as zero\n",
    "temp = ppp[['UTILITIES_PROCEED', 'PAYROLL_PROCEED', 'MORTGAGE_INTEREST_PROCEED', 'RENT_PROCEED', 'REFINANCE_EIDL_PROCEED', 'HEALTH_CARE_PROCEED', 'DEBT_INTEREST_PROCEED']]\n",
    "\n",
    "temp = temp.replace(to_replace=np.nan, value=0.0)\n",
    "np.sum(temp.isna(), axis=0)\n",
    "\n",
    "# df = ppp.drop(['UTILITIES_PROCEED', 'PAYROLL_PROCEED', 'MORTGAGE_INTEREST_PROCEED', 'RENT_PROCEED', 'REFINANCE_EIDL_PROCEED', 'HEALTH_CARE_PROCEED', 'DEBT_INTEREST_PROCEED']).merge(temp, how='left')\n",
    "# df.head(10)"
   ]
  },
  {
   "cell_type": "code",
   "execution_count": 30,
   "id": "53fbad1f-3338-4dda-bb30-14c0cc03ee59",
   "metadata": {},
   "outputs": [],
   "source": [
    "temp_df = ppp.drop(columns=['UTILITIES_PROCEED', 'PAYROLL_PROCEED', 'MORTGAGE_INTEREST_PROCEED', 'RENT_PROCEED', 'REFINANCE_EIDL_PROCEED', 'HEALTH_CARE_PROCEED', 'DEBT_INTEREST_PROCEED'])"
   ]
  },
  {
   "cell_type": "code",
   "execution_count": 31,
   "id": "052aca95-b763-439c-b484-c60164e25e8f",
   "metadata": {},
   "outputs": [],
   "source": [
    "temp_df['UTILITIES_PROCEED'] = temp['UTILITIES_PROCEED']"
   ]
  },
  {
   "cell_type": "code",
   "execution_count": 32,
   "id": "5c47a77e-853d-492d-b6ff-7dbca6f026bf",
   "metadata": {},
   "outputs": [
    {
     "data": {
      "text/plain": [
       "(1800000, 53)"
      ]
     },
     "execution_count": 32,
     "metadata": {},
     "output_type": "execute_result"
    }
   ],
   "source": [
    "# temp_df.shape\n",
    "# temp_df['PAYROLL_PROCEED'] = temp['PAYROLL_PROCEED']\n",
    "# temp_df.shape\n",
    "\n",
    "for proceed in ['UTILITIES_PROCEED', 'PAYROLL_PROCEED', 'MORTGAGE_INTEREST_PROCEED', 'RENT_PROCEED', 'REFINANCE_EIDL_PROCEED', 'HEALTH_CARE_PROCEED', 'DEBT_INTEREST_PROCEED']:\n",
    "    ppp[proceed] = temp[proceed]\n",
    "\n",
    "ppp.shape"
   ]
  },
  {
   "cell_type": "markdown",
   "id": "de4745ce-101b-4c55-b1ed-f7cb823d5a4a",
   "metadata": {},
   "source": [
    "I brute forced adding these columns back because the joins were just doubling the rows instead of using the shared index."
   ]
  },
  {
   "cell_type": "code",
   "execution_count": 34,
   "id": "b83342c0-565e-40a0-a7ee-bf59140c8196",
   "metadata": {},
   "outputs": [
    {
     "data": {
      "text/html": [
       "<div>\n",
       "<style scoped>\n",
       "    .dataframe tbody tr th:only-of-type {\n",
       "        vertical-align: middle;\n",
       "    }\n",
       "\n",
       "    .dataframe tbody tr th {\n",
       "        vertical-align: top;\n",
       "    }\n",
       "\n",
       "    .dataframe thead th {\n",
       "        text-align: right;\n",
       "    }\n",
       "</style>\n",
       "<table border=\"1\" class=\"dataframe\">\n",
       "  <thead>\n",
       "    <tr style=\"text-align: right;\">\n",
       "      <th></th>\n",
       "      <th>UTILITIES_PROCEED</th>\n",
       "      <th>PAYROLL_PROCEED</th>\n",
       "      <th>MORTGAGE_INTEREST_PROCEED</th>\n",
       "      <th>RENT_PROCEED</th>\n",
       "      <th>REFINANCE_EIDL_PROCEED</th>\n",
       "      <th>HEALTH_CARE_PROCEED</th>\n",
       "      <th>DEBT_INTEREST_PROCEED</th>\n",
       "      <th>LoanStatus</th>\n",
       "    </tr>\n",
       "  </thead>\n",
       "  <tbody>\n",
       "    <tr>\n",
       "      <th>0</th>\n",
       "      <td>0.0</td>\n",
       "      <td>18457.00</td>\n",
       "      <td>0.0</td>\n",
       "      <td>0.0</td>\n",
       "      <td>0.0</td>\n",
       "      <td>0.0</td>\n",
       "      <td>0.0</td>\n",
       "      <td>Paid in Full</td>\n",
       "    </tr>\n",
       "    <tr>\n",
       "      <th>1</th>\n",
       "      <td>0.0</td>\n",
       "      <td>18457.00</td>\n",
       "      <td>0.0</td>\n",
       "      <td>0.0</td>\n",
       "      <td>0.0</td>\n",
       "      <td>0.0</td>\n",
       "      <td>0.0</td>\n",
       "      <td>Paid in Full</td>\n",
       "    </tr>\n",
       "    <tr>\n",
       "      <th>2</th>\n",
       "      <td>1.0</td>\n",
       "      <td>18450.65</td>\n",
       "      <td>0.0</td>\n",
       "      <td>0.0</td>\n",
       "      <td>0.0</td>\n",
       "      <td>0.0</td>\n",
       "      <td>0.0</td>\n",
       "      <td>Paid in Full</td>\n",
       "    </tr>\n",
       "    <tr>\n",
       "      <th>3</th>\n",
       "      <td>1.0</td>\n",
       "      <td>18455.00</td>\n",
       "      <td>0.0</td>\n",
       "      <td>0.0</td>\n",
       "      <td>0.0</td>\n",
       "      <td>0.0</td>\n",
       "      <td>0.0</td>\n",
       "      <td>Paid in Full</td>\n",
       "    </tr>\n",
       "    <tr>\n",
       "      <th>4</th>\n",
       "      <td>0.0</td>\n",
       "      <td>18455.00</td>\n",
       "      <td>0.0</td>\n",
       "      <td>0.0</td>\n",
       "      <td>0.0</td>\n",
       "      <td>0.0</td>\n",
       "      <td>0.0</td>\n",
       "      <td>Paid in Full</td>\n",
       "    </tr>\n",
       "    <tr>\n",
       "      <th>...</th>\n",
       "      <td>...</td>\n",
       "      <td>...</td>\n",
       "      <td>...</td>\n",
       "      <td>...</td>\n",
       "      <td>...</td>\n",
       "      <td>...</td>\n",
       "      <td>...</td>\n",
       "      <td>...</td>\n",
       "    </tr>\n",
       "    <tr>\n",
       "      <th>899995</th>\n",
       "      <td>0.0</td>\n",
       "      <td>84752.00</td>\n",
       "      <td>0.0</td>\n",
       "      <td>0.0</td>\n",
       "      <td>0.0</td>\n",
       "      <td>0.0</td>\n",
       "      <td>0.0</td>\n",
       "      <td>Paid in Full</td>\n",
       "    </tr>\n",
       "    <tr>\n",
       "      <th>899996</th>\n",
       "      <td>0.0</td>\n",
       "      <td>84750.00</td>\n",
       "      <td>0.0</td>\n",
       "      <td>0.0</td>\n",
       "      <td>0.0</td>\n",
       "      <td>0.0</td>\n",
       "      <td>0.0</td>\n",
       "      <td>Paid in Full</td>\n",
       "    </tr>\n",
       "    <tr>\n",
       "      <th>899997</th>\n",
       "      <td>0.0</td>\n",
       "      <td>63560.00</td>\n",
       "      <td>0.0</td>\n",
       "      <td>21187.0</td>\n",
       "      <td>0.0</td>\n",
       "      <td>0.0</td>\n",
       "      <td>0.0</td>\n",
       "      <td>Paid in Full</td>\n",
       "    </tr>\n",
       "    <tr>\n",
       "      <th>899998</th>\n",
       "      <td>1.0</td>\n",
       "      <td>84729.00</td>\n",
       "      <td>0.0</td>\n",
       "      <td>0.0</td>\n",
       "      <td>0.0</td>\n",
       "      <td>0.0</td>\n",
       "      <td>0.0</td>\n",
       "      <td>Paid in Full</td>\n",
       "    </tr>\n",
       "    <tr>\n",
       "      <th>899999</th>\n",
       "      <td>0.0</td>\n",
       "      <td>84730.00</td>\n",
       "      <td>0.0</td>\n",
       "      <td>0.0</td>\n",
       "      <td>0.0</td>\n",
       "      <td>0.0</td>\n",
       "      <td>0.0</td>\n",
       "      <td>Paid in Full</td>\n",
       "    </tr>\n",
       "  </tbody>\n",
       "</table>\n",
       "<p>1800000 rows × 8 columns</p>\n",
       "</div>"
      ],
      "text/plain": [
       "        UTILITIES_PROCEED  PAYROLL_PROCEED  MORTGAGE_INTEREST_PROCEED  \\\n",
       "0                     0.0         18457.00                        0.0   \n",
       "1                     0.0         18457.00                        0.0   \n",
       "2                     1.0         18450.65                        0.0   \n",
       "3                     1.0         18455.00                        0.0   \n",
       "4                     0.0         18455.00                        0.0   \n",
       "...                   ...              ...                        ...   \n",
       "899995                0.0         84752.00                        0.0   \n",
       "899996                0.0         84750.00                        0.0   \n",
       "899997                0.0         63560.00                        0.0   \n",
       "899998                1.0         84729.00                        0.0   \n",
       "899999                0.0         84730.00                        0.0   \n",
       "\n",
       "        RENT_PROCEED  REFINANCE_EIDL_PROCEED  HEALTH_CARE_PROCEED  \\\n",
       "0                0.0                     0.0                  0.0   \n",
       "1                0.0                     0.0                  0.0   \n",
       "2                0.0                     0.0                  0.0   \n",
       "3                0.0                     0.0                  0.0   \n",
       "4                0.0                     0.0                  0.0   \n",
       "...              ...                     ...                  ...   \n",
       "899995           0.0                     0.0                  0.0   \n",
       "899996           0.0                     0.0                  0.0   \n",
       "899997       21187.0                     0.0                  0.0   \n",
       "899998           0.0                     0.0                  0.0   \n",
       "899999           0.0                     0.0                  0.0   \n",
       "\n",
       "        DEBT_INTEREST_PROCEED    LoanStatus  \n",
       "0                         0.0  Paid in Full  \n",
       "1                         0.0  Paid in Full  \n",
       "2                         0.0  Paid in Full  \n",
       "3                         0.0  Paid in Full  \n",
       "4                         0.0  Paid in Full  \n",
       "...                       ...           ...  \n",
       "899995                    0.0  Paid in Full  \n",
       "899996                    0.0  Paid in Full  \n",
       "899997                    0.0  Paid in Full  \n",
       "899998                    0.0  Paid in Full  \n",
       "899999                    0.0  Paid in Full  \n",
       "\n",
       "[1800000 rows x 8 columns]"
      ]
     },
     "execution_count": 34,
     "metadata": {},
     "output_type": "execute_result"
    }
   ],
   "source": []
  },
  {
   "cell_type": "code",
   "execution_count": 79,
   "id": "53038719-d7e8-4fb6-b394-1ff4773e51d6",
   "metadata": {},
   "outputs": [
    {
     "data": {
      "text/plain": [
       "BusinessType                   163\n",
       "OriginatingLenderLocationID      0\n",
       "dtype: int64"
      ]
     },
     "execution_count": 79,
     "metadata": {},
     "output_type": "execute_result"
    }
   ],
   "source": [
    "np.sum(ppp[['BusinessType', 'OriginatingLenderLocationID']].isna(), axis=0)"
   ]
  },
  {
   "cell_type": "code",
   "execution_count": 80,
   "id": "eceb2865-8ebc-40a2-a0b1-0fd8fdc37c7a",
   "metadata": {},
   "outputs": [],
   "source": [
    "# Handle 163 null business type\n",
    "bt_temp = ppp['BusinessType'].replace(to_replace=np.nan, value='unrecorded')\n",
    "np.sum(bt_temp.isna())\n",
    "\n",
    "ppp['BusinessType'] = bt_temp"
   ]
  },
  {
   "cell_type": "code",
   "execution_count": 81,
   "id": "23da2197-5d48-443d-84e9-a212306a2f87",
   "metadata": {},
   "outputs": [],
   "source": [
    "ppp['OriginatingLenderLocationID'] = ppp['OriginatingLenderLocationID'].astype(int).astype(str)"
   ]
  },
  {
   "cell_type": "code",
   "execution_count": 82,
   "id": "eee639ef-c821-49a3-9756-ad4356df5c67",
   "metadata": {},
   "outputs": [],
   "source": [
    "# Choose features we believe will be most predictive\n",
    "drop_features = ['LoanNumber', 'DateApproved', 'BorrowerName', 'BorrowerAddress', 'LoanStatusDate', 'UndisbursedAmount', 'ServicingLenderName', 'ServicingLenderAddress', 'ProjectCity', 'ProjectCountyName', 'ProjectState', 'ProjectZip', 'OriginatingLender', 'OriginatingLenderCity', 'OriginatingLenderState', 'ForgivenessAmount', 'ForgivenessDate']\n",
    "temp_dropped = ppp.drop(columns=drop_features)"
   ]
  },
  {
   "cell_type": "code",
   "execution_count": 83,
   "id": "7f43ff16-376a-49bd-8663-c1cf441b76aa",
   "metadata": {},
   "outputs": [
    {
     "data": {
      "text/plain": [
       "Index(['SBAOfficeCode', 'ProcessingMethod', 'BorrowerCity', 'BorrowerState',\n",
       "       'BorrowerZip', 'LoanStatus', 'Term', 'SBAGuarantyPercentage',\n",
       "       'InitialApprovalAmount', 'CurrentApprovalAmount', 'FranchiseName',\n",
       "       'ServicingLenderLocationID', 'ServicingLenderCity',\n",
       "       'ServicingLenderState', 'ServicingLenderZip', 'RuralUrbanIndicator',\n",
       "       'HubzoneIndicator', 'LMIIndicator', 'BusinessAgeDescription', 'CD',\n",
       "       'JobsReported', 'NAICSCode', 'Race', 'Ethnicity', 'UTILITIES_PROCEED',\n",
       "       'PAYROLL_PROCEED', 'MORTGAGE_INTEREST_PROCEED', 'RENT_PROCEED',\n",
       "       'REFINANCE_EIDL_PROCEED', 'HEALTH_CARE_PROCEED',\n",
       "       'DEBT_INTEREST_PROCEED', 'BusinessType', 'OriginatingLenderLocationID',\n",
       "       'Gender', 'Veteran', 'NonProfit'],\n",
       "      dtype='object')"
      ]
     },
     "execution_count": 83,
     "metadata": {},
     "output_type": "execute_result"
    }
   ],
   "source": [
    "temp_dropped.columns"
   ]
  },
  {
   "cell_type": "code",
   "execution_count": 84,
   "id": "c52e28e0-d8d9-4af3-99ae-ac770fb73ca5",
   "metadata": {},
   "outputs": [],
   "source": [
    "ppp = temp_dropped"
   ]
  },
  {
   "cell_type": "code",
   "execution_count": 85,
   "id": "3fef62e6-bbd7-45ea-9110-83df90462086",
   "metadata": {},
   "outputs": [
    {
     "data": {
      "text/plain": [
       "Index(['SBAOfficeCode', 'ProcessingMethod', 'BorrowerCity', 'BorrowerState',\n",
       "       'BorrowerZip', 'LoanStatus', 'Term', 'SBAGuarantyPercentage',\n",
       "       'InitialApprovalAmount', 'CurrentApprovalAmount', 'FranchiseName',\n",
       "       'ServicingLenderLocationID', 'ServicingLenderCity',\n",
       "       'ServicingLenderState', 'ServicingLenderZip', 'RuralUrbanIndicator',\n",
       "       'HubzoneIndicator', 'LMIIndicator', 'BusinessAgeDescription', 'CD',\n",
       "       'JobsReported', 'NAICSCode', 'Race', 'Ethnicity', 'UTILITIES_PROCEED',\n",
       "       'PAYROLL_PROCEED', 'MORTGAGE_INTEREST_PROCEED', 'RENT_PROCEED',\n",
       "       'REFINANCE_EIDL_PROCEED', 'HEALTH_CARE_PROCEED',\n",
       "       'DEBT_INTEREST_PROCEED', 'BusinessType', 'OriginatingLenderLocationID',\n",
       "       'Gender', 'Veteran', 'NonProfit'],\n",
       "      dtype='object')"
      ]
     },
     "execution_count": 85,
     "metadata": {},
     "output_type": "execute_result"
    }
   ],
   "source": [
    "ppp.columns"
   ]
  },
  {
   "cell_type": "markdown",
   "id": "d88f6da9-59e5-4b90-8ef8-7d23d4709f6b",
   "metadata": {},
   "source": [
    "\n",
    "While these proceed data are very important, we have to decide how to best use these.  For now, we can use all of these features as-is.  We must however fill the null values as $0.00.\n",
    "\n",
    "We fit a model to the reduced df."
   ]
  },
  {
   "cell_type": "code",
   "execution_count": 86,
   "id": "0f398146-0c5b-4166-a0fe-dedc9a6c4f7d",
   "metadata": {},
   "outputs": [
    {
     "data": {
      "text/plain": [
       "SBAOfficeCode                        0\n",
       "ProcessingMethod                     0\n",
       "BorrowerCity                        16\n",
       "BorrowerState                        0\n",
       "BorrowerZip                         13\n",
       "LoanStatus                           0\n",
       "Term                                 0\n",
       "SBAGuarantyPercentage                0\n",
       "InitialApprovalAmount                0\n",
       "CurrentApprovalAmount                0\n",
       "FranchiseName                  1780395\n",
       "ServicingLenderLocationID            0\n",
       "ServicingLenderCity                  0\n",
       "ServicingLenderState                 0\n",
       "ServicingLenderZip                   0\n",
       "RuralUrbanIndicator                  0\n",
       "HubzoneIndicator                     0\n",
       "LMIIndicator                         0\n",
       "BusinessAgeDescription               0\n",
       "CD                                   0\n",
       "JobsReported                         0\n",
       "NAICSCode                            0\n",
       "Race                                 0\n",
       "Ethnicity                            0\n",
       "UTILITIES_PROCEED                    0\n",
       "PAYROLL_PROCEED                      0\n",
       "MORTGAGE_INTEREST_PROCEED            0\n",
       "RENT_PROCEED                         0\n",
       "REFINANCE_EIDL_PROCEED               0\n",
       "HEALTH_CARE_PROCEED                  0\n",
       "DEBT_INTEREST_PROCEED                0\n",
       "BusinessType                         0\n",
       "OriginatingLenderLocationID          0\n",
       "Gender                               0\n",
       "Veteran                              0\n",
       "NonProfit                      1773205\n",
       "dtype: int64"
      ]
     },
     "execution_count": 86,
     "metadata": {},
     "output_type": "execute_result"
    }
   ],
   "source": [
    "np.sum(ppp.isna(), axis=0)"
   ]
  },
  {
   "cell_type": "code",
   "execution_count": 87,
   "id": "3c4b6d49-ce7a-4ee1-8c6f-0150966a7590",
   "metadata": {},
   "outputs": [
    {
     "data": {
      "text/plain": [
       "SBAOfficeCode                   0\n",
       "ProcessingMethod                0\n",
       "BorrowerCity                   16\n",
       "BorrowerState                   0\n",
       "BorrowerZip                    13\n",
       "LoanStatus                      0\n",
       "Term                            0\n",
       "SBAGuarantyPercentage           0\n",
       "InitialApprovalAmount           0\n",
       "CurrentApprovalAmount           0\n",
       "ServicingLenderLocationID       0\n",
       "ServicingLenderCity             0\n",
       "ServicingLenderState            0\n",
       "ServicingLenderZip              0\n",
       "RuralUrbanIndicator             0\n",
       "HubzoneIndicator                0\n",
       "LMIIndicator                    0\n",
       "BusinessAgeDescription          0\n",
       "CD                              0\n",
       "JobsReported                    0\n",
       "NAICSCode                       0\n",
       "Race                            0\n",
       "Ethnicity                       0\n",
       "UTILITIES_PROCEED               0\n",
       "PAYROLL_PROCEED                 0\n",
       "MORTGAGE_INTEREST_PROCEED       0\n",
       "RENT_PROCEED                    0\n",
       "REFINANCE_EIDL_PROCEED          0\n",
       "HEALTH_CARE_PROCEED             0\n",
       "DEBT_INTEREST_PROCEED           0\n",
       "BusinessType                    0\n",
       "OriginatingLenderLocationID     0\n",
       "Gender                          0\n",
       "Veteran                         0\n",
       "dtype: int64"
      ]
     },
     "execution_count": 87,
     "metadata": {},
     "output_type": "execute_result"
    }
   ],
   "source": [
    "ppp = ppp.drop(columns=['FranchiseName', 'NonProfit'])\n",
    "np.sum(ppp.isna(), axis=0)"
   ]
  },
  {
   "cell_type": "code",
   "execution_count": 88,
   "id": "9cef0ef1-5bfd-4c68-b039-0fb64b3152be",
   "metadata": {},
   "outputs": [
    {
     "data": {
      "text/plain": [
       "SBAOfficeCode                  0\n",
       "ProcessingMethod               0\n",
       "BorrowerCity                   0\n",
       "BorrowerState                  0\n",
       "BorrowerZip                    0\n",
       "LoanStatus                     0\n",
       "Term                           0\n",
       "SBAGuarantyPercentage          0\n",
       "InitialApprovalAmount          0\n",
       "CurrentApprovalAmount          0\n",
       "ServicingLenderLocationID      0\n",
       "ServicingLenderCity            0\n",
       "ServicingLenderState           0\n",
       "ServicingLenderZip             0\n",
       "RuralUrbanIndicator            0\n",
       "HubzoneIndicator               0\n",
       "LMIIndicator                   0\n",
       "BusinessAgeDescription         0\n",
       "CD                             0\n",
       "JobsReported                   0\n",
       "NAICSCode                      0\n",
       "Race                           0\n",
       "Ethnicity                      0\n",
       "UTILITIES_PROCEED              0\n",
       "PAYROLL_PROCEED                0\n",
       "MORTGAGE_INTEREST_PROCEED      0\n",
       "RENT_PROCEED                   0\n",
       "REFINANCE_EIDL_PROCEED         0\n",
       "HEALTH_CARE_PROCEED            0\n",
       "DEBT_INTEREST_PROCEED          0\n",
       "BusinessType                   0\n",
       "OriginatingLenderLocationID    0\n",
       "Gender                         0\n",
       "Veteran                        0\n",
       "dtype: int64"
      ]
     },
     "execution_count": 88,
     "metadata": {},
     "output_type": "execute_result"
    }
   ],
   "source": [
    "# drop rows with null borrower city and zip\n",
    "\n",
    "temp = ppp[ppp['BorrowerCity'].notna()]\n",
    "ppp = temp\n",
    "np.sum(ppp.isna(), axis=0)"
   ]
  },
  {
   "cell_type": "markdown",
   "id": "b31f81be-9b96-4d2e-bec5-09de7940ae48",
   "metadata": {},
   "source": [
    "Some categorical parameters have too many unique values and are also not very informative.  For example BorrowerCity, Address, Zip.\n",
    "We will drop these categories as they are low priority for inclusion."
   ]
  },
  {
   "cell_type": "code",
   "execution_count": 89,
   "id": "f1383942-94e8-4e2e-a8b4-11beb122397c",
   "metadata": {},
   "outputs": [],
   "source": [
    "low_priority_cats = ['BorrowerCity', 'BorrowerState', 'ServicingLenderCity', 'ServicingLenderCity', 'ServicingLenderState', 'ServicingLenderZip', ] # 'BorrowerZip' added back for 09 model bc it is handling current feature size ok, and it may be valuable for econogeo info\n",
    "ppp = ppp.drop(columns=low_priority_cats)"
   ]
  },
  {
   "cell_type": "markdown",
   "id": "e2245678-28f6-4124-985a-af27a2efc12c",
   "metadata": {},
   "source": [
    "## Binarize the target variable to transform multi-class to binary classification\n",
    "This will greatly simplify fitting and interpreting the metrics.  It also suits the premise of the business recommendations because we are interested in reducing the burden poorly allocated PPP funds, which could be redirected to other kinds of economic relief."
   ]
  },
  {
   "cell_type": "code",
   "execution_count": 36,
   "id": "f7d1e1fb-de06-4864-b4a8-0a0745c630c2",
   "metadata": {},
   "outputs": [
    {
     "data": {
      "text/plain": [
       "LoanStatus\n",
       "1    0.908001\n",
       "0    0.091999\n",
       "Name: proportion, dtype: float64"
      ]
     },
     "execution_count": 36,
     "metadata": {},
     "output_type": "execute_result"
    }
   ],
   "source": [
    "ppp['LoanStatus'] = ppp['LoanStatus'].replace({'Paid in Full' : 1, 'Charged Off' : 0, 'Exemption 4' : 0})\n",
    "\n",
    "ppp['LoanStatus'].value_counts(normalize=True)"
   ]
  },
  {
   "cell_type": "markdown",
   "id": "8c76c392-de3f-4703-b8aa-1dd592bc538e",
   "metadata": {},
   "source": [
    "The nature of our goal:\n",
    "\n",
    "\n",
    "1 - Paid in full\n",
    "0 - Defaulted\n",
    "\n",
    "It is most important to detect loans which will be defaulted on (0). \n",
    "It is most deleterious to detect false positives. (predicting paid (1) when it is actually defaulted (0)). because that means we gave a loan which we thought would be recouped but we actually lost the money. We must maximize *precision* to prevent risk.\n",
    "\n",
    "False negative is when we predict the loan will not be recouped (0) but we actually get the money back (1).  This is less costly because we don't lose any money directly. Although there are indirect consequences like failing to support a business that could have been saved (the opportunity cost of failing to stimulate the economy).\n"
   ]
  },
  {
   "cell_type": "code",
   "execution_count": 39,
   "id": "66cb83aa-b620-47db-b749-78fbc1423d05",
   "metadata": {},
   "outputs": [
    {
     "data": {
      "text/html": [
       "<div>\n",
       "<style scoped>\n",
       "    .dataframe tbody tr th:only-of-type {\n",
       "        vertical-align: middle;\n",
       "    }\n",
       "\n",
       "    .dataframe tbody tr th {\n",
       "        vertical-align: top;\n",
       "    }\n",
       "\n",
       "    .dataframe thead th {\n",
       "        text-align: right;\n",
       "    }\n",
       "</style>\n",
       "<table border=\"1\" class=\"dataframe\">\n",
       "  <thead>\n",
       "    <tr style=\"text-align: right;\">\n",
       "      <th></th>\n",
       "      <th>UTILITIES_PROCEED</th>\n",
       "      <th>PAYROLL_PROCEED</th>\n",
       "      <th>MORTGAGE_INTEREST_PROCEED</th>\n",
       "      <th>RENT_PROCEED</th>\n",
       "      <th>REFINANCE_EIDL_PROCEED</th>\n",
       "      <th>HEALTH_CARE_PROCEED</th>\n",
       "      <th>DEBT_INTEREST_PROCEED</th>\n",
       "      <th>LoanStatus</th>\n",
       "      <th>CurrentApprovalAmount</th>\n",
       "    </tr>\n",
       "  </thead>\n",
       "  <tbody>\n",
       "    <tr>\n",
       "      <th>0</th>\n",
       "      <td>0.0</td>\n",
       "      <td>18457.00</td>\n",
       "      <td>0.0</td>\n",
       "      <td>0.0</td>\n",
       "      <td>0.0</td>\n",
       "      <td>0.0</td>\n",
       "      <td>0.0</td>\n",
       "      <td>1</td>\n",
       "      <td>18457.00</td>\n",
       "    </tr>\n",
       "    <tr>\n",
       "      <th>1</th>\n",
       "      <td>0.0</td>\n",
       "      <td>18457.00</td>\n",
       "      <td>0.0</td>\n",
       "      <td>0.0</td>\n",
       "      <td>0.0</td>\n",
       "      <td>0.0</td>\n",
       "      <td>0.0</td>\n",
       "      <td>1</td>\n",
       "      <td>18457.00</td>\n",
       "    </tr>\n",
       "    <tr>\n",
       "      <th>2</th>\n",
       "      <td>1.0</td>\n",
       "      <td>18450.65</td>\n",
       "      <td>0.0</td>\n",
       "      <td>0.0</td>\n",
       "      <td>0.0</td>\n",
       "      <td>0.0</td>\n",
       "      <td>0.0</td>\n",
       "      <td>1</td>\n",
       "      <td>18456.65</td>\n",
       "    </tr>\n",
       "    <tr>\n",
       "      <th>3</th>\n",
       "      <td>1.0</td>\n",
       "      <td>18455.00</td>\n",
       "      <td>0.0</td>\n",
       "      <td>0.0</td>\n",
       "      <td>0.0</td>\n",
       "      <td>0.0</td>\n",
       "      <td>0.0</td>\n",
       "      <td>1</td>\n",
       "      <td>18456.00</td>\n",
       "    </tr>\n",
       "    <tr>\n",
       "      <th>4</th>\n",
       "      <td>0.0</td>\n",
       "      <td>18455.00</td>\n",
       "      <td>0.0</td>\n",
       "      <td>0.0</td>\n",
       "      <td>0.0</td>\n",
       "      <td>0.0</td>\n",
       "      <td>0.0</td>\n",
       "      <td>1</td>\n",
       "      <td>18455.00</td>\n",
       "    </tr>\n",
       "    <tr>\n",
       "      <th>...</th>\n",
       "      <td>...</td>\n",
       "      <td>...</td>\n",
       "      <td>...</td>\n",
       "      <td>...</td>\n",
       "      <td>...</td>\n",
       "      <td>...</td>\n",
       "      <td>...</td>\n",
       "      <td>...</td>\n",
       "      <td>...</td>\n",
       "    </tr>\n",
       "    <tr>\n",
       "      <th>899995</th>\n",
       "      <td>0.0</td>\n",
       "      <td>84752.00</td>\n",
       "      <td>0.0</td>\n",
       "      <td>0.0</td>\n",
       "      <td>0.0</td>\n",
       "      <td>0.0</td>\n",
       "      <td>0.0</td>\n",
       "      <td>1</td>\n",
       "      <td>84752.00</td>\n",
       "    </tr>\n",
       "    <tr>\n",
       "      <th>899996</th>\n",
       "      <td>0.0</td>\n",
       "      <td>84750.00</td>\n",
       "      <td>0.0</td>\n",
       "      <td>0.0</td>\n",
       "      <td>0.0</td>\n",
       "      <td>0.0</td>\n",
       "      <td>0.0</td>\n",
       "      <td>1</td>\n",
       "      <td>84750.00</td>\n",
       "    </tr>\n",
       "    <tr>\n",
       "      <th>899997</th>\n",
       "      <td>0.0</td>\n",
       "      <td>63560.00</td>\n",
       "      <td>0.0</td>\n",
       "      <td>21187.0</td>\n",
       "      <td>0.0</td>\n",
       "      <td>0.0</td>\n",
       "      <td>0.0</td>\n",
       "      <td>1</td>\n",
       "      <td>84747.00</td>\n",
       "    </tr>\n",
       "    <tr>\n",
       "      <th>899998</th>\n",
       "      <td>1.0</td>\n",
       "      <td>84729.00</td>\n",
       "      <td>0.0</td>\n",
       "      <td>0.0</td>\n",
       "      <td>0.0</td>\n",
       "      <td>0.0</td>\n",
       "      <td>0.0</td>\n",
       "      <td>1</td>\n",
       "      <td>84734.00</td>\n",
       "    </tr>\n",
       "    <tr>\n",
       "      <th>899999</th>\n",
       "      <td>0.0</td>\n",
       "      <td>84730.00</td>\n",
       "      <td>0.0</td>\n",
       "      <td>0.0</td>\n",
       "      <td>0.0</td>\n",
       "      <td>0.0</td>\n",
       "      <td>0.0</td>\n",
       "      <td>1</td>\n",
       "      <td>84730.00</td>\n",
       "    </tr>\n",
       "  </tbody>\n",
       "</table>\n",
       "<p>1800000 rows × 9 columns</p>\n",
       "</div>"
      ],
      "text/plain": [
       "        UTILITIES_PROCEED  PAYROLL_PROCEED  MORTGAGE_INTEREST_PROCEED  \\\n",
       "0                     0.0         18457.00                        0.0   \n",
       "1                     0.0         18457.00                        0.0   \n",
       "2                     1.0         18450.65                        0.0   \n",
       "3                     1.0         18455.00                        0.0   \n",
       "4                     0.0         18455.00                        0.0   \n",
       "...                   ...              ...                        ...   \n",
       "899995                0.0         84752.00                        0.0   \n",
       "899996                0.0         84750.00                        0.0   \n",
       "899997                0.0         63560.00                        0.0   \n",
       "899998                1.0         84729.00                        0.0   \n",
       "899999                0.0         84730.00                        0.0   \n",
       "\n",
       "        RENT_PROCEED  REFINANCE_EIDL_PROCEED  HEALTH_CARE_PROCEED  \\\n",
       "0                0.0                     0.0                  0.0   \n",
       "1                0.0                     0.0                  0.0   \n",
       "2                0.0                     0.0                  0.0   \n",
       "3                0.0                     0.0                  0.0   \n",
       "4                0.0                     0.0                  0.0   \n",
       "...              ...                     ...                  ...   \n",
       "899995           0.0                     0.0                  0.0   \n",
       "899996           0.0                     0.0                  0.0   \n",
       "899997       21187.0                     0.0                  0.0   \n",
       "899998           0.0                     0.0                  0.0   \n",
       "899999           0.0                     0.0                  0.0   \n",
       "\n",
       "        DEBT_INTEREST_PROCEED  LoanStatus  CurrentApprovalAmount  \n",
       "0                         0.0           1               18457.00  \n",
       "1                         0.0           1               18457.00  \n",
       "2                         0.0           1               18456.65  \n",
       "3                         0.0           1               18456.00  \n",
       "4                         0.0           1               18455.00  \n",
       "...                       ...         ...                    ...  \n",
       "899995                    0.0           1               84752.00  \n",
       "899996                    0.0           1               84750.00  \n",
       "899997                    0.0           1               84747.00  \n",
       "899998                    0.0           1               84734.00  \n",
       "899999                    0.0           1               84730.00  \n",
       "\n",
       "[1800000 rows x 9 columns]"
      ]
     },
     "execution_count": 39,
     "metadata": {},
     "output_type": "execute_result"
    }
   ],
   "source": [
    "temp['LoanStatus'] = ppp['LoanStatus']\n",
    "temp['CurrentApprovalAmount'] = ppp['CurrentApprovalAmount']\n",
    "temp"
   ]
  },
  {
   "cell_type": "code",
   "execution_count": 40,
   "id": "19d19a94-1a06-4a09-9ade-4eef1f542cf3",
   "metadata": {},
   "outputs": [
    {
     "data": {
      "text/html": [
       "<div>\n",
       "<style scoped>\n",
       "    .dataframe tbody tr th:only-of-type {\n",
       "        vertical-align: middle;\n",
       "    }\n",
       "\n",
       "    .dataframe tbody tr th {\n",
       "        vertical-align: top;\n",
       "    }\n",
       "\n",
       "    .dataframe thead th {\n",
       "        text-align: right;\n",
       "    }\n",
       "</style>\n",
       "<table border=\"1\" class=\"dataframe\">\n",
       "  <thead>\n",
       "    <tr style=\"text-align: right;\">\n",
       "      <th></th>\n",
       "      <th>UTILITIES_PROCEED</th>\n",
       "      <th>PAYROLL_PROCEED</th>\n",
       "      <th>MORTGAGE_INTEREST_PROCEED</th>\n",
       "      <th>RENT_PROCEED</th>\n",
       "      <th>REFINANCE_EIDL_PROCEED</th>\n",
       "      <th>HEALTH_CARE_PROCEED</th>\n",
       "      <th>DEBT_INTEREST_PROCEED</th>\n",
       "      <th>LoanStatus</th>\n",
       "      <th>CurrentApprovalAmount</th>\n",
       "    </tr>\n",
       "  </thead>\n",
       "  <tbody>\n",
       "    <tr>\n",
       "      <th>0</th>\n",
       "      <td>0.000000</td>\n",
       "      <td>1.000000</td>\n",
       "      <td>0.0</td>\n",
       "      <td>0.000000</td>\n",
       "      <td>0.0</td>\n",
       "      <td>0.0</td>\n",
       "      <td>0.0</td>\n",
       "      <td>1</td>\n",
       "      <td>18457.00</td>\n",
       "    </tr>\n",
       "    <tr>\n",
       "      <th>1</th>\n",
       "      <td>0.000000</td>\n",
       "      <td>1.000000</td>\n",
       "      <td>0.0</td>\n",
       "      <td>0.000000</td>\n",
       "      <td>0.0</td>\n",
       "      <td>0.0</td>\n",
       "      <td>0.0</td>\n",
       "      <td>1</td>\n",
       "      <td>18457.00</td>\n",
       "    </tr>\n",
       "    <tr>\n",
       "      <th>2</th>\n",
       "      <td>0.000054</td>\n",
       "      <td>0.999675</td>\n",
       "      <td>0.0</td>\n",
       "      <td>0.000000</td>\n",
       "      <td>0.0</td>\n",
       "      <td>0.0</td>\n",
       "      <td>0.0</td>\n",
       "      <td>1</td>\n",
       "      <td>18456.65</td>\n",
       "    </tr>\n",
       "    <tr>\n",
       "      <th>3</th>\n",
       "      <td>0.000054</td>\n",
       "      <td>0.999946</td>\n",
       "      <td>0.0</td>\n",
       "      <td>0.000000</td>\n",
       "      <td>0.0</td>\n",
       "      <td>0.0</td>\n",
       "      <td>0.0</td>\n",
       "      <td>1</td>\n",
       "      <td>18456.00</td>\n",
       "    </tr>\n",
       "    <tr>\n",
       "      <th>4</th>\n",
       "      <td>0.000000</td>\n",
       "      <td>1.000000</td>\n",
       "      <td>0.0</td>\n",
       "      <td>0.000000</td>\n",
       "      <td>0.0</td>\n",
       "      <td>0.0</td>\n",
       "      <td>0.0</td>\n",
       "      <td>1</td>\n",
       "      <td>18455.00</td>\n",
       "    </tr>\n",
       "    <tr>\n",
       "      <th>...</th>\n",
       "      <td>...</td>\n",
       "      <td>...</td>\n",
       "      <td>...</td>\n",
       "      <td>...</td>\n",
       "      <td>...</td>\n",
       "      <td>...</td>\n",
       "      <td>...</td>\n",
       "      <td>...</td>\n",
       "      <td>...</td>\n",
       "    </tr>\n",
       "    <tr>\n",
       "      <th>899995</th>\n",
       "      <td>0.000000</td>\n",
       "      <td>1.000000</td>\n",
       "      <td>0.0</td>\n",
       "      <td>0.000000</td>\n",
       "      <td>0.0</td>\n",
       "      <td>0.0</td>\n",
       "      <td>0.0</td>\n",
       "      <td>1</td>\n",
       "      <td>84752.00</td>\n",
       "    </tr>\n",
       "    <tr>\n",
       "      <th>899996</th>\n",
       "      <td>0.000000</td>\n",
       "      <td>1.000000</td>\n",
       "      <td>0.0</td>\n",
       "      <td>0.000000</td>\n",
       "      <td>0.0</td>\n",
       "      <td>0.0</td>\n",
       "      <td>0.0</td>\n",
       "      <td>1</td>\n",
       "      <td>84750.00</td>\n",
       "    </tr>\n",
       "    <tr>\n",
       "      <th>899997</th>\n",
       "      <td>0.000000</td>\n",
       "      <td>0.749997</td>\n",
       "      <td>0.0</td>\n",
       "      <td>0.250003</td>\n",
       "      <td>0.0</td>\n",
       "      <td>0.0</td>\n",
       "      <td>0.0</td>\n",
       "      <td>1</td>\n",
       "      <td>84747.00</td>\n",
       "    </tr>\n",
       "    <tr>\n",
       "      <th>899998</th>\n",
       "      <td>0.000012</td>\n",
       "      <td>0.999941</td>\n",
       "      <td>0.0</td>\n",
       "      <td>0.000000</td>\n",
       "      <td>0.0</td>\n",
       "      <td>0.0</td>\n",
       "      <td>0.0</td>\n",
       "      <td>1</td>\n",
       "      <td>84734.00</td>\n",
       "    </tr>\n",
       "    <tr>\n",
       "      <th>899999</th>\n",
       "      <td>0.000000</td>\n",
       "      <td>1.000000</td>\n",
       "      <td>0.0</td>\n",
       "      <td>0.000000</td>\n",
       "      <td>0.0</td>\n",
       "      <td>0.0</td>\n",
       "      <td>0.0</td>\n",
       "      <td>1</td>\n",
       "      <td>84730.00</td>\n",
       "    </tr>\n",
       "  </tbody>\n",
       "</table>\n",
       "<p>1800000 rows × 9 columns</p>\n",
       "</div>"
      ],
      "text/plain": [
       "        UTILITIES_PROCEED  PAYROLL_PROCEED  MORTGAGE_INTEREST_PROCEED  \\\n",
       "0                0.000000         1.000000                        0.0   \n",
       "1                0.000000         1.000000                        0.0   \n",
       "2                0.000054         0.999675                        0.0   \n",
       "3                0.000054         0.999946                        0.0   \n",
       "4                0.000000         1.000000                        0.0   \n",
       "...                   ...              ...                        ...   \n",
       "899995           0.000000         1.000000                        0.0   \n",
       "899996           0.000000         1.000000                        0.0   \n",
       "899997           0.000000         0.749997                        0.0   \n",
       "899998           0.000012         0.999941                        0.0   \n",
       "899999           0.000000         1.000000                        0.0   \n",
       "\n",
       "        RENT_PROCEED  REFINANCE_EIDL_PROCEED  HEALTH_CARE_PROCEED  \\\n",
       "0           0.000000                     0.0                  0.0   \n",
       "1           0.000000                     0.0                  0.0   \n",
       "2           0.000000                     0.0                  0.0   \n",
       "3           0.000000                     0.0                  0.0   \n",
       "4           0.000000                     0.0                  0.0   \n",
       "...              ...                     ...                  ...   \n",
       "899995      0.000000                     0.0                  0.0   \n",
       "899996      0.000000                     0.0                  0.0   \n",
       "899997      0.250003                     0.0                  0.0   \n",
       "899998      0.000000                     0.0                  0.0   \n",
       "899999      0.000000                     0.0                  0.0   \n",
       "\n",
       "        DEBT_INTEREST_PROCEED  LoanStatus  CurrentApprovalAmount  \n",
       "0                         0.0           1               18457.00  \n",
       "1                         0.0           1               18457.00  \n",
       "2                         0.0           1               18456.65  \n",
       "3                         0.0           1               18456.00  \n",
       "4                         0.0           1               18455.00  \n",
       "...                       ...         ...                    ...  \n",
       "899995                    0.0           1               84752.00  \n",
       "899996                    0.0           1               84750.00  \n",
       "899997                    0.0           1               84747.00  \n",
       "899998                    0.0           1               84734.00  \n",
       "899999                    0.0           1               84730.00  \n",
       "\n",
       "[1800000 rows x 9 columns]"
      ]
     },
     "execution_count": 40,
     "metadata": {},
     "output_type": "execute_result"
    }
   ],
   "source": [
    "for proceed in ['UTILITIES_PROCEED', 'PAYROLL_PROCEED', 'MORTGAGE_INTEREST_PROCEED', 'RENT_PROCEED', 'REFINANCE_EIDL_PROCEED', 'HEALTH_CARE_PROCEED', 'DEBT_INTEREST_PROCEED']:\n",
    "    temp[proceed] = temp[proceed] / temp['CurrentApprovalAmount']\n",
    "\n",
    "temp"
   ]
  },
  {
   "cell_type": "code",
   "execution_count": 44,
   "id": "f8a8d4ce-13b7-4921-a536-357779446ea5",
   "metadata": {},
   "outputs": [
    {
     "data": {
      "text/html": [
       "<div>\n",
       "<style scoped>\n",
       "    .dataframe tbody tr th:only-of-type {\n",
       "        vertical-align: middle;\n",
       "    }\n",
       "\n",
       "    .dataframe tbody tr th {\n",
       "        vertical-align: top;\n",
       "    }\n",
       "\n",
       "    .dataframe thead th {\n",
       "        text-align: right;\n",
       "    }\n",
       "</style>\n",
       "<table border=\"1\" class=\"dataframe\">\n",
       "  <thead>\n",
       "    <tr style=\"text-align: right;\">\n",
       "      <th></th>\n",
       "      <th>UTILITIES_PROCEED</th>\n",
       "      <th>PAYROLL_PROCEED</th>\n",
       "      <th>MORTGAGE_INTEREST_PROCEED</th>\n",
       "      <th>RENT_PROCEED</th>\n",
       "      <th>REFINANCE_EIDL_PROCEED</th>\n",
       "      <th>HEALTH_CARE_PROCEED</th>\n",
       "      <th>DEBT_INTEREST_PROCEED</th>\n",
       "    </tr>\n",
       "  </thead>\n",
       "  <tbody>\n",
       "    <tr>\n",
       "      <th>0</th>\n",
       "      <td>0.000000</td>\n",
       "      <td>1.000000</td>\n",
       "      <td>0.0</td>\n",
       "      <td>0.000000</td>\n",
       "      <td>0.0</td>\n",
       "      <td>0.0</td>\n",
       "      <td>0.0</td>\n",
       "    </tr>\n",
       "    <tr>\n",
       "      <th>1</th>\n",
       "      <td>0.000000</td>\n",
       "      <td>1.000000</td>\n",
       "      <td>0.0</td>\n",
       "      <td>0.000000</td>\n",
       "      <td>0.0</td>\n",
       "      <td>0.0</td>\n",
       "      <td>0.0</td>\n",
       "    </tr>\n",
       "    <tr>\n",
       "      <th>2</th>\n",
       "      <td>0.000054</td>\n",
       "      <td>0.999675</td>\n",
       "      <td>0.0</td>\n",
       "      <td>0.000000</td>\n",
       "      <td>0.0</td>\n",
       "      <td>0.0</td>\n",
       "      <td>0.0</td>\n",
       "    </tr>\n",
       "    <tr>\n",
       "      <th>3</th>\n",
       "      <td>0.000054</td>\n",
       "      <td>0.999946</td>\n",
       "      <td>0.0</td>\n",
       "      <td>0.000000</td>\n",
       "      <td>0.0</td>\n",
       "      <td>0.0</td>\n",
       "      <td>0.0</td>\n",
       "    </tr>\n",
       "    <tr>\n",
       "      <th>4</th>\n",
       "      <td>0.000000</td>\n",
       "      <td>1.000000</td>\n",
       "      <td>0.0</td>\n",
       "      <td>0.000000</td>\n",
       "      <td>0.0</td>\n",
       "      <td>0.0</td>\n",
       "      <td>0.0</td>\n",
       "    </tr>\n",
       "    <tr>\n",
       "      <th>...</th>\n",
       "      <td>...</td>\n",
       "      <td>...</td>\n",
       "      <td>...</td>\n",
       "      <td>...</td>\n",
       "      <td>...</td>\n",
       "      <td>...</td>\n",
       "      <td>...</td>\n",
       "    </tr>\n",
       "    <tr>\n",
       "      <th>899995</th>\n",
       "      <td>0.000000</td>\n",
       "      <td>1.000000</td>\n",
       "      <td>0.0</td>\n",
       "      <td>0.000000</td>\n",
       "      <td>0.0</td>\n",
       "      <td>0.0</td>\n",
       "      <td>0.0</td>\n",
       "    </tr>\n",
       "    <tr>\n",
       "      <th>899996</th>\n",
       "      <td>0.000000</td>\n",
       "      <td>1.000000</td>\n",
       "      <td>0.0</td>\n",
       "      <td>0.000000</td>\n",
       "      <td>0.0</td>\n",
       "      <td>0.0</td>\n",
       "      <td>0.0</td>\n",
       "    </tr>\n",
       "    <tr>\n",
       "      <th>899997</th>\n",
       "      <td>0.000000</td>\n",
       "      <td>0.749997</td>\n",
       "      <td>0.0</td>\n",
       "      <td>0.250003</td>\n",
       "      <td>0.0</td>\n",
       "      <td>0.0</td>\n",
       "      <td>0.0</td>\n",
       "    </tr>\n",
       "    <tr>\n",
       "      <th>899998</th>\n",
       "      <td>0.000012</td>\n",
       "      <td>0.999941</td>\n",
       "      <td>0.0</td>\n",
       "      <td>0.000000</td>\n",
       "      <td>0.0</td>\n",
       "      <td>0.0</td>\n",
       "      <td>0.0</td>\n",
       "    </tr>\n",
       "    <tr>\n",
       "      <th>899999</th>\n",
       "      <td>0.000000</td>\n",
       "      <td>1.000000</td>\n",
       "      <td>0.0</td>\n",
       "      <td>0.000000</td>\n",
       "      <td>0.0</td>\n",
       "      <td>0.0</td>\n",
       "      <td>0.0</td>\n",
       "    </tr>\n",
       "  </tbody>\n",
       "</table>\n",
       "<p>1634401 rows × 7 columns</p>\n",
       "</div>"
      ],
      "text/plain": [
       "        UTILITIES_PROCEED  PAYROLL_PROCEED  MORTGAGE_INTEREST_PROCEED  \\\n",
       "0                0.000000         1.000000                        0.0   \n",
       "1                0.000000         1.000000                        0.0   \n",
       "2                0.000054         0.999675                        0.0   \n",
       "3                0.000054         0.999946                        0.0   \n",
       "4                0.000000         1.000000                        0.0   \n",
       "...                   ...              ...                        ...   \n",
       "899995           0.000000         1.000000                        0.0   \n",
       "899996           0.000000         1.000000                        0.0   \n",
       "899997           0.000000         0.749997                        0.0   \n",
       "899998           0.000012         0.999941                        0.0   \n",
       "899999           0.000000         1.000000                        0.0   \n",
       "\n",
       "        RENT_PROCEED  REFINANCE_EIDL_PROCEED  HEALTH_CARE_PROCEED  \\\n",
       "0           0.000000                     0.0                  0.0   \n",
       "1           0.000000                     0.0                  0.0   \n",
       "2           0.000000                     0.0                  0.0   \n",
       "3           0.000000                     0.0                  0.0   \n",
       "4           0.000000                     0.0                  0.0   \n",
       "...              ...                     ...                  ...   \n",
       "899995      0.000000                     0.0                  0.0   \n",
       "899996      0.000000                     0.0                  0.0   \n",
       "899997      0.250003                     0.0                  0.0   \n",
       "899998      0.000000                     0.0                  0.0   \n",
       "899999      0.000000                     0.0                  0.0   \n",
       "\n",
       "        DEBT_INTEREST_PROCEED  \n",
       "0                         0.0  \n",
       "1                         0.0  \n",
       "2                         0.0  \n",
       "3                         0.0  \n",
       "4                         0.0  \n",
       "...                       ...  \n",
       "899995                    0.0  \n",
       "899996                    0.0  \n",
       "899997                    0.0  \n",
       "899998                    0.0  \n",
       "899999                    0.0  \n",
       "\n",
       "[1634401 rows x 7 columns]"
      ]
     },
     "execution_count": 44,
     "metadata": {},
     "output_type": "execute_result"
    }
   ],
   "source": [
    "# for loans that were paid off\n",
    "paid_costs = temp[temp['LoanStatus'] == 1].drop(columns=['LoanStatus', 'CurrentApprovalAmount'])\n",
    "paid_costs"
   ]
  },
  {
   "cell_type": "code",
   "execution_count": 60,
   "id": "504d8e83-db60-4fdf-9658-895c2b5cd8cc",
   "metadata": {},
   "outputs": [
    {
     "data": {
      "text/html": [
       "<div>\n",
       "<style scoped>\n",
       "    .dataframe tbody tr th:only-of-type {\n",
       "        vertical-align: middle;\n",
       "    }\n",
       "\n",
       "    .dataframe tbody tr th {\n",
       "        vertical-align: top;\n",
       "    }\n",
       "\n",
       "    .dataframe thead th {\n",
       "        text-align: right;\n",
       "    }\n",
       "</style>\n",
       "<table border=\"1\" class=\"dataframe\">\n",
       "  <thead>\n",
       "    <tr style=\"text-align: right;\">\n",
       "      <th></th>\n",
       "      <th>UTILITIES_PROCEED</th>\n",
       "      <th>PAYROLL_PROCEED</th>\n",
       "      <th>MORTGAGE_INTEREST_PROCEED</th>\n",
       "      <th>RENT_PROCEED</th>\n",
       "      <th>REFINANCE_EIDL_PROCEED</th>\n",
       "      <th>HEALTH_CARE_PROCEED</th>\n",
       "      <th>DEBT_INTEREST_PROCEED</th>\n",
       "      <th>CurrentApprovalAmount</th>\n",
       "    </tr>\n",
       "    <tr>\n",
       "      <th>LoanStatus</th>\n",
       "      <th></th>\n",
       "      <th></th>\n",
       "      <th></th>\n",
       "      <th></th>\n",
       "      <th></th>\n",
       "      <th></th>\n",
       "      <th></th>\n",
       "      <th></th>\n",
       "    </tr>\n",
       "  </thead>\n",
       "  <tbody>\n",
       "    <tr>\n",
       "      <th>0</th>\n",
       "      <td>inf</td>\n",
       "      <td>inf</td>\n",
       "      <td>0.000442</td>\n",
       "      <td>0.002417</td>\n",
       "      <td>0.000448</td>\n",
       "      <td>0.000119</td>\n",
       "      <td>0.000148</td>\n",
       "      <td>19333.679308</td>\n",
       "    </tr>\n",
       "    <tr>\n",
       "      <th>1</th>\n",
       "      <td>0.006987</td>\n",
       "      <td>0.98336</td>\n",
       "      <td>0.002031</td>\n",
       "      <td>0.006086</td>\n",
       "      <td>0.000457</td>\n",
       "      <td>0.000713</td>\n",
       "      <td>0.000307</td>\n",
       "      <td>25010.915008</td>\n",
       "    </tr>\n",
       "  </tbody>\n",
       "</table>\n",
       "</div>"
      ],
      "text/plain": [
       "            UTILITIES_PROCEED  PAYROLL_PROCEED  MORTGAGE_INTEREST_PROCEED  \\\n",
       "LoanStatus                                                                  \n",
       "0                         inf              inf                   0.000442   \n",
       "1                    0.006987          0.98336                   0.002031   \n",
       "\n",
       "            RENT_PROCEED  REFINANCE_EIDL_PROCEED  HEALTH_CARE_PROCEED  \\\n",
       "LoanStatus                                                              \n",
       "0               0.002417                0.000448             0.000119   \n",
       "1               0.006086                0.000457             0.000713   \n",
       "\n",
       "            DEBT_INTEREST_PROCEED  CurrentApprovalAmount  \n",
       "LoanStatus                                                \n",
       "0                        0.000148           19333.679308  \n",
       "1                        0.000307           25010.915008  "
      ]
     },
     "execution_count": 60,
     "metadata": {},
     "output_type": "execute_result"
    }
   ],
   "source": [
    "avg_df = temp.groupby('LoanStatus').mean()\n",
    "avg_df"
   ]
  },
  {
   "cell_type": "code",
   "execution_count": 63,
   "id": "40430e92-1137-42d4-8672-b500fb817d4b",
   "metadata": {},
   "outputs": [
    {
     "data": {
      "text/plain": [
       "Index(['UTILITIES_PROCEED', 'PAYROLL_PROCEED', 'MORTGAGE_INTEREST_PROCEED',\n",
       "       'RENT_PROCEED', 'REFINANCE_EIDL_PROCEED', 'HEALTH_CARE_PROCEED',\n",
       "       'DEBT_INTEREST_PROCEED', 'CurrentApprovalAmount'],\n",
       "      dtype='object')"
      ]
     },
     "execution_count": 63,
     "metadata": {},
     "output_type": "execute_result"
    }
   ],
   "source": [
    "avg_df.columns"
   ]
  },
  {
   "cell_type": "code",
   "execution_count": 70,
   "id": "0e8334cf-ac9a-48a6-8460-827e09892977",
   "metadata": {},
   "outputs": [
    {
     "data": {
      "text/plain": [
       "array([[6.98662414e-03, 9.83359520e-01, 2.03052927e-03, 6.08584644e-03,\n",
       "        4.56917565e-04, 7.12586513e-04, 3.06511642e-04, 2.50109150e+04]])"
      ]
     },
     "execution_count": 70,
     "metadata": {},
     "output_type": "execute_result"
    }
   ],
   "source": [
    "avg_df.iloc[1:, :].values"
   ]
  },
  {
   "cell_type": "code",
   "execution_count": 72,
   "id": "ebfd1a24-0efa-4105-a2f0-17e05cf6915a",
   "metadata": {},
   "outputs": [
    {
     "ename": "TypeError",
     "evalue": "bar() missing 1 required positional argument: 'height'",
     "output_type": "error",
     "traceback": [
      "\u001b[0;31m---------------------------------------------------------------------------\u001b[0m",
      "\u001b[0;31mTypeError\u001b[0m                                 Traceback (most recent call last)",
      "Cell \u001b[0;32mIn[72], line 1\u001b[0m\n\u001b[0;32m----> 1\u001b[0m plt\u001b[38;5;241m.\u001b[39mbar(avg_df\u001b[38;5;241m.\u001b[39miloc[\u001b[38;5;241m1\u001b[39m:, :]\u001b[38;5;241m.\u001b[39mvalues)\n",
      "\u001b[0;31mTypeError\u001b[0m: bar() missing 1 required positional argument: 'height'"
     ]
    }
   ],
   "source": [
    "plt.bar(avg_df.iloc[1:, :].values)"
   ]
  },
  {
   "cell_type": "code",
   "execution_count": 73,
   "id": "f11cfa41-3e08-4216-8ed1-9f822cf1ce7c",
   "metadata": {},
   "outputs": [
    {
     "ename": "TypeError",
     "evalue": "bar() missing 2 required positional arguments: 'x' and 'height'",
     "output_type": "error",
     "traceback": [
      "\u001b[0;31m---------------------------------------------------------------------------\u001b[0m",
      "\u001b[0;31mTypeError\u001b[0m                                 Traceback (most recent call last)",
      "Cell \u001b[0;32mIn[73], line 1\u001b[0m\n\u001b[0;32m----> 1\u001b[0m plt\u001b[38;5;241m.\u001b[39mbar(data\u001b[38;5;241m=\u001b[39mavg_df\u001b[38;5;241m.\u001b[39miloc[\u001b[38;5;241m1\u001b[39m:, :])\n",
      "\u001b[0;31mTypeError\u001b[0m: bar() missing 2 required positional arguments: 'x' and 'height'"
     ]
    }
   ],
   "source": [
    "plt.bar(data=avg_df.iloc[1:, :])"
   ]
  },
  {
   "cell_type": "code",
   "execution_count": 74,
   "id": "1cc53253-5da9-4f10-a456-dbff4c45a0b5",
   "metadata": {},
   "outputs": [
    {
     "data": {
      "text/plain": [
       "pandas.core.frame.DataFrame"
      ]
     },
     "execution_count": 74,
     "metadata": {},
     "output_type": "execute_result"
    }
   ],
   "source": [
    "type(avg_df.iloc[1:, :])"
   ]
  },
  {
   "cell_type": "code",
   "execution_count": 75,
   "id": "3c69aa7a-79aa-4bd9-85ef-b599980a1dc1",
   "metadata": {},
   "outputs": [
    {
     "data": {
      "text/plain": [
       "LoanStatus\n",
       "0    100.0\n",
       "1    100.0\n",
       "Name: SBAGuarantyPercentage, dtype: float64"
      ]
     },
     "execution_count": 75,
     "metadata": {},
     "output_type": "execute_result"
    }
   ],
   "source": [
    "ppp.groupby('LoanStatus')['SBAGuarantyPercentage'].mean()"
   ]
  },
  {
   "cell_type": "code",
   "execution_count": 79,
   "id": "8b6f44d0-5381-40eb-a8f7-a1015d296c61",
   "metadata": {},
   "outputs": [],
   "source": [
    "terms = ppp.groupby('LoanStatus')['Term'].mean()"
   ]
  },
  {
   "cell_type": "code",
   "execution_count": 81,
   "id": "0c17f5e9-0c53-4ed4-90a4-b844ac8cf07d",
   "metadata": {},
   "outputs": [
    {
     "data": {
      "text/plain": [
       "LoanStatus\n",
       "0    40.927898\n",
       "1    46.697430\n",
       "Name: Term, dtype: float64"
      ]
     },
     "execution_count": 81,
     "metadata": {},
     "output_type": "execute_result"
    }
   ],
   "source": [
    "terms"
   ]
  },
  {
   "cell_type": "code",
   "execution_count": 82,
   "id": "14015bc7-c5da-4c2f-ba5d-5d9a04a10bce",
   "metadata": {},
   "outputs": [
    {
     "ename": "TypeError",
     "evalue": "bar() missing 1 required positional argument: 'height'",
     "output_type": "error",
     "traceback": [
      "\u001b[0;31m---------------------------------------------------------------------------\u001b[0m",
      "\u001b[0;31mTypeError\u001b[0m                                 Traceback (most recent call last)",
      "Cell \u001b[0;32mIn[82], line 1\u001b[0m\n\u001b[0;32m----> 1\u001b[0m plt\u001b[38;5;241m.\u001b[39mbar(x\u001b[38;5;241m=\u001b[39mterms\u001b[38;5;241m.\u001b[39mindex, y\u001b[38;5;241m=\u001b[39mterms\u001b[38;5;241m.\u001b[39mvalues)\n",
      "\u001b[0;31mTypeError\u001b[0m: bar() missing 1 required positional argument: 'height'"
     ]
    }
   ],
   "source": []
  },
  {
   "cell_type": "markdown",
   "id": "63fa8617-53d8-455f-9cfd-24e8710e01a3",
   "metadata": {},
   "source": [
    "## Here\n",
    "A reduced, cleaned df that is ready to be fit to a rf model."
   ]
  },
  {
   "cell_type": "code",
   "execution_count": 91,
   "id": "6ed4eb4d-74ce-4df4-90f2-496a1af0ff00",
   "metadata": {},
   "outputs": [],
   "source": [
    "ppp.to_csv('../data/cleaned_1and2_reduced.csv', index=False)"
   ]
  }
 ],
 "metadata": {
  "kernelspec": {
   "display_name": "Python 3 (ipykernel)",
   "language": "python",
   "name": "python3"
  },
  "language_info": {
   "codemirror_mode": {
    "name": "ipython",
    "version": 3
   },
   "file_extension": ".py",
   "mimetype": "text/x-python",
   "name": "python",
   "nbconvert_exporter": "python",
   "pygments_lexer": "ipython3",
   "version": "3.11.5"
  }
 },
 "nbformat": 4,
 "nbformat_minor": 5
}
