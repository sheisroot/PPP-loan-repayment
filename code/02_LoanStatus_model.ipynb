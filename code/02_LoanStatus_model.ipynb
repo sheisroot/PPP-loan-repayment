{
 "cells": [
  {
   "cell_type": "code",
   "execution_count": 2,
   "id": "e465568f-5ec6-42b7-91f0-ca77dbb1d9fc",
   "metadata": {},
   "outputs": [],
   "source": [
    "# Imports\n",
    "import numpy as np\n",
    "import pandas as pd\n",
    "import matplotlib.pyplot as plt\n",
    "\n",
    "import os"
   ]
  },
  {
   "cell_type": "markdown",
   "id": "2aab13b8-5f52-4be7-be0e-ba69dd69ae52",
   "metadata": {},
   "source": [
    "## Loan Status Classification"
   ]
  },
  {
   "cell_type": "code",
   "execution_count": 3,
   "id": "9e184f31-b71d-4070-ae6a-28c2d9eb97d9",
   "metadata": {},
   "outputs": [
    {
     "name": "stdout",
     "output_type": "stream",
     "text": [
      "['public_up_to_150k_3_230930.csv', 'public_up_to_150k_11_230930.csv', 'public_up_to_150k_6_230930.csv', 'public_up_to_150k_1_230930.csv', 'public_up_to_150k_9_230930.csv', 'public_up_to_150k_4_230930.csv', 'public_up_to_150k_10_230930.csv', 'public_up_to_150k_7_230930.csv', 'public_up_to_150k_2_230930.csv', 'public_150k_plus_230930.csv', 'placeholder.txt', 'public_up_to_150k_8_230930.csv', 'public_up_to_150k_12_230930.csv', 'public_up_to_150k_5_230930.csv']\n"
     ]
    }
   ],
   "source": [
    "# ppp1 = pd.read_csv('../data/public_up_to_150k_1_230930.csv')\n",
    "path = '../data/'\n",
    "dir_list = os.listdir(path)[:-1] # Exclude the data dict\n",
    "print(dir_list)"
   ]
  },
  {
   "cell_type": "code",
   "execution_count": 82,
   "id": "006b99e2-44b4-4f97-91d0-8a569a109e9b",
   "metadata": {},
   "outputs": [],
   "source": [
    "loans_1 = pd.read_csv(path + dir_list[0])\n",
    "loans_2 = pd.read_csv(path + dir_list[1])\n",
    "ppp = pd.concat([loans_1, loans_2])"
   ]
  },
  {
   "cell_type": "code",
   "execution_count": 5,
   "id": "d1857f53-dc44-416d-b772-e678ba7214e7",
   "metadata": {},
   "outputs": [
    {
     "data": {
      "text/plain": [
       "(1800000, 53)"
      ]
     },
     "execution_count": 5,
     "metadata": {},
     "output_type": "execute_result"
    }
   ],
   "source": [
    "ppp.shape"
   ]
  },
  {
   "cell_type": "code",
   "execution_count": 6,
   "id": "65f3d6da-7629-4384-8c46-5c184a366d9b",
   "metadata": {},
   "outputs": [
    {
     "data": {
      "text/plain": [
       "Index(['LoanNumber', 'DateApproved', 'SBAOfficeCode', 'ProcessingMethod',\n",
       "       'BorrowerName', 'BorrowerAddress', 'BorrowerCity', 'BorrowerState',\n",
       "       'BorrowerZip', 'LoanStatusDate', 'LoanStatus', 'Term',\n",
       "       'SBAGuarantyPercentage', 'InitialApprovalAmount',\n",
       "       'CurrentApprovalAmount', 'UndisbursedAmount', 'FranchiseName',\n",
       "       'ServicingLenderLocationID', 'ServicingLenderName',\n",
       "       'ServicingLenderAddress', 'ServicingLenderCity', 'ServicingLenderState',\n",
       "       'ServicingLenderZip', 'RuralUrbanIndicator', 'HubzoneIndicator',\n",
       "       'LMIIndicator', 'BusinessAgeDescription', 'ProjectCity',\n",
       "       'ProjectCountyName', 'ProjectState', 'ProjectZip', 'CD', 'JobsReported',\n",
       "       'NAICSCode', 'Race', 'Ethnicity', 'UTILITIES_PROCEED',\n",
       "       'PAYROLL_PROCEED', 'MORTGAGE_INTEREST_PROCEED', 'RENT_PROCEED',\n",
       "       'REFINANCE_EIDL_PROCEED', 'HEALTH_CARE_PROCEED',\n",
       "       'DEBT_INTEREST_PROCEED', 'BusinessType', 'OriginatingLenderLocationID',\n",
       "       'OriginatingLender', 'OriginatingLenderCity', 'OriginatingLenderState',\n",
       "       'Gender', 'Veteran', 'NonProfit', 'ForgivenessAmount',\n",
       "       'ForgivenessDate'],\n",
       "      dtype='object')"
      ]
     },
     "execution_count": 6,
     "metadata": {},
     "output_type": "execute_result"
    }
   ],
   "source": [
    "ppp.columns"
   ]
  },
  {
   "cell_type": "code",
   "execution_count": 10,
   "id": "5cdf1d9c-d629-4c27-981d-532d157f73fb",
   "metadata": {},
   "outputs": [
    {
     "name": "stdout",
     "output_type": "stream",
     "text": [
      "LoanStatus\n",
      "Paid in Full    1634401\n",
      "Charged Off      111965\n",
      "Exemption 4       53634\n",
      "Name: count, dtype: int64\n",
      "0\n"
     ]
    }
   ],
   "source": [
    "print(ppp['LoanStatus'].value_counts())\n",
    "print(np.sum(ppp['LoanStatus'].isna())) # no nulls"
   ]
  },
  {
   "cell_type": "code",
   "execution_count": 15,
   "id": "2ba7511c-3ed1-4b3a-95c0-982ea181b60f",
   "metadata": {},
   "outputs": [
    {
     "name": "stdout",
     "output_type": "stream",
     "text": [
      "Paid in full: 0.908\n",
      "Charged Off: 0.062\n",
      "Exemption 4: 0.03\n"
     ]
    }
   ],
   "source": [
    "# Baseline model and class imbalance\n",
    "paid_frac = np.sum(ppp['LoanStatus'] == 'Paid in Full') / ppp.shape[0]\n",
    "forgiven_frac = np.sum(ppp['LoanStatus'] == 'Charged Off') / ppp.shape[0]\n",
    "ex4_frac = np.sum(ppp['LoanStatus'] == 'Exemption 4') / ppp.shape[0]\n",
    "print(f'Paid in full: {round(paid_frac, 3)}')\n",
    "print(f'Charged Off: {round(forgiven_frac, 3)}')\n",
    "print(f'Exemption 4: {round(ex4_frac, 3)}')"
   ]
  },
  {
   "cell_type": "markdown",
   "id": "1f59fc18-3f8c-4ff5-bc68-cc0369ec79f6",
   "metadata": {},
   "source": [
    "'Paid in full' is the plurality class at 0.908.  Predicting 'paid in full' 90.8% of the time represents the baseline model which a successful classifier will beat."
   ]
  },
  {
   "cell_type": "markdown",
   "id": "2ee30b8b-8f83-4113-9e42-812beaf6bd4a",
   "metadata": {},
   "source": [
    "### Random Forest"
   ]
  },
  {
   "cell_type": "code",
   "execution_count": 83,
   "id": "a5630cc9-5f63-47dd-a641-a388c2aab577",
   "metadata": {},
   "outputs": [],
   "source": [
    "# type check\n",
    "ppp['SBAOfficeCode'] = ppp['SBAOfficeCode'].astype(int)"
   ]
  },
  {
   "cell_type": "code",
   "execution_count": 84,
   "id": "07246f2f-2fb4-456a-a683-7aba62cabc38",
   "metadata": {},
   "outputs": [
    {
     "data": {
      "text/plain": [
       "0.029796666666666666"
      ]
     },
     "execution_count": 84,
     "metadata": {},
     "output_type": "execute_result"
    }
   ],
   "source": [
    "np.sum(ppp['LoanStatusDate'].isna()) / ppp['LoanStatusDate'].size"
   ]
  },
  {
   "cell_type": "markdown",
   "id": "1617f12f-3b06-4b60-8714-4a257dc27aba",
   "metadata": {},
   "source": [
    "We know that about 2.97% of loans are still in arrears, and the LoanStatusDate will be null. We drop this from the model features for now because this will be highly correlated with the target and lead to data leakage.  We can add this feature back in at a later iteration of the model if we want to see whether the date the loan was forgiven or repaid can predict between these two classes only."
   ]
  },
  {
   "cell_type": "code",
   "execution_count": 24,
   "id": "41a94035-b6b2-462a-8513-aa8fff120eb7",
   "metadata": {},
   "outputs": [
    {
     "data": {
      "text/plain": [
       "4"
      ]
     },
     "execution_count": 24,
     "metadata": {},
     "output_type": "execute_result"
    }
   ],
   "source": [
    "np.sum(ppp['UndisbursedAmount'] > 0)"
   ]
  },
  {
   "cell_type": "code",
   "execution_count": 26,
   "id": "0ae7f2a2-0983-4925-8220-bbb48fbfb631",
   "metadata": {},
   "outputs": [
    {
     "data": {
      "text/html": [
       "<div>\n",
       "<style scoped>\n",
       "    .dataframe tbody tr th:only-of-type {\n",
       "        vertical-align: middle;\n",
       "    }\n",
       "\n",
       "    .dataframe tbody tr th {\n",
       "        vertical-align: top;\n",
       "    }\n",
       "\n",
       "    .dataframe thead th {\n",
       "        text-align: right;\n",
       "    }\n",
       "</style>\n",
       "<table border=\"1\" class=\"dataframe\">\n",
       "  <thead>\n",
       "    <tr style=\"text-align: right;\">\n",
       "      <th></th>\n",
       "      <th>UndisbursedAmount</th>\n",
       "      <th>CurrentApprovalAmount</th>\n",
       "    </tr>\n",
       "  </thead>\n",
       "  <tbody>\n",
       "    <tr>\n",
       "      <th>156358</th>\n",
       "      <td>78230.00</td>\n",
       "      <td>78230.00</td>\n",
       "    </tr>\n",
       "    <tr>\n",
       "      <th>149720</th>\n",
       "      <td>3000.00</td>\n",
       "      <td>28400.00</td>\n",
       "    </tr>\n",
       "    <tr>\n",
       "      <th>772551</th>\n",
       "      <td>0.75</td>\n",
       "      <td>2262.75</td>\n",
       "    </tr>\n",
       "    <tr>\n",
       "      <th>809276</th>\n",
       "      <td>330000.00</td>\n",
       "      <td>0.00</td>\n",
       "    </tr>\n",
       "  </tbody>\n",
       "</table>\n",
       "</div>"
      ],
      "text/plain": [
       "        UndisbursedAmount  CurrentApprovalAmount\n",
       "156358           78230.00               78230.00\n",
       "149720            3000.00               28400.00\n",
       "772551               0.75                2262.75\n",
       "809276          330000.00                   0.00"
      ]
     },
     "execution_count": 26,
     "metadata": {},
     "output_type": "execute_result"
    }
   ],
   "source": [
    "ppp[ppp['UndisbursedAmount'] > 0][['UndisbursedAmount', 'CurrentApprovalAmount']]"
   ]
  },
  {
   "cell_type": "markdown",
   "id": "20fda408-3ff4-4f77-92c9-0b62074f7ee1",
   "metadata": {},
   "source": [
    "Nearly all loans have been disbursed, so we drop UndisbursedAmount from the model because it will not have predictive value."
   ]
  },
  {
   "cell_type": "code",
   "execution_count": 30,
   "id": "8ce977bd-73bf-45af-af8d-d876c679bccb",
   "metadata": {},
   "outputs": [
    {
     "data": {
      "text/plain": [
       "RuralUrbanIndicator\n",
       "U    1618966\n",
       "R     181034\n",
       "Name: count, dtype: int64"
      ]
     },
     "execution_count": 30,
     "metadata": {},
     "output_type": "execute_result"
    }
   ],
   "source": [
    "ppp['RuralUrbanIndicator'].value_counts()"
   ]
  },
  {
   "cell_type": "code",
   "execution_count": 31,
   "id": "87b86f76-6740-4f43-88f0-272023171c3d",
   "metadata": {},
   "outputs": [
    {
     "data": {
      "text/plain": [
       "0"
      ]
     },
     "execution_count": 31,
     "metadata": {},
     "output_type": "execute_result"
    }
   ],
   "source": [
    "np.sum(ppp['RuralUrbanIndicator'].isna())"
   ]
  },
  {
   "cell_type": "code",
   "execution_count": 32,
   "id": "90f4d48d-74de-4fba-8386-1c8adb31b74e",
   "metadata": {},
   "outputs": [
    {
     "data": {
      "text/plain": [
       "HubzoneIndicator\n",
       "N    1308199\n",
       "Y     491801\n",
       "Name: count, dtype: int64"
      ]
     },
     "execution_count": 32,
     "metadata": {},
     "output_type": "execute_result"
    }
   ],
   "source": [
    "ppp['HubzoneIndicator'].value_counts()"
   ]
  },
  {
   "cell_type": "code",
   "execution_count": 33,
   "id": "204a75cc-a358-40c7-91b6-091860761cb7",
   "metadata": {},
   "outputs": [
    {
     "data": {
      "text/plain": [
       "0"
      ]
     },
     "execution_count": 33,
     "metadata": {},
     "output_type": "execute_result"
    }
   ],
   "source": [
    "np.sum(ppp['BusinessAgeDescription'].isna())"
   ]
  },
  {
   "cell_type": "code",
   "execution_count": 35,
   "id": "9890442a-6809-48b6-bfcb-65ab19f4fdab",
   "metadata": {},
   "outputs": [
    {
     "data": {
      "text/plain": [
       "63"
      ]
     },
     "execution_count": 35,
     "metadata": {},
     "output_type": "execute_result"
    }
   ],
   "source": [
    "np.sum(ppp['ProjectCountyName'].isna())"
   ]
  },
  {
   "cell_type": "markdown",
   "id": "2db9e9f1-489c-4c10-94c0-5c2b282af0b1",
   "metadata": {},
   "source": [
    "We do not know what Project features refer to and there are some missing values. We elect to ignore these features."
   ]
  },
  {
   "cell_type": "code",
   "execution_count": 36,
   "id": "de4c2cb3-ff6f-40cd-afd1-bea5d60a05a8",
   "metadata": {},
   "outputs": [
    {
     "data": {
      "text/plain": [
       "54"
      ]
     },
     "execution_count": 36,
     "metadata": {},
     "output_type": "execute_result"
    }
   ],
   "source": [
    "np.sum(ppp['CD'].isna())"
   ]
  },
  {
   "cell_type": "markdown",
   "id": "5deb2744-7aab-4be8-9273-4b1be4b117cf",
   "metadata": {},
   "source": [
    "The congressional district associated with a loan (CD) is important for potentially connecting this dataset to related COVID public health data.  There are some missing values, which we will handle as 'unrecorded'."
   ]
  },
  {
   "cell_type": "code",
   "execution_count": 102,
   "id": "8ffcc431-b874-4512-9809-1d4ff25880ad",
   "metadata": {},
   "outputs": [
    {
     "data": {
      "text/plain": [
       "0"
      ]
     },
     "execution_count": 102,
     "metadata": {},
     "output_type": "execute_result"
    }
   ],
   "source": [
    "ppp['CD'] = ppp['CD'].where(ppp['CD'].notna(), 'unrecorded')\n",
    "np.sum(ppp['CD'].isna())"
   ]
  },
  {
   "cell_type": "code",
   "execution_count": 103,
   "id": "23c8eca4-68a2-46c5-b3bd-58238976ac91",
   "metadata": {},
   "outputs": [
    {
     "data": {
      "text/plain": [
       "0"
      ]
     },
     "execution_count": 103,
     "metadata": {},
     "output_type": "execute_result"
    }
   ],
   "source": [
    "np.sum(ppp['JobsReported'].isna()) # All businesses report number of jobs (business size)"
   ]
  },
  {
   "cell_type": "code",
   "execution_count": 88,
   "id": "ca94aba7-e3cd-4fb6-b08e-9441bf083738",
   "metadata": {},
   "outputs": [
    {
     "data": {
      "text/plain": [
       "dtype('float64')"
      ]
     },
     "execution_count": 88,
     "metadata": {},
     "output_type": "execute_result"
    }
   ],
   "source": [
    "ppp['NAICSCode'].dtypes"
   ]
  },
  {
   "cell_type": "code",
   "execution_count": 89,
   "id": "75e9a635-17fd-4025-8491-cdbbd947e391",
   "metadata": {},
   "outputs": [
    {
     "data": {
      "text/plain": [
       "19483"
      ]
     },
     "execution_count": 89,
     "metadata": {},
     "output_type": "execute_result"
    }
   ],
   "source": [
    "np.sum(ppp['NAICSCode'].isna())"
   ]
  },
  {
   "cell_type": "markdown",
   "id": "dfee58df-3094-4aef-b4c1-4f19bc75be1b",
   "metadata": {},
   "source": [
    "Nearly 20,000 loans do not report the NAICSCode (type of industry) the business operates in.  This information is important for the classifier. We designate unrecorded values as '000000'."
   ]
  },
  {
   "cell_type": "code",
   "execution_count": 90,
   "id": "d3f6a291-9a48-4db4-b986-ce4caaf98a65",
   "metadata": {},
   "outputs": [],
   "source": [
    "# temp_ppp = ppp"
   ]
  },
  {
   "cell_type": "code",
   "execution_count": 92,
   "id": "012d035b-e296-4a22-a0d5-a20e19251b60",
   "metadata": {},
   "outputs": [
    {
     "data": {
      "text/plain": [
       "0"
      ]
     },
     "execution_count": 92,
     "metadata": {},
     "output_type": "execute_result"
    }
   ],
   "source": [
    "ppp['NAICSCode'] = ppp['NAICSCode'].where(ppp['NAICSCode'].notna(), 0)\n",
    "np.sum(ppp['NAICSCode'].isna())"
   ]
  },
  {
   "cell_type": "code",
   "execution_count": 99,
   "id": "eccbd8ce-9372-4b80-94fb-83982c23aaf0",
   "metadata": {
    "scrolled": true
   },
   "outputs": [
    {
     "data": {
      "text/plain": [
       "19483"
      ]
     },
     "execution_count": 99,
     "metadata": {},
     "output_type": "execute_result"
    }
   ],
   "source": [
    "temp = ppp['NAICSCode'].astype(int).astype(str).replace(to_replace='0', value='000000')\n",
    "np.sum(temp == '000000')"
   ]
  },
  {
   "cell_type": "code",
   "execution_count": 100,
   "id": "ba130814-ae4e-4306-b8c9-94d1d3c9d7dd",
   "metadata": {},
   "outputs": [],
   "source": [
    "ppp['NAICSCode'] = temp"
   ]
  },
  {
   "cell_type": "code",
   "execution_count": 101,
   "id": "e1c893f5-728b-4ae0-bb90-62f6233028c4",
   "metadata": {},
   "outputs": [
    {
     "data": {
      "text/plain": [
       "dtype('O')"
      ]
     },
     "execution_count": 101,
     "metadata": {},
     "output_type": "execute_result"
    }
   ],
   "source": [
    "ppp['NAICSCode'].dtypes"
   ]
  },
  {
   "cell_type": "code",
   "execution_count": null,
   "id": "eee639ef-c821-49a3-9756-ad4356df5c67",
   "metadata": {},
   "outputs": [],
   "source": [
    "# Choose features we believe will be most predictive\n",
    "drop_features = ['LoanNumber', 'DateApproved', 'BorrowerName', 'BorrowerAddress', 'LoanStatusDate', 'UndisbursedAmount', 'ServicingLenderName', 'ServicingLenderAddress', 'ProjectCity', 'ProjectCountyName', 'ProjectState', 'ProjectZip', \n",
    "ppp.drop("
   ]
  },
  {
   "cell_type": "code",
   "execution_count": 107,
   "id": "ee012b5f-2e1d-48d2-8fbf-6be2dc2d12ee",
   "metadata": {},
   "outputs": [
    {
     "data": {
      "text/plain": [
       "Race         0\n",
       "Ethnicity    0\n",
       "Gender       0\n",
       "Veteran      0\n",
       "dtype: int64"
      ]
     },
     "execution_count": 107,
     "metadata": {},
     "output_type": "execute_result"
    }
   ],
   "source": [
    "np.sum(ppp[['Race', 'Ethnicity', 'Gender', 'Veteran']].isna(), axis=0)"
   ]
  },
  {
   "cell_type": "markdown",
   "id": "c2ec8b02-4a3d-4055-8fd6-1f7dcc479809",
   "metadata": {},
   "source": [
    "Demographic information of the business owner has no nulls."
   ]
  },
  {
   "cell_type": "code",
   "execution_count": 108,
   "id": "a2515668-7527-4af1-bba0-7aa3cd1aebdd",
   "metadata": {},
   "outputs": [
    {
     "data": {
      "text/plain": [
       "UTILITIES_PROCEED            1279767\n",
       "PAYROLL_PROCEED                 1379\n",
       "MORTGAGE_INTEREST_PROCEED    1765119\n",
       "RENT_PROCEED                 1730784\n",
       "REFINANCE_EIDL_PROCEED       1784389\n",
       "HEALTH_CARE_PROCEED          1779194\n",
       "DEBT_INTEREST_PROCEED        1784319\n",
       "dtype: int64"
      ]
     },
     "execution_count": 108,
     "metadata": {},
     "output_type": "execute_result"
    }
   ],
   "source": [
    "np.sum(ppp[['UTILITIES_PROCEED', 'PAYROLL_PROCEED', 'MORTGAGE_INTEREST_PROCEED', 'RENT_PROCEED', 'REFINANCE_EIDL_PROCEED', 'HEALTH_CARE_PROCEED', 'DEBT_INTEREST_PROCEED']].isna(), axis=0)"
   ]
  },
  {
   "cell_type": "code",
   "execution_count": null,
   "id": "e3c84fd4-2f20-4ce5-8550-5f6fb97789e4",
   "metadata": {},
   "outputs": [],
   "source": []
  }
 ],
 "metadata": {
  "kernelspec": {
   "display_name": "Python 3 (ipykernel)",
   "language": "python",
   "name": "python3"
  },
  "language_info": {
   "codemirror_mode": {
    "name": "ipython",
    "version": 3
   },
   "file_extension": ".py",
   "mimetype": "text/x-python",
   "name": "python",
   "nbconvert_exporter": "python",
   "pygments_lexer": "ipython3",
   "version": "3.11.5"
  }
 },
 "nbformat": 4,
 "nbformat_minor": 5
}
