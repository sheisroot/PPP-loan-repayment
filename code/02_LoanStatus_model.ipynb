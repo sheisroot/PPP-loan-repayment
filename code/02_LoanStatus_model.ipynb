{
 "cells": [
  {
   "cell_type": "code",
   "execution_count": 110,
   "id": "38a27a2c-56df-407f-90b1-bdc181af6270",
   "metadata": {},
   "outputs": [],
   "source": [
    "# Imports\n",
    "import numpy as np\n",
    "import pandas as pd\n",
    "import matplotlib.pyplot as plt\n",
    "\n",
    "from sklearn.preprocessing import OneHotEncoder, StandardScaler\n",
    "from sklearn.compose import ColumnTransformer\n",
    "from sklearn.pipeline import Pipeline\n",
    "from sklearn.ensemble import RandomForestClassifier, ExtraTreesClassifier\n",
    "from sklearn.model_selection import train_test_split, GridSearchCV, RandomizedSearchCV\n",
    "from sklearn.metrics import confusion_matrix, ConfusionMatrixDisplay"
   ]
  },
  {
   "cell_type": "code",
   "execution_count": 3,
   "id": "975f09a7-bd63-4f4c-9511-e18012d86047",
   "metadata": {},
   "outputs": [
    {
     "data": {
      "text/html": [
       "<div>\n",
       "<style scoped>\n",
       "    .dataframe tbody tr th:only-of-type {\n",
       "        vertical-align: middle;\n",
       "    }\n",
       "\n",
       "    .dataframe tbody tr th {\n",
       "        vertical-align: top;\n",
       "    }\n",
       "\n",
       "    .dataframe thead th {\n",
       "        text-align: right;\n",
       "    }\n",
       "</style>\n",
       "<table border=\"1\" class=\"dataframe\">\n",
       "  <thead>\n",
       "    <tr style=\"text-align: right;\">\n",
       "      <th></th>\n",
       "      <th>SBAOfficeCode</th>\n",
       "      <th>ProcessingMethod</th>\n",
       "      <th>BorrowerCity</th>\n",
       "      <th>BorrowerState</th>\n",
       "      <th>BorrowerZip</th>\n",
       "      <th>LoanStatus</th>\n",
       "      <th>Term</th>\n",
       "      <th>SBAGuarantyPercentage</th>\n",
       "      <th>InitialApprovalAmount</th>\n",
       "      <th>CurrentApprovalAmount</th>\n",
       "      <th>...</th>\n",
       "      <th>PAYROLL_PROCEED</th>\n",
       "      <th>MORTGAGE_INTEREST_PROCEED</th>\n",
       "      <th>RENT_PROCEED</th>\n",
       "      <th>REFINANCE_EIDL_PROCEED</th>\n",
       "      <th>HEALTH_CARE_PROCEED</th>\n",
       "      <th>DEBT_INTEREST_PROCEED</th>\n",
       "      <th>BusinessType</th>\n",
       "      <th>OriginatingLenderLocationID</th>\n",
       "      <th>Gender</th>\n",
       "      <th>Veteran</th>\n",
       "    </tr>\n",
       "  </thead>\n",
       "  <tbody>\n",
       "    <tr>\n",
       "      <th>0</th>\n",
       "      <td>156</td>\n",
       "      <td>PPP</td>\n",
       "      <td>NORWALK</td>\n",
       "      <td>CT</td>\n",
       "      <td>06853-1207</td>\n",
       "      <td>Paid in Full</td>\n",
       "      <td>24</td>\n",
       "      <td>100</td>\n",
       "      <td>18457.00</td>\n",
       "      <td>18457.00</td>\n",
       "      <td>...</td>\n",
       "      <td>18457.00</td>\n",
       "      <td>0.0</td>\n",
       "      <td>0.0</td>\n",
       "      <td>0.0</td>\n",
       "      <td>0.0</td>\n",
       "      <td>0.0</td>\n",
       "      <td>Limited  Liability Company(LLC)</td>\n",
       "      <td>9551</td>\n",
       "      <td>Unanswered</td>\n",
       "      <td>Unanswered</td>\n",
       "    </tr>\n",
       "    <tr>\n",
       "      <th>1</th>\n",
       "      <td>156</td>\n",
       "      <td>PPP</td>\n",
       "      <td>WEST HARTFORD</td>\n",
       "      <td>CT</td>\n",
       "      <td>06107-2103</td>\n",
       "      <td>Paid in Full</td>\n",
       "      <td>24</td>\n",
       "      <td>100</td>\n",
       "      <td>18457.00</td>\n",
       "      <td>18457.00</td>\n",
       "      <td>...</td>\n",
       "      <td>18457.00</td>\n",
       "      <td>0.0</td>\n",
       "      <td>0.0</td>\n",
       "      <td>0.0</td>\n",
       "      <td>0.0</td>\n",
       "      <td>0.0</td>\n",
       "      <td>Corporation</td>\n",
       "      <td>9551</td>\n",
       "      <td>Female Owned</td>\n",
       "      <td>Unanswered</td>\n",
       "    </tr>\n",
       "    <tr>\n",
       "      <th>2</th>\n",
       "      <td>156</td>\n",
       "      <td>PPS</td>\n",
       "      <td>Ashford</td>\n",
       "      <td>CT</td>\n",
       "      <td>06278-1421</td>\n",
       "      <td>Paid in Full</td>\n",
       "      <td>60</td>\n",
       "      <td>100</td>\n",
       "      <td>18456.65</td>\n",
       "      <td>18456.65</td>\n",
       "      <td>...</td>\n",
       "      <td>18450.65</td>\n",
       "      <td>0.0</td>\n",
       "      <td>0.0</td>\n",
       "      <td>0.0</td>\n",
       "      <td>0.0</td>\n",
       "      <td>0.0</td>\n",
       "      <td>Limited  Liability Company(LLC)</td>\n",
       "      <td>93682</td>\n",
       "      <td>Female Owned</td>\n",
       "      <td>Non-Veteran</td>\n",
       "    </tr>\n",
       "    <tr>\n",
       "      <th>3</th>\n",
       "      <td>156</td>\n",
       "      <td>PPP</td>\n",
       "      <td>Niantic</td>\n",
       "      <td>CT</td>\n",
       "      <td>06357-1742</td>\n",
       "      <td>Paid in Full</td>\n",
       "      <td>60</td>\n",
       "      <td>100</td>\n",
       "      <td>18456.00</td>\n",
       "      <td>18456.00</td>\n",
       "      <td>...</td>\n",
       "      <td>18455.00</td>\n",
       "      <td>0.0</td>\n",
       "      <td>0.0</td>\n",
       "      <td>0.0</td>\n",
       "      <td>0.0</td>\n",
       "      <td>0.0</td>\n",
       "      <td>Single Member LLC</td>\n",
       "      <td>93490</td>\n",
       "      <td>Male Owned</td>\n",
       "      <td>Non-Veteran</td>\n",
       "    </tr>\n",
       "    <tr>\n",
       "      <th>4</th>\n",
       "      <td>156</td>\n",
       "      <td>PPP</td>\n",
       "      <td>Newington</td>\n",
       "      <td>CT</td>\n",
       "      <td>06111-2212</td>\n",
       "      <td>Paid in Full</td>\n",
       "      <td>60</td>\n",
       "      <td>100</td>\n",
       "      <td>18455.00</td>\n",
       "      <td>18455.00</td>\n",
       "      <td>...</td>\n",
       "      <td>18455.00</td>\n",
       "      <td>0.0</td>\n",
       "      <td>0.0</td>\n",
       "      <td>0.0</td>\n",
       "      <td>0.0</td>\n",
       "      <td>0.0</td>\n",
       "      <td>Corporation</td>\n",
       "      <td>529111</td>\n",
       "      <td>Unanswered</td>\n",
       "      <td>Unanswered</td>\n",
       "    </tr>\n",
       "  </tbody>\n",
       "</table>\n",
       "<p>5 rows × 34 columns</p>\n",
       "</div>"
      ],
      "text/plain": [
       "   SBAOfficeCode ProcessingMethod   BorrowerCity BorrowerState BorrowerZip  \\\n",
       "0            156              PPP        NORWALK            CT  06853-1207   \n",
       "1            156              PPP  WEST HARTFORD            CT  06107-2103   \n",
       "2            156              PPS        Ashford            CT  06278-1421   \n",
       "3            156              PPP        Niantic            CT  06357-1742   \n",
       "4            156              PPP      Newington            CT  06111-2212   \n",
       "\n",
       "     LoanStatus  Term  SBAGuarantyPercentage  InitialApprovalAmount  \\\n",
       "0  Paid in Full    24                    100               18457.00   \n",
       "1  Paid in Full    24                    100               18457.00   \n",
       "2  Paid in Full    60                    100               18456.65   \n",
       "3  Paid in Full    60                    100               18456.00   \n",
       "4  Paid in Full    60                    100               18455.00   \n",
       "\n",
       "   CurrentApprovalAmount  ...  PAYROLL_PROCEED MORTGAGE_INTEREST_PROCEED  \\\n",
       "0               18457.00  ...         18457.00                       0.0   \n",
       "1               18457.00  ...         18457.00                       0.0   \n",
       "2               18456.65  ...         18450.65                       0.0   \n",
       "3               18456.00  ...         18455.00                       0.0   \n",
       "4               18455.00  ...         18455.00                       0.0   \n",
       "\n",
       "  RENT_PROCEED REFINANCE_EIDL_PROCEED HEALTH_CARE_PROCEED  \\\n",
       "0          0.0                    0.0                 0.0   \n",
       "1          0.0                    0.0                 0.0   \n",
       "2          0.0                    0.0                 0.0   \n",
       "3          0.0                    0.0                 0.0   \n",
       "4          0.0                    0.0                 0.0   \n",
       "\n",
       "  DEBT_INTEREST_PROCEED                     BusinessType  \\\n",
       "0                   0.0  Limited  Liability Company(LLC)   \n",
       "1                   0.0                      Corporation   \n",
       "2                   0.0  Limited  Liability Company(LLC)   \n",
       "3                   0.0                Single Member LLC   \n",
       "4                   0.0                      Corporation   \n",
       "\n",
       "  OriginatingLenderLocationID        Gender      Veteran  \n",
       "0                        9551    Unanswered   Unanswered  \n",
       "1                        9551  Female Owned   Unanswered  \n",
       "2                       93682  Female Owned  Non-Veteran  \n",
       "3                       93490    Male Owned  Non-Veteran  \n",
       "4                      529111    Unanswered   Unanswered  \n",
       "\n",
       "[5 rows x 34 columns]"
      ]
     },
     "execution_count": 3,
     "metadata": {},
     "output_type": "execute_result"
    }
   ],
   "source": [
    "ppp = pd.read_csv('../data/cleaned_1and2_reduced.csv')\n",
    "ppp.head()"
   ]
  },
  {
   "cell_type": "code",
   "execution_count": 46,
   "id": "5bcfdf0c-43fa-494d-9112-ea3a687f6dae",
   "metadata": {},
   "outputs": [],
   "source": [
    "# ppp['BusinessType']\n",
    "\n",
    "subset_cols.append('BusinessType')"
   ]
  },
  {
   "cell_type": "code",
   "execution_count": 47,
   "id": "d82f7206-e87d-4703-9cd4-f00df5ba3ea3",
   "metadata": {},
   "outputs": [
    {
     "data": {
      "text/plain": [
       "['LoanStatus', 'Term', 'SBAGuarantyPercentage', 'BusinessType']"
      ]
     },
     "execution_count": 47,
     "metadata": {},
     "output_type": "execute_result"
    }
   ],
   "source": [
    "subset_cols"
   ]
  },
  {
   "cell_type": "code",
   "execution_count": 54,
   "id": "dbd0ebdd-5711-49b0-8fd6-422c2a2d24f7",
   "metadata": {
    "scrolled": true
   },
   "outputs": [],
   "source": [
    "# To speed up computation, reduce the dimensionality\n",
    "subset_cols = ppp.columns[5:8].to_list()\n",
    "subset_cols.append('BusinessType')\n",
    "# subset_cols\n",
    "subset_ppp = ppp[subset_cols]"
   ]
  },
  {
   "cell_type": "code",
   "execution_count": 56,
   "id": "aa5db800-a770-4f24-b919-734b0fb335d3",
   "metadata": {},
   "outputs": [
    {
     "data": {
      "text/plain": [
       "Index(['LoanStatus', 'Term', 'SBAGuarantyPercentage', 'BusinessType'], dtype='object')"
      ]
     },
     "execution_count": 56,
     "metadata": {},
     "output_type": "execute_result"
    }
   ],
   "source": [
    "subset_ppp.columns"
   ]
  },
  {
   "cell_type": "code",
   "execution_count": 87,
   "id": "0f3373ad-72dd-4a4c-9681-063328aa634d",
   "metadata": {},
   "outputs": [],
   "source": [
    "# Define X and y\n",
    "X = subset_ppp.drop(columns=['LoanStatus'])\n",
    "y = subset_ppp['LoanStatus']"
   ]
  },
  {
   "cell_type": "code",
   "execution_count": 88,
   "id": "e03822d5-8184-4827-b81f-a153e25c5392",
   "metadata": {},
   "outputs": [
    {
     "data": {
      "text/plain": [
       "LoanStatus\n",
       "Paid in Full    0.908000\n",
       "Charged Off     0.062203\n",
       "Exemption 4     0.029797\n",
       "Name: proportion, dtype: float64"
      ]
     },
     "execution_count": 88,
     "metadata": {},
     "output_type": "execute_result"
    }
   ],
   "source": [
    "y.value_counts(normalize=True)"
   ]
  },
  {
   "cell_type": "markdown",
   "id": "50d13b11-e005-41cf-a1fc-fb2832d78f66",
   "metadata": {},
   "source": [
    "### Preprocessing \n",
    "#### OneHotEncoder to dummify the categorical features"
   ]
  },
  {
   "cell_type": "code",
   "execution_count": 95,
   "id": "47ffafd3-2434-4fc3-b7fb-2afb40d17156",
   "metadata": {},
   "outputs": [],
   "source": [
    "# Make a list of categorical features\n",
    "categorical_cols = X.select_dtypes(include=['object']).columns.tolist()\n",
    "numerical_cols = X.select_dtypes(exclude=['object']).columns.tolist()"
   ]
  },
  {
   "cell_type": "code",
   "execution_count": 90,
   "id": "021d90fb-6015-4942-a47d-2c869e8302c3",
   "metadata": {},
   "outputs": [
    {
     "data": {
      "text/plain": [
       "26"
      ]
     },
     "execution_count": 90,
     "metadata": {},
     "output_type": "execute_result"
    }
   ],
   "source": [
    "len(subset_ppp['BusinessType'].unique())"
   ]
  },
  {
   "cell_type": "code",
   "execution_count": 96,
   "id": "8fe03b9c-95e0-47e8-bbfb-d386db08fdf9",
   "metadata": {},
   "outputs": [],
   "source": [
    "# Preprocessing pipeline for categorical features\n",
    "preprocessor = ColumnTransformer(transformers=[\n",
    "    ('oh', OneHotEncoder(handle_unknown='ignore'), categorical_cols),\n",
    "    ('num', StandardScaler(), numerical_cols)  \n",
    "])"
   ]
  },
  {
   "cell_type": "code",
   "execution_count": 97,
   "id": "5978c3ef-2484-4ca6-ac7e-28c09a637a08",
   "metadata": {
    "scrolled": true
   },
   "outputs": [],
   "source": [
    "# Define the Random Forest model with preprocessing and classifier\n",
    "# Use default tuning parameters\n",
    "rf = RandomForestClassifier(n_estimators=5, max_depth=3, )\n",
    "\n",
    "pipe = Pipeline(steps=[\n",
    "    ('preprocessor', preprocessor),\n",
    "    ('rf', rf)\n",
    "])"
   ]
  },
  {
   "cell_type": "code",
   "execution_count": 98,
   "id": "a28f96b2-d22e-4ba9-aabd-9bce966b7461",
   "metadata": {},
   "outputs": [],
   "source": [
    "# Perform train test split\n",
    "X_train, X_test, y_train, y_test = train_test_split(X, y, random_state=42)"
   ]
  },
  {
   "cell_type": "code",
   "execution_count": 99,
   "id": "65560b13-0b28-4240-95d0-8d2b0899ba3a",
   "metadata": {},
   "outputs": [
    {
     "data": {
      "text/html": [
       "<style>#sk-container-id-4 {color: black;background-color: white;}#sk-container-id-4 pre{padding: 0;}#sk-container-id-4 div.sk-toggleable {background-color: white;}#sk-container-id-4 label.sk-toggleable__label {cursor: pointer;display: block;width: 100%;margin-bottom: 0;padding: 0.3em;box-sizing: border-box;text-align: center;}#sk-container-id-4 label.sk-toggleable__label-arrow:before {content: \"▸\";float: left;margin-right: 0.25em;color: #696969;}#sk-container-id-4 label.sk-toggleable__label-arrow:hover:before {color: black;}#sk-container-id-4 div.sk-estimator:hover label.sk-toggleable__label-arrow:before {color: black;}#sk-container-id-4 div.sk-toggleable__content {max-height: 0;max-width: 0;overflow: hidden;text-align: left;background-color: #f0f8ff;}#sk-container-id-4 div.sk-toggleable__content pre {margin: 0.2em;color: black;border-radius: 0.25em;background-color: #f0f8ff;}#sk-container-id-4 input.sk-toggleable__control:checked~div.sk-toggleable__content {max-height: 200px;max-width: 100%;overflow: auto;}#sk-container-id-4 input.sk-toggleable__control:checked~label.sk-toggleable__label-arrow:before {content: \"▾\";}#sk-container-id-4 div.sk-estimator input.sk-toggleable__control:checked~label.sk-toggleable__label {background-color: #d4ebff;}#sk-container-id-4 div.sk-label input.sk-toggleable__control:checked~label.sk-toggleable__label {background-color: #d4ebff;}#sk-container-id-4 input.sk-hidden--visually {border: 0;clip: rect(1px 1px 1px 1px);clip: rect(1px, 1px, 1px, 1px);height: 1px;margin: -1px;overflow: hidden;padding: 0;position: absolute;width: 1px;}#sk-container-id-4 div.sk-estimator {font-family: monospace;background-color: #f0f8ff;border: 1px dotted black;border-radius: 0.25em;box-sizing: border-box;margin-bottom: 0.5em;}#sk-container-id-4 div.sk-estimator:hover {background-color: #d4ebff;}#sk-container-id-4 div.sk-parallel-item::after {content: \"\";width: 100%;border-bottom: 1px solid gray;flex-grow: 1;}#sk-container-id-4 div.sk-label:hover label.sk-toggleable__label {background-color: #d4ebff;}#sk-container-id-4 div.sk-serial::before {content: \"\";position: absolute;border-left: 1px solid gray;box-sizing: border-box;top: 0;bottom: 0;left: 50%;z-index: 0;}#sk-container-id-4 div.sk-serial {display: flex;flex-direction: column;align-items: center;background-color: white;padding-right: 0.2em;padding-left: 0.2em;position: relative;}#sk-container-id-4 div.sk-item {position: relative;z-index: 1;}#sk-container-id-4 div.sk-parallel {display: flex;align-items: stretch;justify-content: center;background-color: white;position: relative;}#sk-container-id-4 div.sk-item::before, #sk-container-id-4 div.sk-parallel-item::before {content: \"\";position: absolute;border-left: 1px solid gray;box-sizing: border-box;top: 0;bottom: 0;left: 50%;z-index: -1;}#sk-container-id-4 div.sk-parallel-item {display: flex;flex-direction: column;z-index: 1;position: relative;background-color: white;}#sk-container-id-4 div.sk-parallel-item:first-child::after {align-self: flex-end;width: 50%;}#sk-container-id-4 div.sk-parallel-item:last-child::after {align-self: flex-start;width: 50%;}#sk-container-id-4 div.sk-parallel-item:only-child::after {width: 0;}#sk-container-id-4 div.sk-dashed-wrapped {border: 1px dashed gray;margin: 0 0.4em 0.5em 0.4em;box-sizing: border-box;padding-bottom: 0.4em;background-color: white;}#sk-container-id-4 div.sk-label label {font-family: monospace;font-weight: bold;display: inline-block;line-height: 1.2em;}#sk-container-id-4 div.sk-label-container {text-align: center;}#sk-container-id-4 div.sk-container {/* jupyter's `normalize.less` sets `[hidden] { display: none; }` but bootstrap.min.css set `[hidden] { display: none !important; }` so we also need the `!important` here to be able to override the default hidden behavior on the sphinx rendered scikit-learn.org. See: https://github.com/scikit-learn/scikit-learn/issues/21755 */display: inline-block !important;position: relative;}#sk-container-id-4 div.sk-text-repr-fallback {display: none;}</style><div id=\"sk-container-id-4\" class=\"sk-top-container\"><div class=\"sk-text-repr-fallback\"><pre>Pipeline(steps=[(&#x27;preprocessor&#x27;,\n",
       "                 ColumnTransformer(transformers=[(&#x27;oh&#x27;,\n",
       "                                                  OneHotEncoder(handle_unknown=&#x27;ignore&#x27;),\n",
       "                                                  [&#x27;BusinessType&#x27;]),\n",
       "                                                 (&#x27;num&#x27;, StandardScaler(),\n",
       "                                                  [&#x27;Term&#x27;,\n",
       "                                                   &#x27;SBAGuarantyPercentage&#x27;])])),\n",
       "                (&#x27;rf&#x27;, RandomForestClassifier(max_depth=3, n_estimators=5))])</pre><b>In a Jupyter environment, please rerun this cell to show the HTML representation or trust the notebook. <br />On GitHub, the HTML representation is unable to render, please try loading this page with nbviewer.org.</b></div><div class=\"sk-container\" hidden><div class=\"sk-item sk-dashed-wrapped\"><div class=\"sk-label-container\"><div class=\"sk-label sk-toggleable\"><input class=\"sk-toggleable__control sk-hidden--visually\" id=\"sk-estimator-id-12\" type=\"checkbox\" ><label for=\"sk-estimator-id-12\" class=\"sk-toggleable__label sk-toggleable__label-arrow\">Pipeline</label><div class=\"sk-toggleable__content\"><pre>Pipeline(steps=[(&#x27;preprocessor&#x27;,\n",
       "                 ColumnTransformer(transformers=[(&#x27;oh&#x27;,\n",
       "                                                  OneHotEncoder(handle_unknown=&#x27;ignore&#x27;),\n",
       "                                                  [&#x27;BusinessType&#x27;]),\n",
       "                                                 (&#x27;num&#x27;, StandardScaler(),\n",
       "                                                  [&#x27;Term&#x27;,\n",
       "                                                   &#x27;SBAGuarantyPercentage&#x27;])])),\n",
       "                (&#x27;rf&#x27;, RandomForestClassifier(max_depth=3, n_estimators=5))])</pre></div></div></div><div class=\"sk-serial\"><div class=\"sk-item sk-dashed-wrapped\"><div class=\"sk-label-container\"><div class=\"sk-label sk-toggleable\"><input class=\"sk-toggleable__control sk-hidden--visually\" id=\"sk-estimator-id-13\" type=\"checkbox\" ><label for=\"sk-estimator-id-13\" class=\"sk-toggleable__label sk-toggleable__label-arrow\">preprocessor: ColumnTransformer</label><div class=\"sk-toggleable__content\"><pre>ColumnTransformer(transformers=[(&#x27;oh&#x27;, OneHotEncoder(handle_unknown=&#x27;ignore&#x27;),\n",
       "                                 [&#x27;BusinessType&#x27;]),\n",
       "                                (&#x27;num&#x27;, StandardScaler(),\n",
       "                                 [&#x27;Term&#x27;, &#x27;SBAGuarantyPercentage&#x27;])])</pre></div></div></div><div class=\"sk-parallel\"><div class=\"sk-parallel-item\"><div class=\"sk-item\"><div class=\"sk-label-container\"><div class=\"sk-label sk-toggleable\"><input class=\"sk-toggleable__control sk-hidden--visually\" id=\"sk-estimator-id-14\" type=\"checkbox\" ><label for=\"sk-estimator-id-14\" class=\"sk-toggleable__label sk-toggleable__label-arrow\">oh</label><div class=\"sk-toggleable__content\"><pre>[&#x27;BusinessType&#x27;]</pre></div></div></div><div class=\"sk-serial\"><div class=\"sk-item\"><div class=\"sk-estimator sk-toggleable\"><input class=\"sk-toggleable__control sk-hidden--visually\" id=\"sk-estimator-id-15\" type=\"checkbox\" ><label for=\"sk-estimator-id-15\" class=\"sk-toggleable__label sk-toggleable__label-arrow\">OneHotEncoder</label><div class=\"sk-toggleable__content\"><pre>OneHotEncoder(handle_unknown=&#x27;ignore&#x27;)</pre></div></div></div></div></div></div><div class=\"sk-parallel-item\"><div class=\"sk-item\"><div class=\"sk-label-container\"><div class=\"sk-label sk-toggleable\"><input class=\"sk-toggleable__control sk-hidden--visually\" id=\"sk-estimator-id-16\" type=\"checkbox\" ><label for=\"sk-estimator-id-16\" class=\"sk-toggleable__label sk-toggleable__label-arrow\">num</label><div class=\"sk-toggleable__content\"><pre>[&#x27;Term&#x27;, &#x27;SBAGuarantyPercentage&#x27;]</pre></div></div></div><div class=\"sk-serial\"><div class=\"sk-item\"><div class=\"sk-estimator sk-toggleable\"><input class=\"sk-toggleable__control sk-hidden--visually\" id=\"sk-estimator-id-17\" type=\"checkbox\" ><label for=\"sk-estimator-id-17\" class=\"sk-toggleable__label sk-toggleable__label-arrow\">StandardScaler</label><div class=\"sk-toggleable__content\"><pre>StandardScaler()</pre></div></div></div></div></div></div></div></div><div class=\"sk-item\"><div class=\"sk-estimator sk-toggleable\"><input class=\"sk-toggleable__control sk-hidden--visually\" id=\"sk-estimator-id-18\" type=\"checkbox\" ><label for=\"sk-estimator-id-18\" class=\"sk-toggleable__label sk-toggleable__label-arrow\">RandomForestClassifier</label><div class=\"sk-toggleable__content\"><pre>RandomForestClassifier(max_depth=3, n_estimators=5)</pre></div></div></div></div></div></div></div>"
      ],
      "text/plain": [
       "Pipeline(steps=[('preprocessor',\n",
       "                 ColumnTransformer(transformers=[('oh',\n",
       "                                                  OneHotEncoder(handle_unknown='ignore'),\n",
       "                                                  ['BusinessType']),\n",
       "                                                 ('num', StandardScaler(),\n",
       "                                                  ['Term',\n",
       "                                                   'SBAGuarantyPercentage'])])),\n",
       "                ('rf', RandomForestClassifier(max_depth=3, n_estimators=5))])"
      ]
     },
     "execution_count": 99,
     "metadata": {},
     "output_type": "execute_result"
    }
   ],
   "source": [
    "pipe.fit(X_train, y_train)"
   ]
  },
  {
   "cell_type": "code",
   "execution_count": 100,
   "id": "b00f158d-7262-45e6-b876-309020c6eacc",
   "metadata": {},
   "outputs": [
    {
     "data": {
      "text/plain": [
       "0.9095325291780372"
      ]
     },
     "execution_count": 100,
     "metadata": {},
     "output_type": "execute_result"
    }
   ],
   "source": [
    "pipe.score(X_train, y_train)"
   ]
  },
  {
   "cell_type": "code",
   "execution_count": 101,
   "id": "88ff8cdc-90a6-49f8-8efd-8d94eb51a081",
   "metadata": {},
   "outputs": [
    {
     "data": {
      "text/plain": [
       "0.9091903039138126"
      ]
     },
     "execution_count": 101,
     "metadata": {},
     "output_type": "execute_result"
    }
   ],
   "source": [
    "pipe.score(X_test, y_test)"
   ]
  },
  {
   "cell_type": "code",
   "execution_count": 108,
   "id": "550d54de-3945-4f21-ab6a-11f73094493a",
   "metadata": {},
   "outputs": [
    {
     "data": {
      "text/plain": [
       "['BusinessType_501(c) – Non Profit except 3,4,6,',\n",
       " 'BusinessType_501(c)19 – Non Profit Veterans',\n",
       " 'BusinessType_501(c)3 – Non Profit',\n",
       " 'BusinessType_501(c)6 – Non Profit Membership',\n",
       " 'BusinessType_Cooperative',\n",
       " 'BusinessType_Corporation',\n",
       " 'BusinessType_Employee Stock Ownership Plan(ESOP)',\n",
       " 'BusinessType_Housing Co-op',\n",
       " 'BusinessType_Independent Contractors',\n",
       " 'BusinessType_Joint Venture',\n",
       " 'BusinessType_Limited  Liability Company(LLC)',\n",
       " 'BusinessType_Limited Liability Partnership',\n",
       " 'BusinessType_Non-Profit Childcare Center',\n",
       " 'BusinessType_Non-Profit Organization',\n",
       " 'BusinessType_Partnership',\n",
       " 'BusinessType_Professional Association',\n",
       " 'BusinessType_Qualified Joint-Venture (spouses)',\n",
       " 'BusinessType_Rollover as Business Start-Ups (ROB',\n",
       " 'BusinessType_Self-Employed Individuals',\n",
       " 'BusinessType_Single Member LLC',\n",
       " 'BusinessType_Sole Proprietorship',\n",
       " 'BusinessType_Subchapter S Corporation',\n",
       " 'BusinessType_Tenant in Common',\n",
       " 'BusinessType_Tribal Concerns',\n",
       " 'BusinessType_Trust',\n",
       " 'BusinessType_unrecorded',\n",
       " 'Term',\n",
       " 'SBAGuarantyPercentage']"
      ]
     },
     "execution_count": 108,
     "metadata": {},
     "output_type": "execute_result"
    }
   ],
   "source": [
    "# Reassemble the feature names so that we can map these correctly to feature importances\n",
    "\n",
    "transformed_feature_names = pipe.named_steps['preprocessor'] \\\n",
    "                                 .named_transformers_['oh'] \\\n",
    "                                 .get_feature_names_out(categorical_cols).tolist()\n",
    "all_feature_names = transformed_feature_names + numerical_cols\n",
    "all_feature_names"
   ]
  },
  {
   "cell_type": "code",
   "execution_count": 102,
   "id": "f2b58175-d94a-4cf1-9a69-0cc7e69d1d6c",
   "metadata": {},
   "outputs": [
    {
     "data": {
      "text/plain": [
       "28"
      ]
     },
     "execution_count": 102,
     "metadata": {},
     "output_type": "execute_result"
    }
   ],
   "source": [
    "# Get feature importances from the trained model\n",
    "feature_importances = pipe.named_steps['rf'].feature_importances_\n",
    "len(feature_importances)"
   ]
  },
  {
   "cell_type": "code",
   "execution_count": 109,
   "id": "759da4ec-2014-4df1-9cdf-b2670f12a3e0",
   "metadata": {},
   "outputs": [
    {
     "data": {
      "text/html": [
       "<div>\n",
       "<style scoped>\n",
       "    .dataframe tbody tr th:only-of-type {\n",
       "        vertical-align: middle;\n",
       "    }\n",
       "\n",
       "    .dataframe tbody tr th {\n",
       "        vertical-align: top;\n",
       "    }\n",
       "\n",
       "    .dataframe thead th {\n",
       "        text-align: right;\n",
       "    }\n",
       "</style>\n",
       "<table border=\"1\" class=\"dataframe\">\n",
       "  <thead>\n",
       "    <tr style=\"text-align: right;\">\n",
       "      <th></th>\n",
       "      <th>Feature</th>\n",
       "      <th>Importance</th>\n",
       "    </tr>\n",
       "  </thead>\n",
       "  <tbody>\n",
       "    <tr>\n",
       "      <th>26</th>\n",
       "      <td>Term</td>\n",
       "      <td>0.599361</td>\n",
       "    </tr>\n",
       "    <tr>\n",
       "      <th>5</th>\n",
       "      <td>BusinessType_Corporation</td>\n",
       "      <td>0.257735</td>\n",
       "    </tr>\n",
       "    <tr>\n",
       "      <th>18</th>\n",
       "      <td>BusinessType_Self-Employed Individuals</td>\n",
       "      <td>0.070545</td>\n",
       "    </tr>\n",
       "    <tr>\n",
       "      <th>21</th>\n",
       "      <td>BusinessType_Subchapter S Corporation</td>\n",
       "      <td>0.022834</td>\n",
       "    </tr>\n",
       "    <tr>\n",
       "      <th>20</th>\n",
       "      <td>BusinessType_Sole Proprietorship</td>\n",
       "      <td>0.015110</td>\n",
       "    </tr>\n",
       "    <tr>\n",
       "      <th>13</th>\n",
       "      <td>BusinessType_Non-Profit Organization</td>\n",
       "      <td>0.014858</td>\n",
       "    </tr>\n",
       "    <tr>\n",
       "      <th>8</th>\n",
       "      <td>BusinessType_Independent Contractors</td>\n",
       "      <td>0.012170</td>\n",
       "    </tr>\n",
       "    <tr>\n",
       "      <th>15</th>\n",
       "      <td>BusinessType_Professional Association</td>\n",
       "      <td>0.004935</td>\n",
       "    </tr>\n",
       "    <tr>\n",
       "      <th>11</th>\n",
       "      <td>BusinessType_Limited Liability Partnership</td>\n",
       "      <td>0.002451</td>\n",
       "    </tr>\n",
       "    <tr>\n",
       "      <th>0</th>\n",
       "      <td>BusinessType_501(c) – Non Profit except 3,4,6,</td>\n",
       "      <td>0.000000</td>\n",
       "    </tr>\n",
       "    <tr>\n",
       "      <th>17</th>\n",
       "      <td>BusinessType_Rollover as Business Start-Ups (ROB</td>\n",
       "      <td>0.000000</td>\n",
       "    </tr>\n",
       "    <tr>\n",
       "      <th>25</th>\n",
       "      <td>BusinessType_unrecorded</td>\n",
       "      <td>0.000000</td>\n",
       "    </tr>\n",
       "    <tr>\n",
       "      <th>24</th>\n",
       "      <td>BusinessType_Trust</td>\n",
       "      <td>0.000000</td>\n",
       "    </tr>\n",
       "    <tr>\n",
       "      <th>23</th>\n",
       "      <td>BusinessType_Tribal Concerns</td>\n",
       "      <td>0.000000</td>\n",
       "    </tr>\n",
       "    <tr>\n",
       "      <th>22</th>\n",
       "      <td>BusinessType_Tenant in Common</td>\n",
       "      <td>0.000000</td>\n",
       "    </tr>\n",
       "    <tr>\n",
       "      <th>19</th>\n",
       "      <td>BusinessType_Single Member LLC</td>\n",
       "      <td>0.000000</td>\n",
       "    </tr>\n",
       "    <tr>\n",
       "      <th>14</th>\n",
       "      <td>BusinessType_Partnership</td>\n",
       "      <td>0.000000</td>\n",
       "    </tr>\n",
       "    <tr>\n",
       "      <th>16</th>\n",
       "      <td>BusinessType_Qualified Joint-Venture (spouses)</td>\n",
       "      <td>0.000000</td>\n",
       "    </tr>\n",
       "    <tr>\n",
       "      <th>1</th>\n",
       "      <td>BusinessType_501(c)19 – Non Profit Veterans</td>\n",
       "      <td>0.000000</td>\n",
       "    </tr>\n",
       "    <tr>\n",
       "      <th>12</th>\n",
       "      <td>BusinessType_Non-Profit Childcare Center</td>\n",
       "      <td>0.000000</td>\n",
       "    </tr>\n",
       "    <tr>\n",
       "      <th>10</th>\n",
       "      <td>BusinessType_Limited  Liability Company(LLC)</td>\n",
       "      <td>0.000000</td>\n",
       "    </tr>\n",
       "    <tr>\n",
       "      <th>9</th>\n",
       "      <td>BusinessType_Joint Venture</td>\n",
       "      <td>0.000000</td>\n",
       "    </tr>\n",
       "    <tr>\n",
       "      <th>7</th>\n",
       "      <td>BusinessType_Housing Co-op</td>\n",
       "      <td>0.000000</td>\n",
       "    </tr>\n",
       "    <tr>\n",
       "      <th>6</th>\n",
       "      <td>BusinessType_Employee Stock Ownership Plan(ESOP)</td>\n",
       "      <td>0.000000</td>\n",
       "    </tr>\n",
       "    <tr>\n",
       "      <th>4</th>\n",
       "      <td>BusinessType_Cooperative</td>\n",
       "      <td>0.000000</td>\n",
       "    </tr>\n",
       "    <tr>\n",
       "      <th>3</th>\n",
       "      <td>BusinessType_501(c)6 – Non Profit Membership</td>\n",
       "      <td>0.000000</td>\n",
       "    </tr>\n",
       "    <tr>\n",
       "      <th>2</th>\n",
       "      <td>BusinessType_501(c)3 – Non Profit</td>\n",
       "      <td>0.000000</td>\n",
       "    </tr>\n",
       "    <tr>\n",
       "      <th>27</th>\n",
       "      <td>SBAGuarantyPercentage</td>\n",
       "      <td>0.000000</td>\n",
       "    </tr>\n",
       "  </tbody>\n",
       "</table>\n",
       "</div>"
      ],
      "text/plain": [
       "                                             Feature  Importance\n",
       "26                                              Term    0.599361\n",
       "5                           BusinessType_Corporation    0.257735\n",
       "18            BusinessType_Self-Employed Individuals    0.070545\n",
       "21             BusinessType_Subchapter S Corporation    0.022834\n",
       "20                  BusinessType_Sole Proprietorship    0.015110\n",
       "13              BusinessType_Non-Profit Organization    0.014858\n",
       "8               BusinessType_Independent Contractors    0.012170\n",
       "15             BusinessType_Professional Association    0.004935\n",
       "11        BusinessType_Limited Liability Partnership    0.002451\n",
       "0     BusinessType_501(c) – Non Profit except 3,4,6,    0.000000\n",
       "17  BusinessType_Rollover as Business Start-Ups (ROB    0.000000\n",
       "25                           BusinessType_unrecorded    0.000000\n",
       "24                                BusinessType_Trust    0.000000\n",
       "23                      BusinessType_Tribal Concerns    0.000000\n",
       "22                     BusinessType_Tenant in Common    0.000000\n",
       "19                    BusinessType_Single Member LLC    0.000000\n",
       "14                          BusinessType_Partnership    0.000000\n",
       "16    BusinessType_Qualified Joint-Venture (spouses)    0.000000\n",
       "1        BusinessType_501(c)19 – Non Profit Veterans    0.000000\n",
       "12          BusinessType_Non-Profit Childcare Center    0.000000\n",
       "10      BusinessType_Limited  Liability Company(LLC)    0.000000\n",
       "9                         BusinessType_Joint Venture    0.000000\n",
       "7                         BusinessType_Housing Co-op    0.000000\n",
       "6   BusinessType_Employee Stock Ownership Plan(ESOP)    0.000000\n",
       "4                           BusinessType_Cooperative    0.000000\n",
       "3       BusinessType_501(c)6 – Non Profit Membership    0.000000\n",
       "2                  BusinessType_501(c)3 – Non Profit    0.000000\n",
       "27                             SBAGuarantyPercentage    0.000000"
      ]
     },
     "execution_count": 109,
     "metadata": {},
     "output_type": "execute_result"
    }
   ],
   "source": [
    "# Create a DataFrame to display feature importances\n",
    "importance_df = pd.DataFrame({'Feature': all_feature_names, 'Importance': feature_importances})\n",
    "top_features = importance_df.sort_values(by='Importance', ascending=False)\n",
    "top_features"
   ]
  },
  {
   "cell_type": "code",
   "execution_count": 115,
   "id": "b2f7a9f6-a93b-4227-a803-bef367d5155d",
   "metadata": {},
   "outputs": [
    {
     "data": {
      "text/plain": [
       "Paid in Full    0.998213\n",
       "Charged Off     0.001787\n",
       "Name: proportion, dtype: float64"
      ]
     },
     "execution_count": 115,
     "metadata": {},
     "output_type": "execute_result"
    }
   ],
   "source": [
    "# Examine y predictions\n",
    "y_pred = pipe.predict(X_test)\n",
    "pd.Series(y_pred).value_counts(normalize=True)"
   ]
  },
  {
   "cell_type": "code",
   "execution_count": 116,
   "id": "efdac6ec-6c20-4cac-b060-5e409f0435b0",
   "metadata": {},
   "outputs": [],
   "source": [
    "# Examine the confusion matrix\n",
    "cm = confusion_matrix(y_test, y_pred)"
   ]
  },
  {
   "cell_type": "code",
   "execution_count": 117,
   "id": "317fd97e-b054-43e3-b37f-19888d8cb2ed",
   "metadata": {},
   "outputs": [
    {
     "name": "stdout",
     "output_type": "stream",
     "text": [
      "[[   727      0  27258]\n",
      " [     4      0  13529]\n",
      " [    73      0 408405]]\n"
     ]
    }
   ],
   "source": [
    "print(cm)"
   ]
  },
  {
   "cell_type": "code",
   "execution_count": 118,
   "id": "5cb94060-a947-4314-b31c-44afdf23d3d6",
   "metadata": {},
   "outputs": [
    {
     "data": {
      "image/png": "[encoded data removed]",
      "text/plain": [
       "<Figure size 640x480 with 2 Axes>"
      ]
     },
     "metadata": {},
     "output_type": "display_data"
    }
   ],
   "source": [
    "ConfusionMatrixDisplay.from_estimator(pipe, X_test, y_test, cmap='Blues');"
   ]
  },
  {
   "cell_type": "code",
   "execution_count": 122,
   "id": "b912fbf7-0fe4-4240-a034-92ed1124b5f0",
   "metadata": {},
   "outputs": [
    {
     "data": {
      "text/plain": [
       "0.909"
      ]
     },
     "execution_count": 122,
     "metadata": {},
     "output_type": "execute_result"
    }
   ],
   "source": [
    "# Compute overall accuracy from confusion matrix\n",
    "overall_accuracy = (cm[0, 0] + cm[1, 1] + cm[2, 2]) / cm.sum()\n",
    "round(overall_accuracy, 3)"
   ]
  },
  {
   "cell_type": "code",
   "execution_count": 128,
   "id": "7e053cba-9761-4dec-a504-e440b7ad04e5",
   "metadata": {},
   "outputs": [
    {
     "name": "stderr",
     "output_type": "stream",
     "text": [
      "/var/folders/l7/qw8k931d3z54gh33d0gmyz7c0000gn/T/ipykernel_8190/765228171.py:4: RuntimeWarning: invalid value encountered in divide\n",
      "  f1_score = 2 * (precision * recall) / (precision + recall)\n"
     ]
    }
   ],
   "source": [
    "# Calculate precision, recall, and F1-score for each class\n",
    "precision = cm.diagonal() / (cm.sum(axis=0) + 1)\n",
    "recall = cm.diagonal() / (cm.sum(axis=1) + 1)\n",
    "# f1_score = 2 * (precision * recall) / (precision + recall)"
   ]
  },
  {
   "cell_type": "code",
   "execution_count": 126,
   "id": "08c37aea-6a2f-43a7-a9e6-7b64d0c6ec2e",
   "metadata": {},
   "outputs": [
    {
     "name": "stdout",
     "output_type": "stream",
     "text": [
      "Overall Accuracy: 0.9092\n",
      "Precision: [0.90310559 0.         0.90919716]\n",
      "Recall (Sensitivity): [0.02597727 0.         0.99981884]\n",
      "F1-Score: [0.0505054       nan 0.9523593]\n"
     ]
    }
   ],
   "source": [
    "print(f\"Overall Accuracy: {overall_accuracy:.4f}\")\n",
    "# print(f\"Baseline Accuracy: {baseline_accuracy:.4f}\")\n",
    "print(f\"Precision: {precision}\")\n",
    "print(f\"Recall (Sensitivity): {recall}\")\n",
    "print(f\"F1-Score: {f1_score}\")"
   ]
  },
  {
   "cell_type": "code",
   "execution_count": 129,
   "id": "97029d8b-7b5b-4691-851f-abde2180c0a6",
   "metadata": {},
   "outputs": [
    {
     "data": {
      "text/plain": [
       "array([   727,      0, 408405])"
      ]
     },
     "execution_count": 129,
     "metadata": {},
     "output_type": "execute_result"
    }
   ],
   "source": [
    "cm.diagonal()"
   ]
  },
  {
   "cell_type": "markdown",
   "id": "e2d5d363-575c-4fff-ae3d-59612b0bf1fb",
   "metadata": {},
   "source": [
    "### We must understand how these metrics work for multi-class target feature\n",
    "Imbalanced classes are a most important concern.\n",
    "When we understand precision and recall, in addition to accuracy, we can then appropriately adjust our model to improve performance."
   ]
  },
  {
   "cell_type": "markdown",
   "id": "bb53595b-24be-4736-8e3a-63ce2583f94a",
   "metadata": {},
   "source": [
    "# TO-DO >>>\n",
    "\n",
    "~~collapse target into binary~~\n",
    "\n",
    "holdout - best practices \n",
    "split train val test 80 10 10\n",
    "\n",
    "add all numeric\n",
    "exclude categorical vals where there are too many unique values\n",
    "\n",
    "how to narrow down cat cols:\n",
    "1) engineer feature to reduce number of unique values by doing top 5, and 'other'\n",
    "2) ordinal labeling\n",
    "3) examine feature importance and drop least important, then retrain\n",
    "\n",
    "\n",
    "\n",
    "cross-validation -- why do we do this\n",
    "\n",
    "downsample until it finishes\n",
    "\n",
    "no need to boostrap resample, sufficient to binarize\n",
    "\n",
    "Google colab for scale up\n",
    "\n",
    "# models to try\n",
    "0) RandomForest\n",
    "1) XGBoost\n",
    "2) knn\n",
    "3) SVM\n",
    "4) Multilayer perceptron NN - fewer hyperparameters\n",
    "5) --NN keras"
   ]
  },
  {
   "cell_type": "code",
   "execution_count": null,
   "id": "f425bdb8-7e06-4ec6-9d33-63f175612ed8",
   "metadata": {},
   "outputs": [],
   "source": []
  }
 ],
 "metadata": {
  "kernelspec": {
   "display_name": "Python 3 (ipykernel)",
   "language": "python",
   "name": "python3"
  },
  "language_info": {
   "codemirror_mode": {
    "name": "ipython",
    "version": 3
   },
   "file_extension": ".py",
   "mimetype": "text/x-python",
   "name": "python",
   "nbconvert_exporter": "python",
   "pygments_lexer": "ipython3",
   "version": "3.11.5"
  }
 },
 "nbformat": 4,
 "nbformat_minor": 5
}
