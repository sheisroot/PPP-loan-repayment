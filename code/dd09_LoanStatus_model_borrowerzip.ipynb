{
 "cells": [
  {
   "cell_type": "code",
   "execution_count": 2,
   "id": "38a27a2c-56df-407f-90b1-bdc181af6270",
   "metadata": {},
   "outputs": [],
   "source": [
    "# Imports\n",
    "import numpy as np\n",
    "import pandas as pd\n",
    "import matplotlib.pyplot as plt\n",
    "\n",
    "from sklearn.preprocessing import OneHotEncoder, StandardScaler\n",
    "from sklearn.compose import ColumnTransformer\n",
    "from sklearn.pipeline import Pipeline\n",
    "from sklearn.ensemble import RandomForestClassifier, ExtraTreesClassifier\n",
    "from sklearn.model_selection import train_test_split, GridSearchCV, RandomizedSearchCV\n",
    "from sklearn.metrics import confusion_matrix, ConfusionMatrixDisplay"
   ]
  },
  {
   "cell_type": "code",
   "execution_count": 26,
   "id": "975f09a7-bd63-4f4c-9511-e18012d86047",
   "metadata": {},
   "outputs": [
    {
     "data": {
      "text/html": [
       "<div>\n",
       "<style scoped>\n",
       "    .dataframe tbody tr th:only-of-type {\n",
       "        vertical-align: middle;\n",
       "    }\n",
       "\n",
       "    .dataframe tbody tr th {\n",
       "        vertical-align: top;\n",
       "    }\n",
       "\n",
       "    .dataframe thead th {\n",
       "        text-align: right;\n",
       "    }\n",
       "</style>\n",
       "<table border=\"1\" class=\"dataframe\">\n",
       "  <thead>\n",
       "    <tr style=\"text-align: right;\">\n",
       "      <th></th>\n",
       "      <th>SBAOfficeCode</th>\n",
       "      <th>ProcessingMethod</th>\n",
       "      <th>BorrowerZip</th>\n",
       "      <th>LoanStatus</th>\n",
       "      <th>Term</th>\n",
       "      <th>SBAGuarantyPercentage</th>\n",
       "      <th>InitialApprovalAmount</th>\n",
       "      <th>CurrentApprovalAmount</th>\n",
       "      <th>ServicingLenderLocationID</th>\n",
       "      <th>RuralUrbanIndicator</th>\n",
       "      <th>...</th>\n",
       "      <th>PAYROLL_PROCEED</th>\n",
       "      <th>MORTGAGE_INTEREST_PROCEED</th>\n",
       "      <th>RENT_PROCEED</th>\n",
       "      <th>REFINANCE_EIDL_PROCEED</th>\n",
       "      <th>HEALTH_CARE_PROCEED</th>\n",
       "      <th>DEBT_INTEREST_PROCEED</th>\n",
       "      <th>BusinessType</th>\n",
       "      <th>OriginatingLenderLocationID</th>\n",
       "      <th>Gender</th>\n",
       "      <th>Veteran</th>\n",
       "    </tr>\n",
       "  </thead>\n",
       "  <tbody>\n",
       "    <tr>\n",
       "      <th>0</th>\n",
       "      <td>156</td>\n",
       "      <td>PPP</td>\n",
       "      <td>06853-1207</td>\n",
       "      <td>1</td>\n",
       "      <td>24</td>\n",
       "      <td>100</td>\n",
       "      <td>18457.00</td>\n",
       "      <td>18457.00</td>\n",
       "      <td>9551</td>\n",
       "      <td>U</td>\n",
       "      <td>...</td>\n",
       "      <td>18457.00</td>\n",
       "      <td>0.0</td>\n",
       "      <td>0.0</td>\n",
       "      <td>0.0</td>\n",
       "      <td>0.0</td>\n",
       "      <td>0.0</td>\n",
       "      <td>Limited  Liability Company(LLC)</td>\n",
       "      <td>9551</td>\n",
       "      <td>Unanswered</td>\n",
       "      <td>Unanswered</td>\n",
       "    </tr>\n",
       "    <tr>\n",
       "      <th>1</th>\n",
       "      <td>156</td>\n",
       "      <td>PPP</td>\n",
       "      <td>06107-2103</td>\n",
       "      <td>1</td>\n",
       "      <td>24</td>\n",
       "      <td>100</td>\n",
       "      <td>18457.00</td>\n",
       "      <td>18457.00</td>\n",
       "      <td>9551</td>\n",
       "      <td>U</td>\n",
       "      <td>...</td>\n",
       "      <td>18457.00</td>\n",
       "      <td>0.0</td>\n",
       "      <td>0.0</td>\n",
       "      <td>0.0</td>\n",
       "      <td>0.0</td>\n",
       "      <td>0.0</td>\n",
       "      <td>Corporation</td>\n",
       "      <td>9551</td>\n",
       "      <td>Female Owned</td>\n",
       "      <td>Unanswered</td>\n",
       "    </tr>\n",
       "    <tr>\n",
       "      <th>2</th>\n",
       "      <td>156</td>\n",
       "      <td>PPS</td>\n",
       "      <td>06278-1421</td>\n",
       "      <td>1</td>\n",
       "      <td>60</td>\n",
       "      <td>100</td>\n",
       "      <td>18456.65</td>\n",
       "      <td>18456.65</td>\n",
       "      <td>93682</td>\n",
       "      <td>R</td>\n",
       "      <td>...</td>\n",
       "      <td>18450.65</td>\n",
       "      <td>0.0</td>\n",
       "      <td>0.0</td>\n",
       "      <td>0.0</td>\n",
       "      <td>0.0</td>\n",
       "      <td>0.0</td>\n",
       "      <td>Limited  Liability Company(LLC)</td>\n",
       "      <td>93682</td>\n",
       "      <td>Female Owned</td>\n",
       "      <td>Non-Veteran</td>\n",
       "    </tr>\n",
       "    <tr>\n",
       "      <th>3</th>\n",
       "      <td>156</td>\n",
       "      <td>PPP</td>\n",
       "      <td>06357-1742</td>\n",
       "      <td>1</td>\n",
       "      <td>60</td>\n",
       "      <td>100</td>\n",
       "      <td>18456.00</td>\n",
       "      <td>18456.00</td>\n",
       "      <td>93490</td>\n",
       "      <td>U</td>\n",
       "      <td>...</td>\n",
       "      <td>18455.00</td>\n",
       "      <td>0.0</td>\n",
       "      <td>0.0</td>\n",
       "      <td>0.0</td>\n",
       "      <td>0.0</td>\n",
       "      <td>0.0</td>\n",
       "      <td>Single Member LLC</td>\n",
       "      <td>93490</td>\n",
       "      <td>Male Owned</td>\n",
       "      <td>Non-Veteran</td>\n",
       "    </tr>\n",
       "    <tr>\n",
       "      <th>4</th>\n",
       "      <td>156</td>\n",
       "      <td>PPP</td>\n",
       "      <td>06111-2212</td>\n",
       "      <td>1</td>\n",
       "      <td>60</td>\n",
       "      <td>100</td>\n",
       "      <td>18455.00</td>\n",
       "      <td>18455.00</td>\n",
       "      <td>433860</td>\n",
       "      <td>U</td>\n",
       "      <td>...</td>\n",
       "      <td>18455.00</td>\n",
       "      <td>0.0</td>\n",
       "      <td>0.0</td>\n",
       "      <td>0.0</td>\n",
       "      <td>0.0</td>\n",
       "      <td>0.0</td>\n",
       "      <td>Corporation</td>\n",
       "      <td>529111</td>\n",
       "      <td>Unanswered</td>\n",
       "      <td>Unanswered</td>\n",
       "    </tr>\n",
       "  </tbody>\n",
       "</table>\n",
       "<p>5 rows × 29 columns</p>\n",
       "</div>"
      ],
      "text/plain": [
       "   SBAOfficeCode ProcessingMethod BorrowerZip  LoanStatus  Term  \\\n",
       "0            156              PPP  06853-1207           1    24   \n",
       "1            156              PPP  06107-2103           1    24   \n",
       "2            156              PPS  06278-1421           1    60   \n",
       "3            156              PPP  06357-1742           1    60   \n",
       "4            156              PPP  06111-2212           1    60   \n",
       "\n",
       "   SBAGuarantyPercentage  InitialApprovalAmount  CurrentApprovalAmount  \\\n",
       "0                    100               18457.00               18457.00   \n",
       "1                    100               18457.00               18457.00   \n",
       "2                    100               18456.65               18456.65   \n",
       "3                    100               18456.00               18456.00   \n",
       "4                    100               18455.00               18455.00   \n",
       "\n",
       "   ServicingLenderLocationID RuralUrbanIndicator  ... PAYROLL_PROCEED  \\\n",
       "0                       9551                   U  ...        18457.00   \n",
       "1                       9551                   U  ...        18457.00   \n",
       "2                      93682                   R  ...        18450.65   \n",
       "3                      93490                   U  ...        18455.00   \n",
       "4                     433860                   U  ...        18455.00   \n",
       "\n",
       "  MORTGAGE_INTEREST_PROCEED RENT_PROCEED REFINANCE_EIDL_PROCEED  \\\n",
       "0                       0.0          0.0                    0.0   \n",
       "1                       0.0          0.0                    0.0   \n",
       "2                       0.0          0.0                    0.0   \n",
       "3                       0.0          0.0                    0.0   \n",
       "4                       0.0          0.0                    0.0   \n",
       "\n",
       "   HEALTH_CARE_PROCEED  DEBT_INTEREST_PROCEED  \\\n",
       "0                  0.0                    0.0   \n",
       "1                  0.0                    0.0   \n",
       "2                  0.0                    0.0   \n",
       "3                  0.0                    0.0   \n",
       "4                  0.0                    0.0   \n",
       "\n",
       "                      BusinessType OriginatingLenderLocationID        Gender  \\\n",
       "0  Limited  Liability Company(LLC)                        9551    Unanswered   \n",
       "1                      Corporation                        9551  Female Owned   \n",
       "2  Limited  Liability Company(LLC)                       93682  Female Owned   \n",
       "3                Single Member LLC                       93490    Male Owned   \n",
       "4                      Corporation                      529111    Unanswered   \n",
       "\n",
       "       Veteran  \n",
       "0   Unanswered  \n",
       "1   Unanswered  \n",
       "2  Non-Veteran  \n",
       "3  Non-Veteran  \n",
       "4   Unanswered  \n",
       "\n",
       "[5 rows x 29 columns]"
      ]
     },
     "execution_count": 26,
     "metadata": {},
     "output_type": "execute_result"
    }
   ],
   "source": [
    "ppp = pd.read_csv('../data/cleaned_1and2_reduced.csv')\n",
    "ppp.head()"
   ]
  },
  {
   "cell_type": "markdown",
   "id": "1811082a-f80b-4538-a0b2-3411c2263a7c",
   "metadata": {},
   "source": [
    "What is our full parameter set?"
   ]
  },
  {
   "cell_type": "code",
   "execution_count": 27,
   "id": "70fb56e7-eca9-4ca3-bc44-7acaeef89b4d",
   "metadata": {},
   "outputs": [],
   "source": [
    "num_code_features = ['SBAOfficeCode', 'ServicingLenderLocationID', 'NAICSCode', 'OriginatingLenderLocationID']\n",
    "\n",
    "for p in num_code_features:\n",
    "    ppp[p] = ppp[p].astype(str)"
   ]
  },
  {
   "cell_type": "code",
   "execution_count": 28,
   "id": "05fe3647-65f9-4f32-b35e-53ed909d68e0",
   "metadata": {},
   "outputs": [
    {
     "data": {
      "text/plain": [
       "LoanStatus                     int64\n",
       "Term                           int64\n",
       "SBAGuarantyPercentage          int64\n",
       "InitialApprovalAmount        float64\n",
       "CurrentApprovalAmount        float64\n",
       "JobsReported                   int64\n",
       "UTILITIES_PROCEED            float64\n",
       "PAYROLL_PROCEED              float64\n",
       "MORTGAGE_INTEREST_PROCEED    float64\n",
       "RENT_PROCEED                 float64\n",
       "REFINANCE_EIDL_PROCEED       float64\n",
       "HEALTH_CARE_PROCEED          float64\n",
       "DEBT_INTEREST_PROCEED        float64\n",
       "dtype: object"
      ]
     },
     "execution_count": 28,
     "metadata": {},
     "output_type": "execute_result"
    }
   ],
   "source": [
    "# numeric columns\n",
    "numeric_features = ppp.dtypes[ppp.dtypes != 'object']\n",
    "numeric_features"
   ]
  },
  {
   "cell_type": "markdown",
   "id": "315ba2f5-9815-4081-b5c2-72f9dfcab204",
   "metadata": {},
   "source": [
    "A number of parameters are being misinterpreted as numerical because the information is a numeric code, say for the ServicingLenderLocationID.  These should be corrected to categorical."
   ]
  },
  {
   "cell_type": "code",
   "execution_count": 29,
   "id": "c9602da3-466e-4f68-b9d7-e24c1dd9ee9c",
   "metadata": {},
   "outputs": [
    {
     "data": {
      "text/plain": [
       "['LoanStatus',\n",
       " 'Term',\n",
       " 'SBAGuarantyPercentage',\n",
       " 'InitialApprovalAmount',\n",
       " 'CurrentApprovalAmount',\n",
       " 'JobsReported',\n",
       " 'UTILITIES_PROCEED',\n",
       " 'PAYROLL_PROCEED',\n",
       " 'MORTGAGE_INTEREST_PROCEED',\n",
       " 'RENT_PROCEED',\n",
       " 'REFINANCE_EIDL_PROCEED',\n",
       " 'HEALTH_CARE_PROCEED',\n",
       " 'DEBT_INTEREST_PROCEED']"
      ]
     },
     "execution_count": 29,
     "metadata": {},
     "output_type": "execute_result"
    }
   ],
   "source": [
    "# Include all  numeric features\n",
    "subset_cols = numeric_features.index.to_list()\n",
    "subset_cols"
   ]
  },
  {
   "cell_type": "code",
   "execution_count": 30,
   "id": "ef092e26-fae3-434f-a158-f1148b1f678c",
   "metadata": {},
   "outputs": [
    {
     "data": {
      "text/plain": [
       "['SBAOfficeCode',\n",
       " 'ProcessingMethod',\n",
       " 'BorrowerZip',\n",
       " 'ServicingLenderLocationID',\n",
       " 'RuralUrbanIndicator',\n",
       " 'HubzoneIndicator',\n",
       " 'LMIIndicator',\n",
       " 'BusinessAgeDescription',\n",
       " 'CD',\n",
       " 'NAICSCode',\n",
       " 'Race',\n",
       " 'Ethnicity',\n",
       " 'BusinessType',\n",
       " 'OriginatingLenderLocationID',\n",
       " 'Gender',\n",
       " 'Veteran']"
      ]
     },
     "execution_count": 30,
     "metadata": {},
     "output_type": "execute_result"
    }
   ],
   "source": [
    "categorical_features = ppp.dtypes[ppp.dtypes == 'object'].index.to_list()\n",
    "categorical_features"
   ]
  },
  {
   "cell_type": "code",
   "execution_count": 31,
   "id": "dbd0ebdd-5711-49b0-8fd6-422c2a2d24f7",
   "metadata": {
    "scrolled": true
   },
   "outputs": [
    {
     "data": {
      "text/plain": [
       "['LoanStatus',\n",
       " 'Term',\n",
       " 'SBAGuarantyPercentage',\n",
       " 'InitialApprovalAmount',\n",
       " 'CurrentApprovalAmount',\n",
       " 'JobsReported',\n",
       " 'UTILITIES_PROCEED',\n",
       " 'PAYROLL_PROCEED',\n",
       " 'MORTGAGE_INTEREST_PROCEED',\n",
       " 'RENT_PROCEED',\n",
       " 'REFINANCE_EIDL_PROCEED',\n",
       " 'HEALTH_CARE_PROCEED',\n",
       " 'DEBT_INTEREST_PROCEED',\n",
       " 'BusinessType',\n",
       " 'RuralUrbanIndicator',\n",
       " 'LMIIndicator',\n",
       " 'HubzoneIndicator',\n",
       " 'BusinessAgeDescription',\n",
       " 'Race',\n",
       " 'Ethnicity',\n",
       " 'Gender',\n",
       " 'Veteran']"
      ]
     },
     "execution_count": 31,
     "metadata": {},
     "output_type": "execute_result"
    }
   ],
   "source": [
    "# To speed up computation, work with reduced dimensionality\n",
    "# Add back categorical features as we tune\n",
    "cat_cols = ['BusinessType', 'RuralUrbanIndicator', 'LMIIndicator', 'HubzoneIndicator', 'BusinessAgeDescription', 'Race', 'Ethnicity', 'Gender', 'Veteran']\n",
    "subset_cols = subset_cols + cat_cols\n",
    "subset_cols"
   ]
  },
  {
   "cell_type": "markdown",
   "id": "c8962456-afca-4bb8-af08-055323594878",
   "metadata": {},
   "source": [
    "Previously we included categorical data which describe business profile and the communities they operate in.  We also included demographic information about the business ownders.\n",
    "\n",
    "A number of additional categories may be of interest."
   ]
  },
  {
   "cell_type": "code",
   "execution_count": 32,
   "id": "5916c4e2-3ee6-401a-8159-4590f04d1f02",
   "metadata": {},
   "outputs": [
    {
     "data": {
      "text/plain": [
       "['SBAOfficeCode',\n",
       " 'ProcessingMethod',\n",
       " 'BorrowerZip',\n",
       " 'ServicingLenderLocationID',\n",
       " 'CD',\n",
       " 'NAICSCode',\n",
       " 'OriginatingLenderLocationID']"
      ]
     },
     "execution_count": 32,
     "metadata": {},
     "output_type": "execute_result"
    }
   ],
   "source": [
    "second_set_cats =[f for f in categorical_features if f not in subset_cols]\n",
    "second_set_cats"
   ]
  },
  {
   "cell_type": "markdown",
   "id": "91354b1d-dafe-46db-8fb5-332de1cfbfa1",
   "metadata": {},
   "source": [
    "NAICSCode describes the type of industry the business is in, such as hospitality or cosmetics.\n",
    "This is likely to be very important information.\n",
    "\n",
    "ProcessingMethod indicates if this loan is from the first or second draw PPP loans.  This is likely to be relevant as second draw loans were only issued to businesses with first draw loans which  may be indicative of improving financial health.  It depends on how businesses were evaluated to qualify for second draw loans.\n",
    "\n",
    "CD indicates the Congressional District of the borrower.  Since we dropped data pertaining to the geographic location of the businesses, this is a way to indirectly represent geolocation data, as well as encapsulate attributes of the socioeconomic profile of where these businesses operate as well as connecting our results potentially to policy differences.\n",
    "\n",
    "The servicing and originating lenders are uniquely identified by LocationID.  This information may be predictive as these private lending institutions have their own criteria for evaluating businesses for loans and practices for supporting the borrowers which may influence the loan outcome."
   ]
  },
  {
   "cell_type": "code",
   "execution_count": 33,
   "id": "b00f43de-590e-408a-96ee-c1213ceb90df",
   "metadata": {},
   "outputs": [],
   "source": [
    "subset_cols = subset_cols + ['ProcessingMethod', 'ServicingLenderLocationID', 'OriginatingLenderLocationID']"
   ]
  },
  {
   "cell_type": "markdown",
   "id": "56a37613-279f-4340-ac12-e297785e6a76",
   "metadata": {},
   "source": [
    "Add in NAICSCode"
   ]
  },
  {
   "cell_type": "code",
   "execution_count": 34,
   "id": "a79d840b-dc96-482b-9b10-16fa271d0044",
   "metadata": {},
   "outputs": [],
   "source": [
    "subset_cols = subset_cols + ['NAICSCode']"
   ]
  },
  {
   "cell_type": "markdown",
   "id": "0cfe3d3a-4113-4049-9692-53665d538b11",
   "metadata": {},
   "source": [
    "Add in Congressional District (CD)"
   ]
  },
  {
   "cell_type": "code",
   "execution_count": 35,
   "id": "e03829d3-999e-4870-ae3b-a17caf51a010",
   "metadata": {},
   "outputs": [],
   "source": [
    "subset_cols = subset_cols + ['CD']"
   ]
  },
  {
   "cell_type": "markdown",
   "id": "f1e5d124-e1c6-4c8c-a4de-02e87e03a460",
   "metadata": {},
   "source": [
    "Add in Borrower Zip (similar data offered to CD)"
   ]
  },
  {
   "cell_type": "code",
   "execution_count": 36,
   "id": "41c9a6b8-7163-4e48-ae3f-570ecc430fa9",
   "metadata": {},
   "outputs": [],
   "source": [
    "subset_cols = subset_cols + ['BorrowerZip']"
   ]
  },
  {
   "cell_type": "code",
   "execution_count": 37,
   "id": "aa5db800-a770-4f24-b919-734b0fb335d3",
   "metadata": {},
   "outputs": [
    {
     "data": {
      "text/plain": [
       "Index(['LoanStatus', 'Term', 'SBAGuarantyPercentage', 'InitialApprovalAmount',\n",
       "       'CurrentApprovalAmount', 'JobsReported', 'UTILITIES_PROCEED',\n",
       "       'PAYROLL_PROCEED', 'MORTGAGE_INTEREST_PROCEED', 'RENT_PROCEED',\n",
       "       'REFINANCE_EIDL_PROCEED', 'HEALTH_CARE_PROCEED',\n",
       "       'DEBT_INTEREST_PROCEED', 'BusinessType', 'RuralUrbanIndicator',\n",
       "       'LMIIndicator', 'HubzoneIndicator', 'BusinessAgeDescription', 'Race',\n",
       "       'Ethnicity', 'Gender', 'Veteran', 'ProcessingMethod',\n",
       "       'ServicingLenderLocationID', 'OriginatingLenderLocationID', 'NAICSCode',\n",
       "       'CD', 'BorrowerZip'],\n",
       "      dtype='object')"
      ]
     },
     "execution_count": 37,
     "metadata": {},
     "output_type": "execute_result"
    }
   ],
   "source": [
    "subset_ppp = ppp[subset_cols]\n",
    "subset_ppp.columns"
   ]
  },
  {
   "cell_type": "code",
   "execution_count": 38,
   "id": "0f3373ad-72dd-4a4c-9681-063328aa634d",
   "metadata": {},
   "outputs": [],
   "source": [
    "# Define X and y\n",
    "X = subset_ppp.drop(columns=['LoanStatus'])\n",
    "y = subset_ppp['LoanStatus']"
   ]
  },
  {
   "cell_type": "code",
   "execution_count": 39,
   "id": "0bfe3696-cb6f-4f01-95b3-3420ab302aa0",
   "metadata": {},
   "outputs": [
    {
     "data": {
      "text/plain": [
       "27"
      ]
     },
     "execution_count": 39,
     "metadata": {},
     "output_type": "execute_result"
    }
   ],
   "source": [
    "X.shape[1]"
   ]
  },
  {
   "cell_type": "markdown",
   "id": "4531816b-4e4a-4dce-9da7-cc40e229ca36",
   "metadata": {},
   "source": [
    "Deciding on a train-val-test split proportion\n",
    "A rule of thumb is that the validation set fraction should be inversely proportional to the log2 of the number of free adjustable parameters."
   ]
  },
  {
   "cell_type": "code",
   "execution_count": 40,
   "id": "9f513396-092a-4e6a-8e05-a5fa0208c79a",
   "metadata": {},
   "outputs": [
    {
     "name": "stdout",
     "output_type": "stream",
     "text": [
      "19.25% should be reserved for validation\n"
     ]
    }
   ],
   "source": [
    "print(f'{round((1 / np.sqrt(X.shape[1])*100), 2)}% should be reserved for validation')"
   ]
  },
  {
   "cell_type": "code",
   "execution_count": 41,
   "id": "a5bd51e3-10eb-4b85-885e-e57df74304c2",
   "metadata": {},
   "outputs": [
    {
     "name": "stdout",
     "output_type": "stream",
     "text": [
      "80.75% should be used for training\n"
     ]
    }
   ],
   "source": [
    "print(f'{round(((1 - 1 / np.sqrt(X.shape[1]))*100), 2)}% should be used for training')"
   ]
  },
  {
   "cell_type": "code",
   "execution_count": 42,
   "id": "e03822d5-8184-4827-b81f-a153e25c5392",
   "metadata": {},
   "outputs": [
    {
     "data": {
      "text/plain": [
       "LoanStatus\n",
       "1    0.908\n",
       "0    0.092\n",
       "Name: proportion, dtype: float64"
      ]
     },
     "execution_count": 42,
     "metadata": {},
     "output_type": "execute_result"
    }
   ],
   "source": [
    "baseline_accuracy = y.value_counts(normalize=True)[1]\n",
    "y.value_counts(normalize=True)"
   ]
  },
  {
   "cell_type": "markdown",
   "id": "50d13b11-e005-41cf-a1fc-fb2832d78f66",
   "metadata": {},
   "source": [
    "### Preprocessing \n",
    "#### OneHotEncoder to dummify the categorical features"
   ]
  },
  {
   "cell_type": "code",
   "execution_count": 43,
   "id": "47ffafd3-2434-4fc3-b7fb-2afb40d17156",
   "metadata": {},
   "outputs": [],
   "source": [
    "# Make a list of categorical features\n",
    "categorical_cols = X.select_dtypes(include=['object']).columns.tolist()\n",
    "numerical_cols = X.select_dtypes(exclude=['object']).columns.tolist()"
   ]
  },
  {
   "cell_type": "code",
   "execution_count": 44,
   "id": "021d90fb-6015-4942-a47d-2c869e8302c3",
   "metadata": {},
   "outputs": [],
   "source": [
    "# len(subset_ppp['BusinessType'].unique())"
   ]
  },
  {
   "cell_type": "code",
   "execution_count": 45,
   "id": "8fe03b9c-95e0-47e8-bbfb-d386db08fdf9",
   "metadata": {},
   "outputs": [],
   "source": [
    "# Preprocessing pipeline for categorical features\n",
    "preprocessor = ColumnTransformer(transformers=[\n",
    "    ('oh', OneHotEncoder(handle_unknown='ignore'), categorical_cols),\n",
    "    ('num', StandardScaler(), numerical_cols)  \n",
    "])"
   ]
  },
  {
   "cell_type": "code",
   "execution_count": 46,
   "id": "5978c3ef-2484-4ca6-ac7e-28c09a637a08",
   "metadata": {
    "scrolled": true
   },
   "outputs": [],
   "source": [
    "# Define the Random Forest model with preprocessing and classifier\n",
    "# Use default tuning parameters\n",
    "rf = RandomForestClassifier(n_estimators=5, max_depth=3, )\n",
    "\n",
    "pipe = Pipeline(steps=[\n",
    "    ('preprocessor', preprocessor),\n",
    "    ('rf', rf)\n",
    "])"
   ]
  },
  {
   "cell_type": "code",
   "execution_count": 47,
   "id": "a28f96b2-d22e-4ba9-aabd-9bce966b7461",
   "metadata": {},
   "outputs": [],
   "source": [
    "# Perform train test split\n",
    "X_train_full, X_test, y_train_full, y_test = train_test_split(X, y, test_size=0.1, random_state=42)"
   ]
  },
  {
   "cell_type": "code",
   "execution_count": 48,
   "id": "5571d812-0976-4293-a8a9-2d273d0ddaf5",
   "metadata": {},
   "outputs": [],
   "source": [
    "# Split training set further into training and validation sets\n",
    "X_train, X_val, y_train, y_val = train_test_split(X_train_full, y_train_full, test_size=0.2, random_state=42)"
   ]
  },
  {
   "cell_type": "code",
   "execution_count": 49,
   "id": "65560b13-0b28-4240-95d0-8d2b0899ba3a",
   "metadata": {},
   "outputs": [
    {
     "data": {
      "text/html": [
       "<style>#sk-container-id-1 {color: black;background-color: white;}#sk-container-id-1 pre{padding: 0;}#sk-container-id-1 div.sk-toggleable {background-color: white;}#sk-container-id-1 label.sk-toggleable__label {cursor: pointer;display: block;width: 100%;margin-bottom: 0;padding: 0.3em;box-sizing: border-box;text-align: center;}#sk-container-id-1 label.sk-toggleable__label-arrow:before {content: \"▸\";float: left;margin-right: 0.25em;color: #696969;}#sk-container-id-1 label.sk-toggleable__label-arrow:hover:before {color: black;}#sk-container-id-1 div.sk-estimator:hover label.sk-toggleable__label-arrow:before {color: black;}#sk-container-id-1 div.sk-toggleable__content {max-height: 0;max-width: 0;overflow: hidden;text-align: left;background-color: #f0f8ff;}#sk-container-id-1 div.sk-toggleable__content pre {margin: 0.2em;color: black;border-radius: 0.25em;background-color: #f0f8ff;}#sk-container-id-1 input.sk-toggleable__control:checked~div.sk-toggleable__content {max-height: 200px;max-width: 100%;overflow: auto;}#sk-container-id-1 input.sk-toggleable__control:checked~label.sk-toggleable__label-arrow:before {content: \"▾\";}#sk-container-id-1 div.sk-estimator input.sk-toggleable__control:checked~label.sk-toggleable__label {background-color: #d4ebff;}#sk-container-id-1 div.sk-label input.sk-toggleable__control:checked~label.sk-toggleable__label {background-color: #d4ebff;}#sk-container-id-1 input.sk-hidden--visually {border: 0;clip: rect(1px 1px 1px 1px);clip: rect(1px, 1px, 1px, 1px);height: 1px;margin: -1px;overflow: hidden;padding: 0;position: absolute;width: 1px;}#sk-container-id-1 div.sk-estimator {font-family: monospace;background-color: #f0f8ff;border: 1px dotted black;border-radius: 0.25em;box-sizing: border-box;margin-bottom: 0.5em;}#sk-container-id-1 div.sk-estimator:hover {background-color: #d4ebff;}#sk-container-id-1 div.sk-parallel-item::after {content: \"\";width: 100%;border-bottom: 1px solid gray;flex-grow: 1;}#sk-container-id-1 div.sk-label:hover label.sk-toggleable__label {background-color: #d4ebff;}#sk-container-id-1 div.sk-serial::before {content: \"\";position: absolute;border-left: 1px solid gray;box-sizing: border-box;top: 0;bottom: 0;left: 50%;z-index: 0;}#sk-container-id-1 div.sk-serial {display: flex;flex-direction: column;align-items: center;background-color: white;padding-right: 0.2em;padding-left: 0.2em;position: relative;}#sk-container-id-1 div.sk-item {position: relative;z-index: 1;}#sk-container-id-1 div.sk-parallel {display: flex;align-items: stretch;justify-content: center;background-color: white;position: relative;}#sk-container-id-1 div.sk-item::before, #sk-container-id-1 div.sk-parallel-item::before {content: \"\";position: absolute;border-left: 1px solid gray;box-sizing: border-box;top: 0;bottom: 0;left: 50%;z-index: -1;}#sk-container-id-1 div.sk-parallel-item {display: flex;flex-direction: column;z-index: 1;position: relative;background-color: white;}#sk-container-id-1 div.sk-parallel-item:first-child::after {align-self: flex-end;width: 50%;}#sk-container-id-1 div.sk-parallel-item:last-child::after {align-self: flex-start;width: 50%;}#sk-container-id-1 div.sk-parallel-item:only-child::after {width: 0;}#sk-container-id-1 div.sk-dashed-wrapped {border: 1px dashed gray;margin: 0 0.4em 0.5em 0.4em;box-sizing: border-box;padding-bottom: 0.4em;background-color: white;}#sk-container-id-1 div.sk-label label {font-family: monospace;font-weight: bold;display: inline-block;line-height: 1.2em;}#sk-container-id-1 div.sk-label-container {text-align: center;}#sk-container-id-1 div.sk-container {/* jupyter's `normalize.less` sets `[hidden] { display: none; }` but bootstrap.min.css set `[hidden] { display: none !important; }` so we also need the `!important` here to be able to override the default hidden behavior on the sphinx rendered scikit-learn.org. See: https://github.com/scikit-learn/scikit-learn/issues/21755 */display: inline-block !important;position: relative;}#sk-container-id-1 div.sk-text-repr-fallback {display: none;}</style><div id=\"sk-container-id-1\" class=\"sk-top-container\"><div class=\"sk-text-repr-fallback\"><pre>Pipeline(steps=[(&#x27;preprocessor&#x27;,\n",
       "                 ColumnTransformer(transformers=[(&#x27;oh&#x27;,\n",
       "                                                  OneHotEncoder(handle_unknown=&#x27;ignore&#x27;),\n",
       "                                                  [&#x27;BusinessType&#x27;,\n",
       "                                                   &#x27;RuralUrbanIndicator&#x27;,\n",
       "                                                   &#x27;LMIIndicator&#x27;,\n",
       "                                                   &#x27;HubzoneIndicator&#x27;,\n",
       "                                                   &#x27;BusinessAgeDescription&#x27;,\n",
       "                                                   &#x27;Race&#x27;, &#x27;Ethnicity&#x27;,\n",
       "                                                   &#x27;Gender&#x27;, &#x27;Veteran&#x27;,\n",
       "                                                   &#x27;ProcessingMethod&#x27;,\n",
       "                                                   &#x27;ServicingLenderLocationID&#x27;,\n",
       "                                                   &#x27;OriginatingLenderLocationID&#x27;,\n",
       "                                                   &#x27;NAICSCode&#x27;, &#x27;CD&#x27;,\n",
       "                                                   &#x27;BorrowerZip&#x27;]),\n",
       "                                                 (&#x27;num&#x27;, StandardScaler(),\n",
       "                                                  [&#x27;Term&#x27;,\n",
       "                                                   &#x27;SBAGuarantyPercentage&#x27;,\n",
       "                                                   &#x27;InitialApprovalAmount&#x27;,\n",
       "                                                   &#x27;CurrentApprovalAmount&#x27;,\n",
       "                                                   &#x27;JobsReported&#x27;,\n",
       "                                                   &#x27;UTILITIES_PROCEED&#x27;,\n",
       "                                                   &#x27;PAYROLL_PROCEED&#x27;,\n",
       "                                                   &#x27;MORTGAGE_INTEREST_PROCEED&#x27;,\n",
       "                                                   &#x27;RENT_PROCEED&#x27;,\n",
       "                                                   &#x27;REFINANCE_EIDL_PROCEED&#x27;,\n",
       "                                                   &#x27;HEALTH_CARE_PROCEED&#x27;,\n",
       "                                                   &#x27;DEBT_INTEREST_PROCEED&#x27;])])),\n",
       "                (&#x27;rf&#x27;, RandomForestClassifier(max_depth=3, n_estimators=5))])</pre><b>In a Jupyter environment, please rerun this cell to show the HTML representation or trust the notebook. <br />On GitHub, the HTML representation is unable to render, please try loading this page with nbviewer.org.</b></div><div class=\"sk-container\" hidden><div class=\"sk-item sk-dashed-wrapped\"><div class=\"sk-label-container\"><div class=\"sk-label sk-toggleable\"><input class=\"sk-toggleable__control sk-hidden--visually\" id=\"sk-estimator-id-1\" type=\"checkbox\" ><label for=\"sk-estimator-id-1\" class=\"sk-toggleable__label sk-toggleable__label-arrow\">Pipeline</label><div class=\"sk-toggleable__content\"><pre>Pipeline(steps=[(&#x27;preprocessor&#x27;,\n",
       "                 ColumnTransformer(transformers=[(&#x27;oh&#x27;,\n",
       "                                                  OneHotEncoder(handle_unknown=&#x27;ignore&#x27;),\n",
       "                                                  [&#x27;BusinessType&#x27;,\n",
       "                                                   &#x27;RuralUrbanIndicator&#x27;,\n",
       "                                                   &#x27;LMIIndicator&#x27;,\n",
       "                                                   &#x27;HubzoneIndicator&#x27;,\n",
       "                                                   &#x27;BusinessAgeDescription&#x27;,\n",
       "                                                   &#x27;Race&#x27;, &#x27;Ethnicity&#x27;,\n",
       "                                                   &#x27;Gender&#x27;, &#x27;Veteran&#x27;,\n",
       "                                                   &#x27;ProcessingMethod&#x27;,\n",
       "                                                   &#x27;ServicingLenderLocationID&#x27;,\n",
       "                                                   &#x27;OriginatingLenderLocationID&#x27;,\n",
       "                                                   &#x27;NAICSCode&#x27;, &#x27;CD&#x27;,\n",
       "                                                   &#x27;BorrowerZip&#x27;]),\n",
       "                                                 (&#x27;num&#x27;, StandardScaler(),\n",
       "                                                  [&#x27;Term&#x27;,\n",
       "                                                   &#x27;SBAGuarantyPercentage&#x27;,\n",
       "                                                   &#x27;InitialApprovalAmount&#x27;,\n",
       "                                                   &#x27;CurrentApprovalAmount&#x27;,\n",
       "                                                   &#x27;JobsReported&#x27;,\n",
       "                                                   &#x27;UTILITIES_PROCEED&#x27;,\n",
       "                                                   &#x27;PAYROLL_PROCEED&#x27;,\n",
       "                                                   &#x27;MORTGAGE_INTEREST_PROCEED&#x27;,\n",
       "                                                   &#x27;RENT_PROCEED&#x27;,\n",
       "                                                   &#x27;REFINANCE_EIDL_PROCEED&#x27;,\n",
       "                                                   &#x27;HEALTH_CARE_PROCEED&#x27;,\n",
       "                                                   &#x27;DEBT_INTEREST_PROCEED&#x27;])])),\n",
       "                (&#x27;rf&#x27;, RandomForestClassifier(max_depth=3, n_estimators=5))])</pre></div></div></div><div class=\"sk-serial\"><div class=\"sk-item sk-dashed-wrapped\"><div class=\"sk-label-container\"><div class=\"sk-label sk-toggleable\"><input class=\"sk-toggleable__control sk-hidden--visually\" id=\"sk-estimator-id-2\" type=\"checkbox\" ><label for=\"sk-estimator-id-2\" class=\"sk-toggleable__label sk-toggleable__label-arrow\">preprocessor: ColumnTransformer</label><div class=\"sk-toggleable__content\"><pre>ColumnTransformer(transformers=[(&#x27;oh&#x27;, OneHotEncoder(handle_unknown=&#x27;ignore&#x27;),\n",
       "                                 [&#x27;BusinessType&#x27;, &#x27;RuralUrbanIndicator&#x27;,\n",
       "                                  &#x27;LMIIndicator&#x27;, &#x27;HubzoneIndicator&#x27;,\n",
       "                                  &#x27;BusinessAgeDescription&#x27;, &#x27;Race&#x27;, &#x27;Ethnicity&#x27;,\n",
       "                                  &#x27;Gender&#x27;, &#x27;Veteran&#x27;, &#x27;ProcessingMethod&#x27;,\n",
       "                                  &#x27;ServicingLenderLocationID&#x27;,\n",
       "                                  &#x27;OriginatingLenderLocationID&#x27;, &#x27;NAICSCode&#x27;,\n",
       "                                  &#x27;CD&#x27;, &#x27;BorrowerZip&#x27;]),\n",
       "                                (&#x27;num&#x27;, StandardScaler(),\n",
       "                                 [&#x27;Term&#x27;, &#x27;SBAGuarantyPercentage&#x27;,\n",
       "                                  &#x27;InitialApprovalAmount&#x27;,\n",
       "                                  &#x27;CurrentApprovalAmount&#x27;, &#x27;JobsReported&#x27;,\n",
       "                                  &#x27;UTILITIES_PROCEED&#x27;, &#x27;PAYROLL_PROCEED&#x27;,\n",
       "                                  &#x27;MORTGAGE_INTEREST_PROCEED&#x27;, &#x27;RENT_PROCEED&#x27;,\n",
       "                                  &#x27;REFINANCE_EIDL_PROCEED&#x27;,\n",
       "                                  &#x27;HEALTH_CARE_PROCEED&#x27;,\n",
       "                                  &#x27;DEBT_INTEREST_PROCEED&#x27;])])</pre></div></div></div><div class=\"sk-parallel\"><div class=\"sk-parallel-item\"><div class=\"sk-item\"><div class=\"sk-label-container\"><div class=\"sk-label sk-toggleable\"><input class=\"sk-toggleable__control sk-hidden--visually\" id=\"sk-estimator-id-3\" type=\"checkbox\" ><label for=\"sk-estimator-id-3\" class=\"sk-toggleable__label sk-toggleable__label-arrow\">oh</label><div class=\"sk-toggleable__content\"><pre>[&#x27;BusinessType&#x27;, &#x27;RuralUrbanIndicator&#x27;, &#x27;LMIIndicator&#x27;, &#x27;HubzoneIndicator&#x27;, &#x27;BusinessAgeDescription&#x27;, &#x27;Race&#x27;, &#x27;Ethnicity&#x27;, &#x27;Gender&#x27;, &#x27;Veteran&#x27;, &#x27;ProcessingMethod&#x27;, &#x27;ServicingLenderLocationID&#x27;, &#x27;OriginatingLenderLocationID&#x27;, &#x27;NAICSCode&#x27;, &#x27;CD&#x27;, &#x27;BorrowerZip&#x27;]</pre></div></div></div><div class=\"sk-serial\"><div class=\"sk-item\"><div class=\"sk-estimator sk-toggleable\"><input class=\"sk-toggleable__control sk-hidden--visually\" id=\"sk-estimator-id-4\" type=\"checkbox\" ><label for=\"sk-estimator-id-4\" class=\"sk-toggleable__label sk-toggleable__label-arrow\">OneHotEncoder</label><div class=\"sk-toggleable__content\"><pre>OneHotEncoder(handle_unknown=&#x27;ignore&#x27;)</pre></div></div></div></div></div></div><div class=\"sk-parallel-item\"><div class=\"sk-item\"><div class=\"sk-label-container\"><div class=\"sk-label sk-toggleable\"><input class=\"sk-toggleable__control sk-hidden--visually\" id=\"sk-estimator-id-5\" type=\"checkbox\" ><label for=\"sk-estimator-id-5\" class=\"sk-toggleable__label sk-toggleable__label-arrow\">num</label><div class=\"sk-toggleable__content\"><pre>[&#x27;Term&#x27;, &#x27;SBAGuarantyPercentage&#x27;, &#x27;InitialApprovalAmount&#x27;, &#x27;CurrentApprovalAmount&#x27;, &#x27;JobsReported&#x27;, &#x27;UTILITIES_PROCEED&#x27;, &#x27;PAYROLL_PROCEED&#x27;, &#x27;MORTGAGE_INTEREST_PROCEED&#x27;, &#x27;RENT_PROCEED&#x27;, &#x27;REFINANCE_EIDL_PROCEED&#x27;, &#x27;HEALTH_CARE_PROCEED&#x27;, &#x27;DEBT_INTEREST_PROCEED&#x27;]</pre></div></div></div><div class=\"sk-serial\"><div class=\"sk-item\"><div class=\"sk-estimator sk-toggleable\"><input class=\"sk-toggleable__control sk-hidden--visually\" id=\"sk-estimator-id-6\" type=\"checkbox\" ><label for=\"sk-estimator-id-6\" class=\"sk-toggleable__label sk-toggleable__label-arrow\">StandardScaler</label><div class=\"sk-toggleable__content\"><pre>StandardScaler()</pre></div></div></div></div></div></div></div></div><div class=\"sk-item\"><div class=\"sk-estimator sk-toggleable\"><input class=\"sk-toggleable__control sk-hidden--visually\" id=\"sk-estimator-id-7\" type=\"checkbox\" ><label for=\"sk-estimator-id-7\" class=\"sk-toggleable__label sk-toggleable__label-arrow\">RandomForestClassifier</label><div class=\"sk-toggleable__content\"><pre>RandomForestClassifier(max_depth=3, n_estimators=5)</pre></div></div></div></div></div></div></div>"
      ],
      "text/plain": [
       "Pipeline(steps=[('preprocessor',\n",
       "                 ColumnTransformer(transformers=[('oh',\n",
       "                                                  OneHotEncoder(handle_unknown='ignore'),\n",
       "                                                  ['BusinessType',\n",
       "                                                   'RuralUrbanIndicator',\n",
       "                                                   'LMIIndicator',\n",
       "                                                   'HubzoneIndicator',\n",
       "                                                   'BusinessAgeDescription',\n",
       "                                                   'Race', 'Ethnicity',\n",
       "                                                   'Gender', 'Veteran',\n",
       "                                                   'ProcessingMethod',\n",
       "                                                   'ServicingLenderLocationID',\n",
       "                                                   'OriginatingLenderLocationID',\n",
       "                                                   'NAICSCode', 'CD',\n",
       "                                                   'BorrowerZip']),\n",
       "                                                 ('num', StandardScaler(),\n",
       "                                                  ['Term',\n",
       "                                                   'SBAGuarantyPercentage',\n",
       "                                                   'InitialApprovalAmount',\n",
       "                                                   'CurrentApprovalAmount',\n",
       "                                                   'JobsReported',\n",
       "                                                   'UTILITIES_PROCEED',\n",
       "                                                   'PAYROLL_PROCEED',\n",
       "                                                   'MORTGAGE_INTEREST_PROCEED',\n",
       "                                                   'RENT_PROCEED',\n",
       "                                                   'REFINANCE_EIDL_PROCEED',\n",
       "                                                   'HEALTH_CARE_PROCEED',\n",
       "                                                   'DEBT_INTEREST_PROCEED'])])),\n",
       "                ('rf', RandomForestClassifier(max_depth=3, n_estimators=5))])"
      ]
     },
     "execution_count": 49,
     "metadata": {},
     "output_type": "execute_result"
    }
   ],
   "source": [
    "pipe.fit(X_train, y_train)"
   ]
  },
  {
   "cell_type": "code",
   "execution_count": 50,
   "id": "b00f158d-7262-45e6-b876-309020c6eacc",
   "metadata": {},
   "outputs": [
    {
     "data": {
      "text/plain": [
       "0.9079474501307111"
      ]
     },
     "execution_count": 50,
     "metadata": {},
     "output_type": "execute_result"
    }
   ],
   "source": [
    "pipe.score(X_train, y_train)"
   ]
  },
  {
   "cell_type": "code",
   "execution_count": 51,
   "id": "88ff8cdc-90a6-49f8-8efd-8d94eb51a081",
   "metadata": {},
   "outputs": [
    {
     "data": {
      "text/plain": [
       "0.9087121177047935"
      ]
     },
     "execution_count": 51,
     "metadata": {},
     "output_type": "execute_result"
    }
   ],
   "source": [
    "pipe.score(X_val, y_val)"
   ]
  },
  {
   "cell_type": "code",
   "execution_count": 52,
   "id": "771553bb-ee15-45fb-ae7a-910b03aa9afe",
   "metadata": {},
   "outputs": [],
   "source": [
    "# Delete this! Just peeking at holdout data\n",
    "# pipe.score(X_test, y_test) # 0.9108"
   ]
  },
  {
   "cell_type": "markdown",
   "id": "26d18131-167e-4595-8f6a-c65e370300d2",
   "metadata": {},
   "source": [
    "We remark that after splitting data to create a holdout set, performance apparently reduced from score 0.92 to 0.91.  However, we are still working with a very small subset of the features.  We expect that after we add more columns back, and potentially concatenate more of the PPP loans from the rest of the 5GB datset, we will see restoration of Validation Set accuracy.  This is an important thing to do because we want to be able to have greater confidence in interpreting the efficacy of our model on holdout (unseen) data."
   ]
  },
  {
   "cell_type": "code",
   "execution_count": 53,
   "id": "550d54de-3945-4f21-ab6a-11f73094493a",
   "metadata": {},
   "outputs": [
    {
     "data": {
      "text/plain": [
       "663453"
      ]
     },
     "execution_count": 53,
     "metadata": {},
     "output_type": "execute_result"
    }
   ],
   "source": [
    "# Reassemble the feature names so that we can map these correctly to feature importances\n",
    "\n",
    "transformed_feature_names = pipe.named_steps['preprocessor'].named_transformers_['oh']      .get_feature_names_out(categorical_cols).tolist()\n",
    "all_feature_names = transformed_feature_names + numerical_cols\n",
    "len(all_feature_names)"
   ]
  },
  {
   "cell_type": "code",
   "execution_count": 54,
   "id": "f2b58175-d94a-4cf1-9a69-0cc7e69d1d6c",
   "metadata": {},
   "outputs": [
    {
     "data": {
      "text/plain": [
       "663453"
      ]
     },
     "execution_count": 54,
     "metadata": {},
     "output_type": "execute_result"
    }
   ],
   "source": [
    "# Get feature importances from the trained model\n",
    "feature_importances = pipe.named_steps['rf'].feature_importances_\n",
    "len(feature_importances)"
   ]
  },
  {
   "cell_type": "code",
   "execution_count": 55,
   "id": "759da4ec-2014-4df1-9cdf-b2670f12a3e0",
   "metadata": {},
   "outputs": [
    {
     "data": {
      "text/html": [
       "<div>\n",
       "<style scoped>\n",
       "    .dataframe tbody tr th:only-of-type {\n",
       "        vertical-align: middle;\n",
       "    }\n",
       "\n",
       "    .dataframe tbody tr th {\n",
       "        vertical-align: top;\n",
       "    }\n",
       "\n",
       "    .dataframe thead th {\n",
       "        text-align: right;\n",
       "    }\n",
       "</style>\n",
       "<table border=\"1\" class=\"dataframe\">\n",
       "  <thead>\n",
       "    <tr style=\"text-align: right;\">\n",
       "      <th></th>\n",
       "      <th>Feature</th>\n",
       "      <th>Importance</th>\n",
       "    </tr>\n",
       "  </thead>\n",
       "  <tbody>\n",
       "    <tr>\n",
       "      <th>5106</th>\n",
       "      <td>OriginatingLenderLocationID_69819</td>\n",
       "      <td>0.162327</td>\n",
       "    </tr>\n",
       "    <tr>\n",
       "      <th>6936</th>\n",
       "      <td>NAICSCode_999990</td>\n",
       "      <td>0.149183</td>\n",
       "    </tr>\n",
       "    <tr>\n",
       "      <th>2302</th>\n",
       "      <td>ServicingLenderLocationID_71727</td>\n",
       "      <td>0.129181</td>\n",
       "    </tr>\n",
       "    <tr>\n",
       "      <th>1192</th>\n",
       "      <td>ServicingLenderLocationID_368915</td>\n",
       "      <td>0.116784</td>\n",
       "    </tr>\n",
       "    <tr>\n",
       "      <th>7065</th>\n",
       "      <td>CD_VA-11</td>\n",
       "      <td>0.081150</td>\n",
       "    </tr>\n",
       "    <tr>\n",
       "      <th>104895</th>\n",
       "      <td>BorrowerZip_32807-3752</td>\n",
       "      <td>0.071136</td>\n",
       "    </tr>\n",
       "    <tr>\n",
       "      <th>147906</th>\n",
       "      <td>BorrowerZip_33054-2126</td>\n",
       "      <td>0.047417</td>\n",
       "    </tr>\n",
       "    <tr>\n",
       "      <th>446587</th>\n",
       "      <td>BorrowerZip_76549-5649</td>\n",
       "      <td>0.041608</td>\n",
       "    </tr>\n",
       "    <tr>\n",
       "      <th>249159</th>\n",
       "      <td>BorrowerZip_33565-3610</td>\n",
       "      <td>0.041608</td>\n",
       "    </tr>\n",
       "    <tr>\n",
       "      <th>450691</th>\n",
       "      <td>BorrowerZip_76706-7332</td>\n",
       "      <td>0.039344</td>\n",
       "    </tr>\n",
       "    <tr>\n",
       "      <th>26121</th>\n",
       "      <td>BorrowerZip_19701-1852</td>\n",
       "      <td>0.031475</td>\n",
       "    </tr>\n",
       "    <tr>\n",
       "      <th>250586</th>\n",
       "      <td>BorrowerZip_33578-4107</td>\n",
       "      <td>0.023142</td>\n",
       "    </tr>\n",
       "    <tr>\n",
       "      <th>6186</th>\n",
       "      <td>NAICSCode_333120</td>\n",
       "      <td>0.022319</td>\n",
       "    </tr>\n",
       "    <tr>\n",
       "      <th>156279</th>\n",
       "      <td>BorrowerZip_33068-4636</td>\n",
       "      <td>0.019777</td>\n",
       "    </tr>\n",
       "    <tr>\n",
       "      <th>10</th>\n",
       "      <td>BusinessType_Limited  Liability Company(LLC)</td>\n",
       "      <td>0.009901</td>\n",
       "    </tr>\n",
       "    <tr>\n",
       "      <th>473243</th>\n",
       "      <td>BorrowerZip_77045-6512</td>\n",
       "      <td>0.005453</td>\n",
       "    </tr>\n",
       "    <tr>\n",
       "      <th>663444</th>\n",
       "      <td>CurrentApprovalAmount</td>\n",
       "      <td>0.005196</td>\n",
       "    </tr>\n",
       "    <tr>\n",
       "      <th>52</th>\n",
       "      <td>Veteran_Unanswered</td>\n",
       "      <td>0.001663</td>\n",
       "    </tr>\n",
       "    <tr>\n",
       "      <th>39</th>\n",
       "      <td>Race_Black or African American</td>\n",
       "      <td>0.001039</td>\n",
       "    </tr>\n",
       "    <tr>\n",
       "      <th>53</th>\n",
       "      <td>Veteran_Veteran</td>\n",
       "      <td>0.000297</td>\n",
       "    </tr>\n",
       "  </tbody>\n",
       "</table>\n",
       "</div>"
      ],
      "text/plain": [
       "                                             Feature  Importance\n",
       "5106               OriginatingLenderLocationID_69819    0.162327\n",
       "6936                                NAICSCode_999990    0.149183\n",
       "2302                 ServicingLenderLocationID_71727    0.129181\n",
       "1192                ServicingLenderLocationID_368915    0.116784\n",
       "7065                                        CD_VA-11    0.081150\n",
       "104895                        BorrowerZip_32807-3752    0.071136\n",
       "147906                        BorrowerZip_33054-2126    0.047417\n",
       "446587                        BorrowerZip_76549-5649    0.041608\n",
       "249159                        BorrowerZip_33565-3610    0.041608\n",
       "450691                        BorrowerZip_76706-7332    0.039344\n",
       "26121                         BorrowerZip_19701-1852    0.031475\n",
       "250586                        BorrowerZip_33578-4107    0.023142\n",
       "6186                                NAICSCode_333120    0.022319\n",
       "156279                        BorrowerZip_33068-4636    0.019777\n",
       "10      BusinessType_Limited  Liability Company(LLC)    0.009901\n",
       "473243                        BorrowerZip_77045-6512    0.005453\n",
       "663444                         CurrentApprovalAmount    0.005196\n",
       "52                                Veteran_Unanswered    0.001663\n",
       "39                    Race_Black or African American    0.001039\n",
       "53                                   Veteran_Veteran    0.000297"
      ]
     },
     "execution_count": 55,
     "metadata": {},
     "output_type": "execute_result"
    }
   ],
   "source": [
    "# Create a DataFrame to display feature importances\n",
    "importance_df = pd.DataFrame({'Feature': all_feature_names, 'Importance': feature_importances})\n",
    "sorted_importances = importance_df.sort_values(by='Importance', ascending=False)\n",
    "top_features = sorted_importances[sorted_importances['Importance'] > 0]\n",
    "top_features"
   ]
  },
  {
   "cell_type": "code",
   "execution_count": 56,
   "id": "b2f7a9f6-a93b-4227-a803-bef367d5155d",
   "metadata": {},
   "outputs": [
    {
     "data": {
      "text/plain": [
       "1    1.0\n",
       "Name: proportion, dtype: float64"
      ]
     },
     "execution_count": 56,
     "metadata": {},
     "output_type": "execute_result"
    }
   ],
   "source": [
    "# Examine y predictions\n",
    "y_pred = pipe.predict(X_val)\n",
    "pd.Series(y_pred).value_counts(normalize=True)"
   ]
  },
  {
   "cell_type": "code",
   "execution_count": 57,
   "id": "efdac6ec-6c20-4cac-b060-5e409f0435b0",
   "metadata": {},
   "outputs": [],
   "source": [
    "# Examine the confusion matrix\n",
    "cm = confusion_matrix(y_val, y_pred)"
   ]
  },
  {
   "cell_type": "code",
   "execution_count": 58,
   "id": "317fd97e-b054-43e3-b37f-19888d8cb2ed",
   "metadata": {},
   "outputs": [
    {
     "name": "stdout",
     "output_type": "stream",
     "text": [
      "[[     0  29577]\n",
      " [     0 294420]]\n"
     ]
    }
   ],
   "source": [
    "print(cm)"
   ]
  },
  {
   "cell_type": "code",
   "execution_count": 59,
   "id": "5cb94060-a947-4314-b31c-44afdf23d3d6",
   "metadata": {},
   "outputs": [
    {
     "data": {
      "image/png": "[encoded data removed]",
      "text/plain": [
       "<Figure size 640x480 with 2 Axes>"
      ]
     },
     "metadata": {},
     "output_type": "display_data"
    }
   ],
   "source": [
    "ConfusionMatrixDisplay.from_estimator(pipe, X_val, y_val, cmap='Blues');"
   ]
  },
  {
   "cell_type": "code",
   "execution_count": 60,
   "id": "b912fbf7-0fe4-4240-a034-92ed1124b5f0",
   "metadata": {},
   "outputs": [],
   "source": [
    "# Compute overall accuracy from confusion matrix\n",
    "overall_accuracy = (cm[0, 0] + cm[1, 1]) / cm.sum()"
   ]
  },
  {
   "cell_type": "code",
   "execution_count": 61,
   "id": "7e053cba-9761-4dec-a504-e440b7ad04e5",
   "metadata": {},
   "outputs": [],
   "source": [
    "# Calculate precision, recall, and F1-score for each class\n",
    "precision = cm[1, 1] / (cm[1, 1] + cm[0, 1])\n",
    "# recall = cm.diagonal() / (cm.sum(axis=1) + 1)\n",
    "# f1_score = 2 * (precision * recall) / (precision + recall)"
   ]
  },
  {
   "cell_type": "code",
   "execution_count": 62,
   "id": "08c37aea-6a2f-43a7-a9e6-7b64d0c6ec2e",
   "metadata": {},
   "outputs": [
    {
     "name": "stdout",
     "output_type": "stream",
     "text": [
      "Overall Accuracy: 0.9087\n",
      "Baseline Accuracy: 0.9080\n",
      "Precision: 0.9087\n"
     ]
    }
   ],
   "source": [
    "print(f\"Overall Accuracy: {overall_accuracy:.4f}\")\n",
    "print(f\"Baseline Accuracy: {baseline_accuracy:.4f}\")\n",
    "print(f\"Precision: {precision:.4f}\")\n",
    "# print(f\"Recall (Sensitivity): {recall}\")\n",
    "# print(f\"F1-Score: {f1_score}\")"
   ]
  },
  {
   "cell_type": "markdown",
   "id": "bb53595b-24be-4736-8e3a-63ce2583f94a",
   "metadata": {},
   "source": [
    "# TO-DO >>>\n",
    "\n",
    "## Data cleaning\n",
    "~~collapse target into binary~~\n",
    "\n",
    "## Holdout - best practices \n",
    "~~split train val test 80 10 10~~\n",
    "\n",
    "### Improving performance\n",
    "## The numerical columns\n",
    "~~0) add all numeric features back in~~\n",
    "1) feature engineer multicollinear PROCEEDS variables\n",
    "\n",
    "## Feature engineering to handle categorical features\n",
    "exclude categorical vals where there are too many unique values\n",
    "\n",
    "how to narrow down cat cols:\n",
    "1) engineer feature to reduce number of unique values by doing top 5, and 'other'\n",
    "   \n",
    "~~2) ordinal labeling~~\n",
    "\n",
    "3) examine feature importance and drop least important, then retrain\n",
    "\n",
    "### Downsample as needed until it finishes within reasonable time\n",
    "\n",
    "## Scale back up to more data \n",
    "Google colab for scale up\n",
    "\n",
    "# Optional\n",
    "cross-validation -- why do we do this\n",
    "~~no need to boostrap resample, sufficient to binarize~~\n",
    "~~NN keras~~\n",
    "\n",
    "## Other kinds of models to try\n",
    "### Ensembling an ensemble could be interesting\n",
    "0) RandomForest\n",
    "1) XGBoost\n",
    "2) knn\n",
    "3) SVM\n",
    "4) Multilayer perceptron NN - fewer hyperparameters"
   ]
  },
  {
   "cell_type": "markdown",
   "id": "32981e6f-ccd8-42bc-8f63-57c223677388",
   "metadata": {},
   "source": [
    "# Recall\n",
    "\n",
    "which category the early high performing model had\n",
    "and examine the feature importances, and restructure that data to reduce categories"
   ]
  },
  {
   "cell_type": "code",
   "execution_count": null,
   "id": "13de5474-2143-4ef4-93db-ec299d2c45d3",
   "metadata": {},
   "outputs": [],
   "source": []
  }
 ],
 "metadata": {
  "kernelspec": {
   "display_name": "Python 3 (ipykernel)",
   "language": "python",
   "name": "python3"
  },
  "language_info": {
   "codemirror_mode": {
    "name": "ipython",
    "version": 3
   },
   "file_extension": ".py",
   "mimetype": "text/x-python",
   "name": "python",
   "nbconvert_exporter": "python",
   "pygments_lexer": "ipython3",
   "version": "3.11.5"
  }
 },
 "nbformat": 4,
 "nbformat_minor": 5
}
