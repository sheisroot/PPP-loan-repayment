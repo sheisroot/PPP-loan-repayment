{
 "cells": [
  {
   "cell_type": "markdown",
   "id": "4f0880c3-3974-4651-81ce-9bf2732b2bc1",
   "metadata": {},
   "source": [
    "# Paycheck Protection Program (PPP) Loans"
   ]
  },
  {
   "cell_type": "markdown",
   "id": "b87e4231-aca7-42f5-8c72-0fa98f45784b",
   "metadata": {},
   "source": [
    "In response to the negative impact of COVID on the economy, the federal government declared a state of emergency and provided relief loans to small businesses to support them during the pandemic.  In response to a FOIA request, federal judges decided that this information was important and necessary to disclose to the public.  There has been significant controversy regarding whether these loans were effective in boosting the depressed economy.  Many such loans were forgiven.  We seek to examine these data and make connections with other related datasets to find patterns."
   ]
  },
  {
   "cell_type": "code",
   "execution_count": 1,
   "id": "c35eac9a-5d38-4a74-be31-010ecbe141d2",
   "metadata": {},
   "outputs": [],
   "source": [
    "# Imports\n",
    "import numpy as np\n",
    "import pandas as pd\n",
    "import matplotlib.pyplot as plt"
   ]
  },
  {
   "cell_type": "code",
   "execution_count": 2,
   "id": "82b7c3f1-dca5-490d-aeef-eddcf731636d",
   "metadata": {},
   "outputs": [],
   "source": [
    "# dataset sourced from https://data.sba.gov/dataset/ppp-foia\n",
    "# created March 2, 2021, 4:30 PM (UTC-08:00)\n",
    "# updated October 3, 2023, 8:04 AM (UTC-07:00)\n",
    "# split across 13 csv files - 12 files describe loans under 150k\n",
    "# 1 file contains data on loans made above 150k\n",
    "\n",
    "ppp_1 = pd.read_csv('../data/public_up_to_150k_1_230930.csv')"
   ]
  },
  {
   "cell_type": "code",
   "execution_count": 4,
   "id": "197f781c-48fc-459f-952c-da9589451fca",
   "metadata": {},
   "outputs": [
    {
     "data": {
      "text/html": [
       "<div>\n",
       "<style scoped>\n",
       "    .dataframe tbody tr th:only-of-type {\n",
       "        vertical-align: middle;\n",
       "    }\n",
       "\n",
       "    .dataframe tbody tr th {\n",
       "        vertical-align: top;\n",
       "    }\n",
       "\n",
       "    .dataframe thead th {\n",
       "        text-align: right;\n",
       "    }\n",
       "</style>\n",
       "<table border=\"1\" class=\"dataframe\">\n",
       "  <thead>\n",
       "    <tr style=\"text-align: right;\">\n",
       "      <th></th>\n",
       "      <th>LoanNumber</th>\n",
       "      <th>DateApproved</th>\n",
       "      <th>SBAOfficeCode</th>\n",
       "      <th>ProcessingMethod</th>\n",
       "      <th>BorrowerName</th>\n",
       "      <th>BorrowerAddress</th>\n",
       "      <th>BorrowerCity</th>\n",
       "      <th>BorrowerState</th>\n",
       "      <th>BorrowerZip</th>\n",
       "      <th>LoanStatusDate</th>\n",
       "      <th>...</th>\n",
       "      <th>BusinessType</th>\n",
       "      <th>OriginatingLenderLocationID</th>\n",
       "      <th>OriginatingLender</th>\n",
       "      <th>OriginatingLenderCity</th>\n",
       "      <th>OriginatingLenderState</th>\n",
       "      <th>Gender</th>\n",
       "      <th>Veteran</th>\n",
       "      <th>NonProfit</th>\n",
       "      <th>ForgivenessAmount</th>\n",
       "      <th>ForgivenessDate</th>\n",
       "    </tr>\n",
       "  </thead>\n",
       "  <tbody>\n",
       "    <tr>\n",
       "      <th>0</th>\n",
       "      <td>3509338307</td>\n",
       "      <td>01/22/2021</td>\n",
       "      <td>NaN</td>\n",
       "      <td>PPS</td>\n",
       "      <td>Exemption 6</td>\n",
       "      <td>NaN</td>\n",
       "      <td>NaN</td>\n",
       "      <td>NaN</td>\n",
       "      <td>NaN</td>\n",
       "      <td>02/18/2022</td>\n",
       "      <td>...</td>\n",
       "      <td>Non-Profit Organization</td>\n",
       "      <td>NaN</td>\n",
       "      <td>NaN</td>\n",
       "      <td>NaN</td>\n",
       "      <td>NaN</td>\n",
       "      <td>Unanswered</td>\n",
       "      <td>Unanswered</td>\n",
       "      <td>Y</td>\n",
       "      <td>150775.38</td>\n",
       "      <td>01/13/2022</td>\n",
       "    </tr>\n",
       "    <tr>\n",
       "      <th>1</th>\n",
       "      <td>5375617707</td>\n",
       "      <td>05/01/2020</td>\n",
       "      <td>101.0</td>\n",
       "      <td>PPP</td>\n",
       "      <td>NOT AVAILABLE</td>\n",
       "      <td>NaN</td>\n",
       "      <td>NaN</td>\n",
       "      <td>NaN</td>\n",
       "      <td>NaN</td>\n",
       "      <td>07/16/2021</td>\n",
       "      <td>...</td>\n",
       "      <td>NaN</td>\n",
       "      <td>9551.0</td>\n",
       "      <td>Bank of America, National Association</td>\n",
       "      <td>CHARLOTTE</td>\n",
       "      <td>NC</td>\n",
       "      <td>Unanswered</td>\n",
       "      <td>Unanswered</td>\n",
       "      <td>NaN</td>\n",
       "      <td>150083.01</td>\n",
       "      <td>06/11/2021</td>\n",
       "    </tr>\n",
       "    <tr>\n",
       "      <th>2</th>\n",
       "      <td>9677497701</td>\n",
       "      <td>05/01/2020</td>\n",
       "      <td>464.0</td>\n",
       "      <td>PPP</td>\n",
       "      <td>NORTH CHARLESTON HOSPITALITY GROUP LLC</td>\n",
       "      <td>192 College Park Rd</td>\n",
       "      <td>Ladson</td>\n",
       "      <td>NaN</td>\n",
       "      <td>29456-3517</td>\n",
       "      <td>09/25/2021</td>\n",
       "      <td>...</td>\n",
       "      <td>Limited  Liability Company(LLC)</td>\n",
       "      <td>19248.0</td>\n",
       "      <td>Synovus Bank</td>\n",
       "      <td>COLUMBUS</td>\n",
       "      <td>GA</td>\n",
       "      <td>Unanswered</td>\n",
       "      <td>Unanswered</td>\n",
       "      <td>NaN</td>\n",
       "      <td>141920.11</td>\n",
       "      <td>08/25/2021</td>\n",
       "    </tr>\n",
       "    <tr>\n",
       "      <th>3</th>\n",
       "      <td>9547167709</td>\n",
       "      <td>05/01/2020</td>\n",
       "      <td>464.0</td>\n",
       "      <td>PPP</td>\n",
       "      <td>Q AND J SERVICES LLC</td>\n",
       "      <td>301 Old Georgetown Road</td>\n",
       "      <td>Manning</td>\n",
       "      <td>NaN</td>\n",
       "      <td>29102-2734</td>\n",
       "      <td>04/20/2021</td>\n",
       "      <td>...</td>\n",
       "      <td>Limited  Liability Company(LLC)</td>\n",
       "      <td>19248.0</td>\n",
       "      <td>Synovus Bank</td>\n",
       "      <td>COLUMBUS</td>\n",
       "      <td>GA</td>\n",
       "      <td>Unanswered</td>\n",
       "      <td>Unanswered</td>\n",
       "      <td>NaN</td>\n",
       "      <td>137747.78</td>\n",
       "      <td>03/29/2021</td>\n",
       "    </tr>\n",
       "    <tr>\n",
       "      <th>4</th>\n",
       "      <td>8885207205</td>\n",
       "      <td>04/28/2020</td>\n",
       "      <td>NaN</td>\n",
       "      <td>PPP</td>\n",
       "      <td>Exemption 6</td>\n",
       "      <td>NaN</td>\n",
       "      <td>NaN</td>\n",
       "      <td>NaN</td>\n",
       "      <td>NaN</td>\n",
       "      <td>05/20/2021</td>\n",
       "      <td>...</td>\n",
       "      <td>Non-Profit Organization</td>\n",
       "      <td>NaN</td>\n",
       "      <td>NaN</td>\n",
       "      <td>NaN</td>\n",
       "      <td>NaN</td>\n",
       "      <td>Unanswered</td>\n",
       "      <td>Unanswered</td>\n",
       "      <td>Y</td>\n",
       "      <td>131876.98</td>\n",
       "      <td>04/27/2021</td>\n",
       "    </tr>\n",
       "  </tbody>\n",
       "</table>\n",
       "<p>5 rows × 53 columns</p>\n",
       "</div>"
      ],
      "text/plain": [
       "   LoanNumber DateApproved  SBAOfficeCode ProcessingMethod  \\\n",
       "0  3509338307   01/22/2021            NaN              PPS   \n",
       "1  5375617707   05/01/2020          101.0              PPP   \n",
       "2  9677497701   05/01/2020          464.0              PPP   \n",
       "3  9547167709   05/01/2020          464.0              PPP   \n",
       "4  8885207205   04/28/2020            NaN              PPP   \n",
       "\n",
       "                             BorrowerName          BorrowerAddress  \\\n",
       "0                             Exemption 6                      NaN   \n",
       "1                           NOT AVAILABLE                      NaN   \n",
       "2  NORTH CHARLESTON HOSPITALITY GROUP LLC      192 College Park Rd   \n",
       "3                    Q AND J SERVICES LLC  301 Old Georgetown Road   \n",
       "4                             Exemption 6                      NaN   \n",
       "\n",
       "  BorrowerCity BorrowerState BorrowerZip LoanStatusDate  ...  \\\n",
       "0          NaN           NaN         NaN     02/18/2022  ...   \n",
       "1          NaN           NaN         NaN     07/16/2021  ...   \n",
       "2       Ladson           NaN  29456-3517     09/25/2021  ...   \n",
       "3      Manning           NaN  29102-2734     04/20/2021  ...   \n",
       "4          NaN           NaN         NaN     05/20/2021  ...   \n",
       "\n",
       "                      BusinessType  OriginatingLenderLocationID  \\\n",
       "0          Non-Profit Organization                          NaN   \n",
       "1                              NaN                       9551.0   \n",
       "2  Limited  Liability Company(LLC)                      19248.0   \n",
       "3  Limited  Liability Company(LLC)                      19248.0   \n",
       "4          Non-Profit Organization                          NaN   \n",
       "\n",
       "                       OriginatingLender  OriginatingLenderCity  \\\n",
       "0                                    NaN                    NaN   \n",
       "1  Bank of America, National Association              CHARLOTTE   \n",
       "2                           Synovus Bank               COLUMBUS   \n",
       "3                           Synovus Bank               COLUMBUS   \n",
       "4                                    NaN                    NaN   \n",
       "\n",
       "   OriginatingLenderState      Gender     Veteran  NonProfit  \\\n",
       "0                     NaN  Unanswered  Unanswered          Y   \n",
       "1                      NC  Unanswered  Unanswered        NaN   \n",
       "2                      GA  Unanswered  Unanswered        NaN   \n",
       "3                      GA  Unanswered  Unanswered        NaN   \n",
       "4                     NaN  Unanswered  Unanswered          Y   \n",
       "\n",
       "  ForgivenessAmount ForgivenessDate  \n",
       "0         150775.38      01/13/2022  \n",
       "1         150083.01      06/11/2021  \n",
       "2         141920.11      08/25/2021  \n",
       "3         137747.78      03/29/2021  \n",
       "4         131876.98      04/27/2021  \n",
       "\n",
       "[5 rows x 53 columns]"
      ]
     },
     "execution_count": 4,
     "metadata": {},
     "output_type": "execute_result"
    }
   ],
   "source": [
    "ppp_1.head()"
   ]
  },
  {
   "cell_type": "code",
   "execution_count": 5,
   "id": "a8ca63a4-b96c-441e-a12a-4752122dbc32",
   "metadata": {},
   "outputs": [
    {
     "name": "stdout",
     "output_type": "stream",
     "text": [
      "<class 'pandas.core.frame.DataFrame'>\n",
      "RangeIndex: 900000 entries, 0 to 899999\n",
      "Data columns (total 53 columns):\n",
      " #   Column                       Non-Null Count   Dtype  \n",
      "---  ------                       --------------   -----  \n",
      " 0   LoanNumber                   900000 non-null  int64  \n",
      " 1   DateApproved                 900000 non-null  object \n",
      " 2   SBAOfficeCode                899972 non-null  float64\n",
      " 3   ProcessingMethod             900000 non-null  object \n",
      " 4   BorrowerName                 899999 non-null  object \n",
      " 5   BorrowerAddress              899858 non-null  object \n",
      " 6   BorrowerCity                 899855 non-null  object \n",
      " 7   BorrowerState                899848 non-null  object \n",
      " 8   BorrowerZip                  899859 non-null  object \n",
      " 9   LoanStatusDate               879679 non-null  object \n",
      " 10  LoanStatus                   900000 non-null  object \n",
      " 11  Term                         900000 non-null  int64  \n",
      " 12  SBAGuarantyPercentage        900000 non-null  int64  \n",
      " 13  InitialApprovalAmount        900000 non-null  float64\n",
      " 14  CurrentApprovalAmount        900000 non-null  float64\n",
      " 15  UndisbursedAmount            899943 non-null  float64\n",
      " 16  FranchiseName                14209 non-null   object \n",
      " 17  ServicingLenderLocationID    899972 non-null  float64\n",
      " 18  ServicingLenderName          899972 non-null  object \n",
      " 19  ServicingLenderAddress       899972 non-null  object \n",
      " 20  ServicingLenderCity          899972 non-null  object \n",
      " 21  ServicingLenderState         899972 non-null  object \n",
      " 22  ServicingLenderZip           899972 non-null  object \n",
      " 23  RuralUrbanIndicator          900000 non-null  object \n",
      " 24  HubzoneIndicator             900000 non-null  object \n",
      " 25  LMIIndicator                 899999 non-null  object \n",
      " 26  BusinessAgeDescription       900000 non-null  object \n",
      " 27  ProjectCity                  899854 non-null  object \n",
      " 28  ProjectCountyName            899784 non-null  object \n",
      " 29  ProjectState                 899868 non-null  object \n",
      " 30  ProjectZip                   899858 non-null  object \n",
      " 31  CD                           899799 non-null  object \n",
      " 32  JobsReported                 899999 non-null  float64\n",
      " 33  NAICSCode                    886628 non-null  float64\n",
      " 34  Race                         900000 non-null  object \n",
      " 35  Ethnicity                    900000 non-null  object \n",
      " 36  UTILITIES_PROCEED            271814 non-null  float64\n",
      " 37  PAYROLL_PROCEED              899066 non-null  float64\n",
      " 38  MORTGAGE_INTEREST_PROCEED    19320 non-null   float64\n",
      " 39  RENT_PROCEED                 49402 non-null   float64\n",
      " 40  REFINANCE_EIDL_PROCEED       8489 non-null    float64\n",
      " 41  HEALTH_CARE_PROCEED          19064 non-null   float64\n",
      " 42  DEBT_INTEREST_PROCEED        11467 non-null   float64\n",
      " 43  BusinessType                 899850 non-null  object \n",
      " 44  OriginatingLenderLocationID  899972 non-null  float64\n",
      " 45  OriginatingLender            899972 non-null  object \n",
      " 46  OriginatingLenderCity        899972 non-null  object \n",
      " 47  OriginatingLenderState       899972 non-null  object \n",
      " 48  Gender                       900000 non-null  object \n",
      " 49  Veteran                      900000 non-null  object \n",
      " 50  NonProfit                    20181 non-null   object \n",
      " 51  ForgivenessAmount            837813 non-null  float64\n",
      " 52  ForgivenessDate              837813 non-null  object \n",
      "dtypes: float64(16), int64(3), object(34)\n",
      "memory usage: 363.9+ MB\n"
     ]
    }
   ],
   "source": [
    "ppp_1.info()"
   ]
  },
  {
   "cell_type": "markdown",
   "id": "eaf1523c-6cfc-4809-8df0-eb9a03292e6e",
   "metadata": {},
   "source": [
    "There are 53 features which encompass descriptive information such as the company name of the borrower, the geographic location of the company, and the type of business.  There are a number of target variables which spring to mind.  For example, the status of the loan.  At the time of the collection of this dataset, if the loan is over, we can observe the status of that loan as paid in full, in default, or has been forgiven.  We could model the outcome of a loan.\n",
    "\n",
    "Another potential target is to model what percentage of a loan would be forgiven.\n",
    "\n",
    "If we can access data about all PPP loan applications, we can build a model to predict the approved loan amount.\n",
    "\n",
    "We will update this section if other interesting research questions make themselves known.  We hypothesize that if we can find related datasets about pandemic economy outcomes OR geographically organized information about COVID disease burden like hospitalizations OR about local government policy for enforced isolation leading to reduced patronage of small businesses, then we can ask even more interesting questions.  (*) One such augmented hypothesis might ask whether disease burden reduced small business revenue or isolation policies.  \n",
    "\n",
    "We took guidance from this source: https://www.jennifer-case.com/featured-projects"
   ]
  },
  {
   "cell_type": "code",
   "execution_count": 71,
   "id": "7a822b77-ad58-4887-bd24-e9cdd61a1c15",
   "metadata": {},
   "outputs": [],
   "source": [
    "# Generate an easy to read data dictionary\n",
    "dict_df = pd.read_csv('../data/ppp-data-dictionary.csv', index_col=0)\n",
    "dict_df['dtype'] = ppp_1.dtypes\n",
    "dict_df.reset_index(inplace=True)"
   ]
  },
  {
   "cell_type": "code",
   "execution_count": 72,
   "id": "e0098c31-f795-4499-a6ec-4b82c549e8b0",
   "metadata": {},
   "outputs": [
    {
     "data": {
      "text/html": [
       "<div>\n",
       "<style scoped>\n",
       "    .dataframe tbody tr th:only-of-type {\n",
       "        vertical-align: middle;\n",
       "    }\n",
       "\n",
       "    .dataframe tbody tr th {\n",
       "        vertical-align: top;\n",
       "    }\n",
       "\n",
       "    .dataframe thead th {\n",
       "        text-align: right;\n",
       "    }\n",
       "</style>\n",
       "<table border=\"1\" class=\"dataframe\">\n",
       "  <thead>\n",
       "    <tr style=\"text-align: right;\">\n",
       "      <th></th>\n",
       "      <th>Field Name</th>\n",
       "      <th>Field Description</th>\n",
       "      <th>dtype</th>\n",
       "    </tr>\n",
       "  </thead>\n",
       "  <tbody>\n",
       "    <tr>\n",
       "      <th>0</th>\n",
       "      <td>LoanNumber</td>\n",
       "      <td>Loan Number (unique identifier)</td>\n",
       "      <td>int64</td>\n",
       "    </tr>\n",
       "    <tr>\n",
       "      <th>1</th>\n",
       "      <td>DateApproved</td>\n",
       "      <td>Loan Funded Date</td>\n",
       "      <td>object</td>\n",
       "    </tr>\n",
       "    <tr>\n",
       "      <th>2</th>\n",
       "      <td>SBAOfficeCode</td>\n",
       "      <td>SBA Origination Office Code</td>\n",
       "      <td>float64</td>\n",
       "    </tr>\n",
       "    <tr>\n",
       "      <th>3</th>\n",
       "      <td>ProcessingMethod</td>\n",
       "      <td>Loan Delivery Method (PPP for first draw; PPS ...</td>\n",
       "      <td>object</td>\n",
       "    </tr>\n",
       "    <tr>\n",
       "      <th>4</th>\n",
       "      <td>BorrowerName</td>\n",
       "      <td>Borrower Name</td>\n",
       "      <td>object</td>\n",
       "    </tr>\n",
       "  </tbody>\n",
       "</table>\n",
       "</div>"
      ],
      "text/plain": [
       "         Field Name                                  Field Description  \\\n",
       "0        LoanNumber                    Loan Number (unique identifier)   \n",
       "1      DateApproved                                   Loan Funded Date   \n",
       "2     SBAOfficeCode                        SBA Origination Office Code   \n",
       "3  ProcessingMethod  Loan Delivery Method (PPP for first draw; PPS ...   \n",
       "4      BorrowerName                                      Borrower Name   \n",
       "\n",
       "     dtype  \n",
       "0    int64  \n",
       "1   object  \n",
       "2  float64  \n",
       "3   object  \n",
       "4   object  "
      ]
     },
     "execution_count": 72,
     "metadata": {},
     "output_type": "execute_result"
    }
   ],
   "source": [
    "dict_df.iloc[:5, :]"
   ]
  },
  {
   "cell_type": "markdown",
   "id": "a4d94874-5ae8-4ad8-8a39-db3df7a889ad",
   "metadata": {},
   "source": [
    "LoanNumber is a unique numeric identifier.\n",
    "\n",
    "DateApproved is the date the loan was funded.\n",
    "\n",
    "SBAOfficeCode is an identifier for which Small Business Administration office processed this loan application.\n",
    "\n",
    "BorrowerName is the company name."
   ]
  },
  {
   "cell_type": "code",
   "execution_count": 73,
   "id": "e6afe7e2-4cec-4b4a-99b8-eb63781914bf",
   "metadata": {},
   "outputs": [
    {
     "data": {
      "text/plain": [
       "'Loan Delivery Method (PPP for first draw; PPS for second draw)'"
      ]
     },
     "execution_count": 73,
     "metadata": {},
     "output_type": "execute_result"
    }
   ],
   "source": [
    "dict_df.iloc[3,1] # Greater detail on ProcessingMethod"
   ]
  },
  {
   "cell_type": "markdown",
   "id": "cd458c98-9684-4de5-a664-73d504d1af8c",
   "metadata": {},
   "source": [
    "ProcessingMethod is categorical. It is designated PPP if the loan was drawn once from the original program.  \n",
    "\n",
    "The loan program was revived and extended to March 31, 2021.  In this case, only businesses who had previously been granted a First Draw loan can qualify for a Second Draw loan.  A borrower can get a Second Draw Loan before their First Draw Loan funds are used up, but it will only be disbursed afterwards. These loans are designated PPS. \n",
    "\n",
    "(Reference: https://www.cpmlaw.com/understanding-the-difference-between-the-new-and-old-ppp-loan-programs/)"
   ]
  },
  {
   "cell_type": "code",
   "execution_count": null,
   "id": "9807f8bc-2947-4987-ab89-fcbbeea865e1",
   "metadata": {},
   "outputs": [],
   "source": []
  },
  {
   "cell_type": "code",
   "execution_count": null,
   "id": "e4b25f72-e820-4a1a-8d7f-74ddb75506b2",
   "metadata": {},
   "outputs": [],
   "source": []
  },
  {
   "cell_type": "code",
   "execution_count": 75,
   "id": "59d4589c-1fcd-4730-9420-037e8ad5a8da",
   "metadata": {},
   "outputs": [
    {
     "data": {
      "text/html": [
       "<div>\n",
       "<style scoped>\n",
       "    .dataframe tbody tr th:only-of-type {\n",
       "        vertical-align: middle;\n",
       "    }\n",
       "\n",
       "    .dataframe tbody tr th {\n",
       "        vertical-align: top;\n",
       "    }\n",
       "\n",
       "    .dataframe thead th {\n",
       "        text-align: right;\n",
       "    }\n",
       "</style>\n",
       "<table border=\"1\" class=\"dataframe\">\n",
       "  <thead>\n",
       "    <tr style=\"text-align: right;\">\n",
       "      <th></th>\n",
       "      <th>Field Name</th>\n",
       "      <th>Field Description</th>\n",
       "      <th>dtype</th>\n",
       "    </tr>\n",
       "  </thead>\n",
       "  <tbody>\n",
       "    <tr>\n",
       "      <th>5</th>\n",
       "      <td>BorrowerAddress</td>\n",
       "      <td>Borrower Street Address</td>\n",
       "      <td>object</td>\n",
       "    </tr>\n",
       "    <tr>\n",
       "      <th>6</th>\n",
       "      <td>BorrowerCity</td>\n",
       "      <td>Borrower City</td>\n",
       "      <td>object</td>\n",
       "    </tr>\n",
       "    <tr>\n",
       "      <th>7</th>\n",
       "      <td>BorrowerState</td>\n",
       "      <td>Borrower State</td>\n",
       "      <td>object</td>\n",
       "    </tr>\n",
       "    <tr>\n",
       "      <th>8</th>\n",
       "      <td>BorrowerZip</td>\n",
       "      <td>Borrower Zip Code</td>\n",
       "      <td>object</td>\n",
       "    </tr>\n",
       "    <tr>\n",
       "      <th>9</th>\n",
       "      <td>LoanStatusDate</td>\n",
       "      <td>Loan Status Date\\n- Loan Status Date is  blank...</td>\n",
       "      <td>object</td>\n",
       "    </tr>\n",
       "  </tbody>\n",
       "</table>\n",
       "</div>"
      ],
      "text/plain": [
       "        Field Name                                  Field Description   dtype\n",
       "5  BorrowerAddress                            Borrower Street Address  object\n",
       "6     BorrowerCity                                      Borrower City  object\n",
       "7    BorrowerState                                     Borrower State  object\n",
       "8      BorrowerZip                                  Borrower Zip Code  object\n",
       "9   LoanStatusDate  Loan Status Date\\n- Loan Status Date is  blank...  object"
      ]
     },
     "execution_count": 75,
     "metadata": {},
     "output_type": "execute_result"
    }
   ],
   "source": [
    "dict_df.iloc[5:10,:]"
   ]
  },
  {
   "cell_type": "markdown",
   "id": "07fc45fa-9ce1-4011-aad0-b2a9b83ef8fd",
   "metadata": {},
   "source": [
    "These fields record address and geographic location data for the borrower.  Of interest is that these data have been converted into latitude and longitude data (Source: https://www.geocod.io/geocoded-ppp-loan-data/). This can enable geocoded data augmentation with census data, Congressional districts, and demographic data."
   ]
  },
  {
   "cell_type": "code",
   "execution_count": 76,
   "id": "605b604c-b49c-4f6a-8afb-3b0ed7c5de5e",
   "metadata": {},
   "outputs": [
    {
     "data": {
      "text/plain": [
       "'Loan Status Date\\n- Loan Status Date is  blank when the loan is disbursed but not Paid In Full or Charged Off'"
      ]
     },
     "execution_count": 76,
     "metadata": {},
     "output_type": "execute_result"
    }
   ],
   "source": [
    "dict_df.iloc[9, 1]"
   ]
  },
  {
   "cell_type": "markdown",
   "id": "99f9dd51-914f-4780-a4c3-f21ca8692863",
   "metadata": {},
   "source": [
    "LoanStatusDate is the date when the loan was fully paid back or forgiven.\n",
    "When loan repayment is still owed, either from being in default or the loan term has not yet ended, the field is blank. This is an important feature to wrangle as it is a potential target variable for classification."
   ]
  },
  {
   "cell_type": "code",
   "execution_count": 77,
   "id": "0bd38b0e-e688-4185-9659-c8cb0e5cf2fa",
   "metadata": {},
   "outputs": [
    {
     "data": {
      "text/html": [
       "<div>\n",
       "<style scoped>\n",
       "    .dataframe tbody tr th:only-of-type {\n",
       "        vertical-align: middle;\n",
       "    }\n",
       "\n",
       "    .dataframe tbody tr th {\n",
       "        vertical-align: top;\n",
       "    }\n",
       "\n",
       "    .dataframe thead th {\n",
       "        text-align: right;\n",
       "    }\n",
       "</style>\n",
       "<table border=\"1\" class=\"dataframe\">\n",
       "  <thead>\n",
       "    <tr style=\"text-align: right;\">\n",
       "      <th></th>\n",
       "      <th>Field Name</th>\n",
       "      <th>Field Description</th>\n",
       "      <th>dtype</th>\n",
       "    </tr>\n",
       "  </thead>\n",
       "  <tbody>\n",
       "    <tr>\n",
       "      <th>10</th>\n",
       "      <td>LoanStatus</td>\n",
       "      <td>Loan Status Description\\n- Loan Status is repl...</td>\n",
       "      <td>object</td>\n",
       "    </tr>\n",
       "    <tr>\n",
       "      <th>11</th>\n",
       "      <td>Term</td>\n",
       "      <td>Loan Maturity in Months</td>\n",
       "      <td>int64</td>\n",
       "    </tr>\n",
       "    <tr>\n",
       "      <th>12</th>\n",
       "      <td>SBAGuarantyPercentage</td>\n",
       "      <td>SBA Guaranty Percentage</td>\n",
       "      <td>int64</td>\n",
       "    </tr>\n",
       "    <tr>\n",
       "      <th>13</th>\n",
       "      <td>InitialApprovalAmount</td>\n",
       "      <td>Loan Approval Amount(at origination)</td>\n",
       "      <td>float64</td>\n",
       "    </tr>\n",
       "    <tr>\n",
       "      <th>14</th>\n",
       "      <td>CurrentApprovalAmount</td>\n",
       "      <td>Loan Approval Amount (current)</td>\n",
       "      <td>float64</td>\n",
       "    </tr>\n",
       "  </tbody>\n",
       "</table>\n",
       "</div>"
      ],
      "text/plain": [
       "               Field Name                                  Field Description  \\\n",
       "10             LoanStatus  Loan Status Description\\n- Loan Status is repl...   \n",
       "11                   Term                            Loan Maturity in Months   \n",
       "12  SBAGuarantyPercentage                            SBA Guaranty Percentage   \n",
       "13  InitialApprovalAmount               Loan Approval Amount(at origination)   \n",
       "14  CurrentApprovalAmount                     Loan Approval Amount (current)   \n",
       "\n",
       "      dtype  \n",
       "10   object  \n",
       "11    int64  \n",
       "12    int64  \n",
       "13  float64  \n",
       "14  float64  "
      ]
     },
     "execution_count": 77,
     "metadata": {},
     "output_type": "execute_result"
    }
   ],
   "source": [
    "dict_df.iloc[10:15,:]"
   ]
  },
  {
   "cell_type": "code",
   "execution_count": 78,
   "id": "780f80d0-b23d-4f54-b6af-773092f2f866",
   "metadata": {},
   "outputs": [
    {
     "data": {
      "text/plain": [
       "\"Loan Status Description\\n- Loan Status is replaced by 'Exemption 4' when the loan is disbursed but not Paid in Full or Charged Off\""
      ]
     },
     "execution_count": 78,
     "metadata": {},
     "output_type": "execute_result"
    }
   ],
   "source": [
    "dict_df.iloc[10, 1]"
   ]
  },
  {
   "cell_type": "markdown",
   "id": "72882182-58dc-402e-80fe-6735b80a3be7",
   "metadata": {},
   "source": [
    "LoanStatus can be Paid in Full or Charged Off.  However, if the loan is still owed, this will be designated Exemption 4.  We will add a more detailed description of what Exemption 4 includes."
   ]
  },
  {
   "cell_type": "markdown",
   "id": "0fcf68b0-262d-4fb3-a501-d33639e65dfe",
   "metadata": {},
   "source": [
    "Term is the length of the loan period in months.\n",
    "\n",
    "SBAGuarantyPercentage - if the small business defaults on the loan which is issued by a private lender, the SBA guarantees repayment of a substantial percentage of the loan amount.  This is intended to encourage lenders to grant credit by being a substitute for collateral.  There are some interesting secondary market effects for selling the guaranteed portion of the loan. (Refer here: https://www.wolterskluwer.com/en/expert-insights/sba-loan-guarantees)\n",
    "\n",
    "InitialApprovalAmount is the amount of the loan.\n",
    "\n",
    "CurrentApprovalAmount is the current amount of the approval amount and may have been increased since the original loan extended.  The dataset includes Second Draw loans, so this may describe the loan amount after a second draw."
   ]
  },
  {
   "cell_type": "code",
   "execution_count": 84,
   "id": "ec6f6992-db3f-4f30-bae8-b0c933e790dc",
   "metadata": {},
   "outputs": [
    {
     "data": {
      "text/html": [
       "<div>\n",
       "<style scoped>\n",
       "    .dataframe tbody tr th:only-of-type {\n",
       "        vertical-align: middle;\n",
       "    }\n",
       "\n",
       "    .dataframe tbody tr th {\n",
       "        vertical-align: top;\n",
       "    }\n",
       "\n",
       "    .dataframe thead th {\n",
       "        text-align: right;\n",
       "    }\n",
       "</style>\n",
       "<table border=\"1\" class=\"dataframe\">\n",
       "  <thead>\n",
       "    <tr style=\"text-align: right;\">\n",
       "      <th></th>\n",
       "      <th>Field Name</th>\n",
       "      <th>Field Description</th>\n",
       "      <th>dtype</th>\n",
       "    </tr>\n",
       "  </thead>\n",
       "  <tbody>\n",
       "    <tr>\n",
       "      <th>15</th>\n",
       "      <td>UndisbursedAmount</td>\n",
       "      <td>Undisbursed Amount</td>\n",
       "      <td>float64</td>\n",
       "    </tr>\n",
       "    <tr>\n",
       "      <th>16</th>\n",
       "      <td>FranchiseName</td>\n",
       "      <td>Franchise Name</td>\n",
       "      <td>object</td>\n",
       "    </tr>\n",
       "    <tr>\n",
       "      <th>17</th>\n",
       "      <td>ServicingLenderLocationID</td>\n",
       "      <td>Lender Location ID (unique identifier)</td>\n",
       "      <td>float64</td>\n",
       "    </tr>\n",
       "    <tr>\n",
       "      <th>18</th>\n",
       "      <td>ServicingLenderName</td>\n",
       "      <td>Servicing Lender Name</td>\n",
       "      <td>object</td>\n",
       "    </tr>\n",
       "    <tr>\n",
       "      <th>19</th>\n",
       "      <td>ServicingLenderAddress</td>\n",
       "      <td>Servicing Lender Street Address</td>\n",
       "      <td>object</td>\n",
       "    </tr>\n",
       "    <tr>\n",
       "      <th>20</th>\n",
       "      <td>ServicingLenderCity</td>\n",
       "      <td>Servicing Lender City</td>\n",
       "      <td>object</td>\n",
       "    </tr>\n",
       "    <tr>\n",
       "      <th>21</th>\n",
       "      <td>ServicingLenderState</td>\n",
       "      <td>Servicing Lender State</td>\n",
       "      <td>object</td>\n",
       "    </tr>\n",
       "    <tr>\n",
       "      <th>22</th>\n",
       "      <td>ServicingLenderZip</td>\n",
       "      <td>Servicing Lender Zip Code</td>\n",
       "      <td>object</td>\n",
       "    </tr>\n",
       "  </tbody>\n",
       "</table>\n",
       "</div>"
      ],
      "text/plain": [
       "                   Field Name                       Field Description    dtype\n",
       "15          UndisbursedAmount                      Undisbursed Amount  float64\n",
       "16              FranchiseName                          Franchise Name   object\n",
       "17  ServicingLenderLocationID  Lender Location ID (unique identifier)  float64\n",
       "18        ServicingLenderName                   Servicing Lender Name   object\n",
       "19     ServicingLenderAddress         Servicing Lender Street Address   object\n",
       "20        ServicingLenderCity                   Servicing Lender City   object\n",
       "21       ServicingLenderState                  Servicing Lender State   object\n",
       "22         ServicingLenderZip               Servicing Lender Zip Code   object"
      ]
     },
     "execution_count": 84,
     "metadata": {},
     "output_type": "execute_result"
    }
   ],
   "source": [
    "dict_df.iloc[15:23,:]"
   ]
  },
  {
   "cell_type": "markdown",
   "id": "33d8f0a7-65dc-4f7d-ada1-120ff7455287",
   "metadata": {},
   "source": [
    "UndisbursedAmount - the amount of the loan which has not been disbursed yet.\n",
    "\n",
    "FranchiseName is the name of franchise if applicable.\n",
    "\n",
    "ServicingLenderLocationID identifiers for the private lender that actually issued the loan.\n",
    "ServicingLenderName\n",
    "ServicingLenderAddress\n",
    "ServicingLenderCity\n",
    "ServicingLenderState"
   ]
  },
  {
   "cell_type": "code",
   "execution_count": 87,
   "id": "b1d92613-2b6e-4b3f-82cc-631909baeba7",
   "metadata": {},
   "outputs": [
    {
     "data": {
      "text/html": [
       "<div>\n",
       "<style scoped>\n",
       "    .dataframe tbody tr th:only-of-type {\n",
       "        vertical-align: middle;\n",
       "    }\n",
       "\n",
       "    .dataframe tbody tr th {\n",
       "        vertical-align: top;\n",
       "    }\n",
       "\n",
       "    .dataframe thead th {\n",
       "        text-align: right;\n",
       "    }\n",
       "</style>\n",
       "<table border=\"1\" class=\"dataframe\">\n",
       "  <thead>\n",
       "    <tr style=\"text-align: right;\">\n",
       "      <th></th>\n",
       "      <th>Field Name</th>\n",
       "      <th>Field Description</th>\n",
       "      <th>dtype</th>\n",
       "    </tr>\n",
       "  </thead>\n",
       "  <tbody>\n",
       "    <tr>\n",
       "      <th>23</th>\n",
       "      <td>RuralUrbanIndicator</td>\n",
       "      <td>Rural or Urban Indicator (R/U)</td>\n",
       "      <td>object</td>\n",
       "    </tr>\n",
       "    <tr>\n",
       "      <th>24</th>\n",
       "      <td>HubzoneIndicator</td>\n",
       "      <td>Hubzone Indicator (Y/N)</td>\n",
       "      <td>object</td>\n",
       "    </tr>\n",
       "    <tr>\n",
       "      <th>25</th>\n",
       "      <td>LMIIndicator</td>\n",
       "      <td>LMI Indicator (Y/N)</td>\n",
       "      <td>object</td>\n",
       "    </tr>\n",
       "    <tr>\n",
       "      <th>26</th>\n",
       "      <td>BusinessAgeDescription</td>\n",
       "      <td>Business Age Description</td>\n",
       "      <td>object</td>\n",
       "    </tr>\n",
       "    <tr>\n",
       "      <th>27</th>\n",
       "      <td>ProjectCity</td>\n",
       "      <td>Project City</td>\n",
       "      <td>object</td>\n",
       "    </tr>\n",
       "    <tr>\n",
       "      <th>28</th>\n",
       "      <td>ProjectCountyName</td>\n",
       "      <td>Project County Name</td>\n",
       "      <td>object</td>\n",
       "    </tr>\n",
       "    <tr>\n",
       "      <th>29</th>\n",
       "      <td>ProjectState</td>\n",
       "      <td>Project State</td>\n",
       "      <td>object</td>\n",
       "    </tr>\n",
       "    <tr>\n",
       "      <th>30</th>\n",
       "      <td>ProjectZip</td>\n",
       "      <td>Project Zip Code</td>\n",
       "      <td>object</td>\n",
       "    </tr>\n",
       "  </tbody>\n",
       "</table>\n",
       "</div>"
      ],
      "text/plain": [
       "                Field Name               Field Description   dtype\n",
       "23     RuralUrbanIndicator  Rural or Urban Indicator (R/U)  object\n",
       "24        HubzoneIndicator         Hubzone Indicator (Y/N)  object\n",
       "25            LMIIndicator             LMI Indicator (Y/N)  object\n",
       "26  BusinessAgeDescription        Business Age Description  object\n",
       "27             ProjectCity                    Project City  object\n",
       "28       ProjectCountyName             Project County Name  object\n",
       "29            ProjectState                   Project State  object\n",
       "30              ProjectZip                Project Zip Code  object"
      ]
     },
     "execution_count": 87,
     "metadata": {},
     "output_type": "execute_result"
    }
   ],
   "source": [
    "dict_df.iloc[23:31,:]"
   ]
  },
  {
   "cell_type": "markdown",
   "id": "8c47ebe3-3de9-4819-9ee4-294f922c7058",
   "metadata": {},
   "source": [
    "RuralUrbanIndicator - identifies the business as located in a rural or urban location\n",
    "\n",
    "HubzoneIndicator - a HUBZone is a business located in a low income, high poverty, or high unemployment community\n",
    "\n",
    "LMIIndicator - low and moderate income communities\n",
    "\n",
    "BusinessAgeDescription\t- how long the company has been in business\n",
    "\n",
    "ProjectCity, ProjectCountyName, ProjectState, ProjectZip - address information for the project\n",
    "\n",
    "TODO: BUT we need to look closer to determine what projec this refers to"
   ]
  },
  {
   "cell_type": "code",
   "execution_count": 95,
   "id": "5b2299da-7ac3-428a-886b-f478607f3d04",
   "metadata": {},
   "outputs": [
    {
     "data": {
      "text/html": [
       "<div>\n",
       "<style scoped>\n",
       "    .dataframe tbody tr th:only-of-type {\n",
       "        vertical-align: middle;\n",
       "    }\n",
       "\n",
       "    .dataframe tbody tr th {\n",
       "        vertical-align: top;\n",
       "    }\n",
       "\n",
       "    .dataframe thead th {\n",
       "        text-align: right;\n",
       "    }\n",
       "</style>\n",
       "<table border=\"1\" class=\"dataframe\">\n",
       "  <thead>\n",
       "    <tr style=\"text-align: right;\">\n",
       "      <th></th>\n",
       "      <th>Field Name</th>\n",
       "      <th>Field Description</th>\n",
       "      <th>dtype</th>\n",
       "    </tr>\n",
       "  </thead>\n",
       "  <tbody>\n",
       "    <tr>\n",
       "      <th>31</th>\n",
       "      <td>CD</td>\n",
       "      <td>Project Congressional District</td>\n",
       "      <td>object</td>\n",
       "    </tr>\n",
       "    <tr>\n",
       "      <th>32</th>\n",
       "      <td>JobsReported</td>\n",
       "      <td>Number of Employees</td>\n",
       "      <td>float64</td>\n",
       "    </tr>\n",
       "    <tr>\n",
       "      <th>33</th>\n",
       "      <td>NAICSCode</td>\n",
       "      <td>NAICS 6 digit code</td>\n",
       "      <td>float64</td>\n",
       "    </tr>\n",
       "    <tr>\n",
       "      <th>34</th>\n",
       "      <td>Race</td>\n",
       "      <td>Borrower Race Description</td>\n",
       "      <td>object</td>\n",
       "    </tr>\n",
       "    <tr>\n",
       "      <th>35</th>\n",
       "      <td>Ethnicity</td>\n",
       "      <td>Borrower Ethnicity Description</td>\n",
       "      <td>object</td>\n",
       "    </tr>\n",
       "    <tr>\n",
       "      <th>36</th>\n",
       "      <td>UTILITIES_PROCEED</td>\n",
       "      <td>Note: Proceed data is lender reported at origi...</td>\n",
       "      <td>float64</td>\n",
       "    </tr>\n",
       "    <tr>\n",
       "      <th>37</th>\n",
       "      <td>PAYROLL_PROCEED</td>\n",
       "      <td>Note: Proceed data is lender reported at origi...</td>\n",
       "      <td>float64</td>\n",
       "    </tr>\n",
       "    <tr>\n",
       "      <th>38</th>\n",
       "      <td>MORTGAGE_INTEREST_PROCEED</td>\n",
       "      <td>Note: Proceed data is lender reported at origi...</td>\n",
       "      <td>float64</td>\n",
       "    </tr>\n",
       "    <tr>\n",
       "      <th>39</th>\n",
       "      <td>RENT_PROCEED</td>\n",
       "      <td>Note: Proceed data is lender reported at origi...</td>\n",
       "      <td>float64</td>\n",
       "    </tr>\n",
       "    <tr>\n",
       "      <th>40</th>\n",
       "      <td>REFINANCE_EIDL_PROCEED</td>\n",
       "      <td>Note: Proceed data is lender reported at origi...</td>\n",
       "      <td>float64</td>\n",
       "    </tr>\n",
       "    <tr>\n",
       "      <th>41</th>\n",
       "      <td>HEALTH_CARE_PROCEED</td>\n",
       "      <td>Note: Proceed data is lender reported at origi...</td>\n",
       "      <td>float64</td>\n",
       "    </tr>\n",
       "    <tr>\n",
       "      <th>42</th>\n",
       "      <td>DEBT_INTEREST_PROCEED</td>\n",
       "      <td>Note: Proceed data is lender reported at origi...</td>\n",
       "      <td>float64</td>\n",
       "    </tr>\n",
       "  </tbody>\n",
       "</table>\n",
       "</div>"
      ],
      "text/plain": [
       "                   Field Name  \\\n",
       "31                         CD   \n",
       "32               JobsReported   \n",
       "33                  NAICSCode   \n",
       "34                       Race   \n",
       "35                  Ethnicity   \n",
       "36          UTILITIES_PROCEED   \n",
       "37            PAYROLL_PROCEED   \n",
       "38  MORTGAGE_INTEREST_PROCEED   \n",
       "39               RENT_PROCEED   \n",
       "40     REFINANCE_EIDL_PROCEED   \n",
       "41        HEALTH_CARE_PROCEED   \n",
       "42      DEBT_INTEREST_PROCEED   \n",
       "\n",
       "                                    Field Description    dtype  \n",
       "31                     Project Congressional District   object  \n",
       "32                                Number of Employees  float64  \n",
       "33                                 NAICS 6 digit code  float64  \n",
       "34                          Borrower Race Description   object  \n",
       "35                     Borrower Ethnicity Description   object  \n",
       "36  Note: Proceed data is lender reported at origi...  float64  \n",
       "37  Note: Proceed data is lender reported at origi...  float64  \n",
       "38  Note: Proceed data is lender reported at origi...  float64  \n",
       "39  Note: Proceed data is lender reported at origi...  float64  \n",
       "40  Note: Proceed data is lender reported at origi...  float64  \n",
       "41  Note: Proceed data is lender reported at origi...  float64  \n",
       "42  Note: Proceed data is lender reported at origi...  float64  "
      ]
     },
     "execution_count": 95,
     "metadata": {},
     "output_type": "execute_result"
    }
   ],
   "source": [
    "dict_df.iloc[31:43,:]"
   ]
  },
  {
   "cell_type": "markdown",
   "id": "be0ce353-4bf5-4be6-9e0d-a6fff78e8904",
   "metadata": {},
   "source": [
    "CD - The congressional district where this project was located\n",
    "\n",
    "JobsReported - number of employees in this business aka business size\n",
    "\n",
    "NAICSCode - North American Industry Classification System code describes what kind of business is conducted.  For example, agricultural products, or computer services.\n",
    "\n",
    "Race, Ethnicity - Race, ethnicity of the borrower.  This information is relevant to the incentives created to prioritize racial and gender minority owned businesses for PPP aid.  These businesses may have qualified for other kinds of aid or benefits."
   ]
  },
  {
   "cell_type": "code",
   "execution_count": 93,
   "id": "fd0f7888-7aa2-48d9-8b36-df84ed0cdeb7",
   "metadata": {},
   "outputs": [
    {
     "data": {
      "text/plain": [
       "'Note: Proceed data is lender reported at origination.  On the PPP application the proceeds fields were check boxes.  '"
      ]
     },
     "execution_count": 93,
     "metadata": {},
     "output_type": "execute_result"
    }
   ],
   "source": [
    "dict_df.iloc[36,1]"
   ]
  },
  {
   "cell_type": "markdown",
   "id": "8ff8d4e6-02fa-4d24-8f52-55b2da9d85f9",
   "metadata": {},
   "source": [
    "UTILITIES_PROCEED, PAYROLL_PROCEED, MORTGAGE_INTEREST_PROCEED, RENT_PROCEED, REFINANCE_EIDL_PROCEED, HEALTH_CARE_PROCEED \n",
    "\n",
    "These are categories which were checkboxes on the loan application. A loan proceed is the funds which were disbursed as part of the loan. These categories refer to what the loan proceeds would be used for.  For example, are they to be used for covering payroll, mortgage interest, or health care for workers."
   ]
  },
  {
   "cell_type": "code",
   "execution_count": 96,
   "id": "31bb45dd-a16f-4c5d-b82c-e484be2aa491",
   "metadata": {},
   "outputs": [
    {
     "data": {
      "text/html": [
       "<div>\n",
       "<style scoped>\n",
       "    .dataframe tbody tr th:only-of-type {\n",
       "        vertical-align: middle;\n",
       "    }\n",
       "\n",
       "    .dataframe tbody tr th {\n",
       "        vertical-align: top;\n",
       "    }\n",
       "\n",
       "    .dataframe thead th {\n",
       "        text-align: right;\n",
       "    }\n",
       "</style>\n",
       "<table border=\"1\" class=\"dataframe\">\n",
       "  <thead>\n",
       "    <tr style=\"text-align: right;\">\n",
       "      <th></th>\n",
       "      <th>Field Name</th>\n",
       "      <th>Field Description</th>\n",
       "      <th>dtype</th>\n",
       "    </tr>\n",
       "  </thead>\n",
       "  <tbody>\n",
       "    <tr>\n",
       "      <th>43</th>\n",
       "      <td>BusinessType</td>\n",
       "      <td>Business Type Description</td>\n",
       "      <td>object</td>\n",
       "    </tr>\n",
       "    <tr>\n",
       "      <th>44</th>\n",
       "      <td>OriginatingLenderLocationID</td>\n",
       "      <td>Originating Lender ID (unique identifier)</td>\n",
       "      <td>float64</td>\n",
       "    </tr>\n",
       "    <tr>\n",
       "      <th>45</th>\n",
       "      <td>OriginatingLender</td>\n",
       "      <td>Originating Lender Name</td>\n",
       "      <td>object</td>\n",
       "    </tr>\n",
       "    <tr>\n",
       "      <th>46</th>\n",
       "      <td>OriginatingLenderCity</td>\n",
       "      <td>Originating Lender City</td>\n",
       "      <td>object</td>\n",
       "    </tr>\n",
       "    <tr>\n",
       "      <th>47</th>\n",
       "      <td>OriginatingLenderState</td>\n",
       "      <td>Originating Lender State</td>\n",
       "      <td>object</td>\n",
       "    </tr>\n",
       "    <tr>\n",
       "      <th>48</th>\n",
       "      <td>Gender</td>\n",
       "      <td>Gender Indicator</td>\n",
       "      <td>object</td>\n",
       "    </tr>\n",
       "    <tr>\n",
       "      <th>49</th>\n",
       "      <td>Veteran</td>\n",
       "      <td>Veteran Indicator</td>\n",
       "      <td>object</td>\n",
       "    </tr>\n",
       "    <tr>\n",
       "      <th>50</th>\n",
       "      <td>NonProfit</td>\n",
       "      <td>'Yes' if Business Type = Non-Profit Organizati...</td>\n",
       "      <td>object</td>\n",
       "    </tr>\n",
       "    <tr>\n",
       "      <th>51</th>\n",
       "      <td>ForgivenessAmount</td>\n",
       "      <td>Forgiveness Amount</td>\n",
       "      <td>float64</td>\n",
       "    </tr>\n",
       "    <tr>\n",
       "      <th>52</th>\n",
       "      <td>ForgivenessDate</td>\n",
       "      <td>Forgiveness Paid Date</td>\n",
       "      <td>object</td>\n",
       "    </tr>\n",
       "  </tbody>\n",
       "</table>\n",
       "</div>"
      ],
      "text/plain": [
       "                     Field Name  \\\n",
       "43                 BusinessType   \n",
       "44  OriginatingLenderLocationID   \n",
       "45            OriginatingLender   \n",
       "46        OriginatingLenderCity   \n",
       "47       OriginatingLenderState   \n",
       "48                       Gender   \n",
       "49                      Veteran   \n",
       "50                    NonProfit   \n",
       "51            ForgivenessAmount   \n",
       "52              ForgivenessDate   \n",
       "\n",
       "                                    Field Description    dtype  \n",
       "43                          Business Type Description   object  \n",
       "44          Originating Lender ID (unique identifier)  float64  \n",
       "45                            Originating Lender Name   object  \n",
       "46                            Originating Lender City   object  \n",
       "47                           Originating Lender State   object  \n",
       "48                                   Gender Indicator   object  \n",
       "49                                  Veteran Indicator   object  \n",
       "50  'Yes' if Business Type = Non-Profit Organizati...   object  \n",
       "51                                 Forgiveness Amount  float64  \n",
       "52                              Forgiveness Paid Date   object  "
      ]
     },
     "execution_count": 96,
     "metadata": {},
     "output_type": "execute_result"
    }
   ],
   "source": [
    "dict_df.iloc[43:,:]"
   ]
  },
  {
   "cell_type": "markdown",
   "id": "3075b80d-d5e7-407b-af72-c1a6369d4498",
   "metadata": {},
   "source": [
    "BusinessType - whether the business is a non profit, or other designation\n",
    "\n",
    "OriginatingLenderLocationID, OriginatingLender, OriginatingLenderCity, OriginatingLenderState - describe biographical information about the originating lender.  This is the lender which approved and structured the loan.  This stands in contrast with the servicing lender which administrates the disbursement of the funds and loan repayment.  Sometimes, the same lender entity handles both tasks.\n",
    "\n",
    "Gender, Veteran - whether the borrow has a special status which the PPP is directed to prioritize for additional benefits\n",
    "\n",
    "NonProfit - binary category of whether the business is a nonprofit organization\n",
    "\n",
    "ForgivenessAmount - The amount (full or partial) of the loan which was forgiven in the case that the borrower cannot pay back the loan.  When small businesses are unable to recoup the money, but if they spent the loan proceeds correctly according to the PPP rules, the SBA will forgive these loans.\n",
    "\n",
    "ForgivenessDate\t- The date when the ForgivenessAmount is authorized. "
   ]
  },
  {
   "cell_type": "markdown",
   "id": "d0f1b599-cb72-4f5b-a23d-e99ca17b71e0",
   "metadata": {},
   "source": [
    "### Cleaning up the datatypes"
   ]
  },
  {
   "cell_type": "code",
   "execution_count": 103,
   "id": "d960dfc3-663b-4ddd-96eb-963aa5c144c6",
   "metadata": {},
   "outputs": [],
   "source": [
    "# TODO make a pipline to process all the separate csvs this way"
   ]
  },
  {
   "cell_type": "code",
   "execution_count": 104,
   "id": "d261cee8-c45a-43e4-83e0-049190d7f4fb",
   "metadata": {},
   "outputs": [
    {
     "data": {
      "text/plain": [
       "0   2021-01-22\n",
       "1   2020-05-01\n",
       "2   2020-05-01\n",
       "3   2020-05-01\n",
       "4   2020-04-28\n",
       "Name: DateApproved, dtype: datetime64[ns]"
      ]
     },
     "execution_count": 104,
     "metadata": {},
     "output_type": "execute_result"
    }
   ],
   "source": [
    "ppp_1['DateApproved'] = pd.to_datetime(ppp_1['DateApproved'])\n",
    "ppp_1['DateApproved'].head()"
   ]
  },
  {
   "cell_type": "code",
   "execution_count": 115,
   "id": "644f19d4-2843-4f99-9ae1-f0d469e199f1",
   "metadata": {},
   "outputs": [
    {
     "data": {
      "text/plain": [
       "0    3509338307\n",
       "1    5375617707\n",
       "2    9677497701\n",
       "3    9547167709\n",
       "4    8885207205\n",
       "Name: LoanNumber, dtype: int64"
      ]
     },
     "execution_count": 115,
     "metadata": {},
     "output_type": "execute_result"
    }
   ],
   "source": [
    "ppp_1['LoanNumber'].head()"
   ]
  },
  {
   "cell_type": "code",
   "execution_count": 118,
   "id": "f561f135-a494-429a-bb89-6d7eb218f4f3",
   "metadata": {},
   "outputs": [
    {
     "data": {
      "text/plain": [
       "count   899,972.00\n",
       "mean        827.96\n",
       "std         193.93\n",
       "min         101.00\n",
       "25%         669.00\n",
       "50%         914.00\n",
       "75%         942.00\n",
       "max       9,030.00\n",
       "Name: SBAOfficeCode, dtype: float64"
      ]
     },
     "execution_count": 118,
     "metadata": {},
     "output_type": "execute_result"
    }
   ],
   "source": [
    "ppp_1['SBAOfficeCode'].describe()"
   ]
  },
  {
   "cell_type": "code",
   "execution_count": 120,
   "id": "4acbe679-bd86-4eb0-a20b-5d37445871a6",
   "metadata": {},
   "outputs": [
    {
     "data": {
      "text/plain": [
       "count     900000\n",
       "unique         2\n",
       "top          PPP\n",
       "freq      653482\n",
       "Name: ProcessingMethod, dtype: object"
      ]
     },
     "execution_count": 120,
     "metadata": {},
     "output_type": "execute_result"
    }
   ],
   "source": [
    "ppp_1['ProcessingMethod'].describe()"
   ]
  },
  {
   "cell_type": "code",
   "execution_count": 123,
   "id": "fd93821c-d120-454f-a809-61899345ebb3",
   "metadata": {},
   "outputs": [
    {
     "data": {
      "text/plain": [
       "array(['Exemption 6', 'NOT AVAILABLE',\n",
       "       'NORTH CHARLESTON HOSPITALITY GROUP LLC', ...,\n",
       "       'PRIYANKARA KATUGAMPOLAGE', 'ANTHONY ALFORD',\n",
       "       'BRYAN KREFT LAW OFFICES'], dtype=object)"
      ]
     },
     "execution_count": 123,
     "metadata": {},
     "output_type": "execute_result"
    }
   ],
   "source": [
    "ppp_1['BorrowerName'].unique()"
   ]
  },
  {
   "cell_type": "code",
   "execution_count": 125,
   "id": "01b6410d-854c-480d-affd-ed7bbcfa8081",
   "metadata": {},
   "outputs": [
    {
     "data": {
      "text/html": [
       "<div>\n",
       "<style scoped>\n",
       "    .dataframe tbody tr th:only-of-type {\n",
       "        vertical-align: middle;\n",
       "    }\n",
       "\n",
       "    .dataframe tbody tr th {\n",
       "        vertical-align: top;\n",
       "    }\n",
       "\n",
       "    .dataframe thead th {\n",
       "        text-align: right;\n",
       "    }\n",
       "</style>\n",
       "<table border=\"1\" class=\"dataframe\">\n",
       "  <thead>\n",
       "    <tr style=\"text-align: right;\">\n",
       "      <th></th>\n",
       "      <th>LoanStatusDate</th>\n",
       "      <th>LoanStatus</th>\n",
       "    </tr>\n",
       "  </thead>\n",
       "  <tbody>\n",
       "    <tr>\n",
       "      <th>0</th>\n",
       "      <td>2022-02-18</td>\n",
       "      <td>Paid in Full</td>\n",
       "    </tr>\n",
       "    <tr>\n",
       "      <th>1</th>\n",
       "      <td>2021-07-16</td>\n",
       "      <td>Paid in Full</td>\n",
       "    </tr>\n",
       "    <tr>\n",
       "      <th>2</th>\n",
       "      <td>2021-09-25</td>\n",
       "      <td>Paid in Full</td>\n",
       "    </tr>\n",
       "    <tr>\n",
       "      <th>3</th>\n",
       "      <td>2021-04-20</td>\n",
       "      <td>Paid in Full</td>\n",
       "    </tr>\n",
       "    <tr>\n",
       "      <th>4</th>\n",
       "      <td>2021-05-20</td>\n",
       "      <td>Paid in Full</td>\n",
       "    </tr>\n",
       "  </tbody>\n",
       "</table>\n",
       "</div>"
      ],
      "text/plain": [
       "  LoanStatusDate    LoanStatus\n",
       "0     2022-02-18  Paid in Full\n",
       "1     2021-07-16  Paid in Full\n",
       "2     2021-09-25  Paid in Full\n",
       "3     2021-04-20  Paid in Full\n",
       "4     2021-05-20  Paid in Full"
      ]
     },
     "execution_count": 125,
     "metadata": {},
     "output_type": "execute_result"
    }
   ],
   "source": [
    "ppp_1['LoanStatusDate'] = pd.to_datetime(ppp_1['LoanStatusDate'])\n",
    "ppp_1[['LoanStatusDate', 'LoanStatus']].head()"
   ]
  },
  {
   "cell_type": "code",
   "execution_count": 170,
   "id": "70faee25-a72c-4a3d-91f0-142d948a2364",
   "metadata": {},
   "outputs": [
    {
     "data": {
      "text/plain": [
       "LoanStatusDate\n",
       "04/16/2021    20556\n",
       "03/22/2022    14774\n",
       "09/28/2021    13955\n",
       "09/25/2021    13493\n",
       "10/16/2021    12571\n",
       "              ...  \n",
       "05/02/2021        1\n",
       "06/24/2023        1\n",
       "10/10/2021        1\n",
       "10/30/2020        1\n",
       "01/30/2023        1\n",
       "Name: count, Length: 925, dtype: int64"
      ]
     },
     "execution_count": 170,
     "metadata": {},
     "output_type": "execute_result"
    }
   ],
   "source": [
    "# ppp_1 = pd.read_csv('../data/public_up_to_150k_1_230930.csv')\n",
    "ppp_1['LoanStatusDate'].value_counts()"
   ]
  },
  {
   "cell_type": "code",
   "execution_count": 172,
   "id": "7cf5f31c-0e6b-42bb-8476-9345d63a407b",
   "metadata": {},
   "outputs": [
    {
     "data": {
      "text/plain": [
       "0.022578888888888888"
      ]
     },
     "execution_count": 172,
     "metadata": {},
     "output_type": "execute_result"
    }
   ],
   "source": [
    "np.sum(ppp_1['LoanStatusDate'].isna()) / ppp_1['LoanStatusDate'].size"
   ]
  },
  {
   "cell_type": "markdown",
   "id": "17c01f43-d354-4619-a493-c04622914216",
   "metadata": {},
   "source": [
    "About 2.25% of loans do not have a recorded Loan Status Date, corresponding to loans which have not been paid back or forgiven.  This may include loans which are partially repaid."
   ]
  },
  {
   "cell_type": "code",
   "execution_count": 175,
   "id": "39575373-3cde-4ae1-bb72-70056a9ee965",
   "metadata": {},
   "outputs": [
    {
     "data": {
      "text/html": [
       "<div>\n",
       "<style scoped>\n",
       "    .dataframe tbody tr th:only-of-type {\n",
       "        vertical-align: middle;\n",
       "    }\n",
       "\n",
       "    .dataframe tbody tr th {\n",
       "        vertical-align: top;\n",
       "    }\n",
       "\n",
       "    .dataframe thead th {\n",
       "        text-align: right;\n",
       "    }\n",
       "</style>\n",
       "<table border=\"1\" class=\"dataframe\">\n",
       "  <thead>\n",
       "    <tr style=\"text-align: right;\">\n",
       "      <th></th>\n",
       "      <th>BusinessType</th>\n",
       "      <th>BorrowerName</th>\n",
       "      <th>CurrentApprovalAmount</th>\n",
       "    </tr>\n",
       "  </thead>\n",
       "  <tbody>\n",
       "    <tr>\n",
       "      <th>65</th>\n",
       "      <td>Self-Employed Individuals</td>\n",
       "      <td>Exemption 6</td>\n",
       "      <td>20,468.00</td>\n",
       "    </tr>\n",
       "    <tr>\n",
       "      <th>153</th>\n",
       "      <td>Sole Proprietorship</td>\n",
       "      <td>KIANNA MITCHELL</td>\n",
       "      <td>20,000.00</td>\n",
       "    </tr>\n",
       "    <tr>\n",
       "      <th>296</th>\n",
       "      <td>Corporation</td>\n",
       "      <td>FRONTIER AUTO SALES LLC</td>\n",
       "      <td>143,462.00</td>\n",
       "    </tr>\n",
       "    <tr>\n",
       "      <th>532</th>\n",
       "      <td>Sole Proprietorship</td>\n",
       "      <td>STACY GOULD</td>\n",
       "      <td>134,418.00</td>\n",
       "    </tr>\n",
       "    <tr>\n",
       "      <th>558</th>\n",
       "      <td>Trust</td>\n",
       "      <td>ALASKA 360, LLC</td>\n",
       "      <td>133,394.00</td>\n",
       "    </tr>\n",
       "    <tr>\n",
       "      <th>...</th>\n",
       "      <td>...</td>\n",
       "      <td>...</td>\n",
       "      <td>...</td>\n",
       "    </tr>\n",
       "    <tr>\n",
       "      <th>899891</th>\n",
       "      <td>Sole Proprietorship</td>\n",
       "      <td>CAMERON MOLETTE</td>\n",
       "      <td>20,833.00</td>\n",
       "    </tr>\n",
       "    <tr>\n",
       "      <th>899899</th>\n",
       "      <td>Independent Contractors</td>\n",
       "      <td>HAIDEE GOMEZ</td>\n",
       "      <td>20,833.00</td>\n",
       "    </tr>\n",
       "    <tr>\n",
       "      <th>899928</th>\n",
       "      <td>Sole Proprietorship</td>\n",
       "      <td>ALEXIS LEE</td>\n",
       "      <td>20,833.00</td>\n",
       "    </tr>\n",
       "    <tr>\n",
       "      <th>899979</th>\n",
       "      <td>Self-Employed Individuals</td>\n",
       "      <td>XI LUO</td>\n",
       "      <td>20,833.00</td>\n",
       "    </tr>\n",
       "    <tr>\n",
       "      <th>899996</th>\n",
       "      <td>Sole Proprietorship</td>\n",
       "      <td>ANTHONY ALFORD</td>\n",
       "      <td>20,833.00</td>\n",
       "    </tr>\n",
       "  </tbody>\n",
       "</table>\n",
       "<p>20321 rows × 3 columns</p>\n",
       "</div>"
      ],
      "text/plain": [
       "                     BusinessType             BorrowerName  \\\n",
       "65      Self-Employed Individuals              Exemption 6   \n",
       "153           Sole Proprietorship          KIANNA MITCHELL   \n",
       "296                   Corporation  FRONTIER AUTO SALES LLC   \n",
       "532           Sole Proprietorship              STACY GOULD   \n",
       "558                         Trust          ALASKA 360, LLC   \n",
       "...                           ...                      ...   \n",
       "899891        Sole Proprietorship          CAMERON MOLETTE   \n",
       "899899    Independent Contractors             HAIDEE GOMEZ   \n",
       "899928        Sole Proprietorship               ALEXIS LEE   \n",
       "899979  Self-Employed Individuals                   XI LUO   \n",
       "899996        Sole Proprietorship           ANTHONY ALFORD   \n",
       "\n",
       "        CurrentApprovalAmount  \n",
       "65                  20,468.00  \n",
       "153                 20,000.00  \n",
       "296                143,462.00  \n",
       "532                134,418.00  \n",
       "558                133,394.00  \n",
       "...                       ...  \n",
       "899891              20,833.00  \n",
       "899899              20,833.00  \n",
       "899928              20,833.00  \n",
       "899979              20,833.00  \n",
       "899996              20,833.00  \n",
       "\n",
       "[20321 rows x 3 columns]"
      ]
     },
     "execution_count": 175,
     "metadata": {},
     "output_type": "execute_result"
    }
   ],
   "source": [
    "ppp_1[ppp_1['LoanStatusDate'].isna()][['BusinessType', 'BorrowerName', 'CurrentApprovalAmount']]"
   ]
  },
  {
   "cell_type": "code",
   "execution_count": 176,
   "id": "c24730ab-5eb1-4468-b656-bfe09e156188",
   "metadata": {},
   "outputs": [
    {
     "data": {
      "text/plain": [
       "LoanStatus\n",
       "Paid in Full    839306\n",
       "Charged Off      40373\n",
       "Exemption 4      20321\n",
       "Name: count, dtype: int64"
      ]
     },
     "execution_count": 176,
     "metadata": {},
     "output_type": "execute_result"
    }
   ],
   "source": [
    "ppp_1['LoanStatus'].value_counts()"
   ]
  },
  {
   "cell_type": "code",
   "execution_count": 131,
   "id": "e874b799-1a8a-4a9b-bd2b-8e7a22eae2ec",
   "metadata": {},
   "outputs": [
    {
     "data": {
      "text/html": [
       "<div>\n",
       "<style scoped>\n",
       "    .dataframe tbody tr th:only-of-type {\n",
       "        vertical-align: middle;\n",
       "    }\n",
       "\n",
       "    .dataframe tbody tr th {\n",
       "        vertical-align: top;\n",
       "    }\n",
       "\n",
       "    .dataframe thead th {\n",
       "        text-align: right;\n",
       "    }\n",
       "</style>\n",
       "<table border=\"1\" class=\"dataframe\">\n",
       "  <thead>\n",
       "    <tr style=\"text-align: right;\">\n",
       "      <th></th>\n",
       "      <th>SBAGuarantyPercentage</th>\n",
       "      <th>Term</th>\n",
       "    </tr>\n",
       "  </thead>\n",
       "  <tbody>\n",
       "    <tr>\n",
       "      <th>count</th>\n",
       "      <td>900,000.00</td>\n",
       "      <td>900,000.00</td>\n",
       "    </tr>\n",
       "    <tr>\n",
       "      <th>mean</th>\n",
       "      <td>100.00</td>\n",
       "      <td>43.25</td>\n",
       "    </tr>\n",
       "    <tr>\n",
       "      <th>std</th>\n",
       "      <td>0.00</td>\n",
       "      <td>17.89</td>\n",
       "    </tr>\n",
       "    <tr>\n",
       "      <th>min</th>\n",
       "      <td>100.00</td>\n",
       "      <td>0.00</td>\n",
       "    </tr>\n",
       "    <tr>\n",
       "      <th>25%</th>\n",
       "      <td>100.00</td>\n",
       "      <td>24.00</td>\n",
       "    </tr>\n",
       "    <tr>\n",
       "      <th>50%</th>\n",
       "      <td>100.00</td>\n",
       "      <td>60.00</td>\n",
       "    </tr>\n",
       "    <tr>\n",
       "      <th>75%</th>\n",
       "      <td>100.00</td>\n",
       "      <td>60.00</td>\n",
       "    </tr>\n",
       "    <tr>\n",
       "      <th>max</th>\n",
       "      <td>100.00</td>\n",
       "      <td>136.00</td>\n",
       "    </tr>\n",
       "  </tbody>\n",
       "</table>\n",
       "</div>"
      ],
      "text/plain": [
       "       SBAGuarantyPercentage       Term\n",
       "count             900,000.00 900,000.00\n",
       "mean                  100.00      43.25\n",
       "std                     0.00      17.89\n",
       "min                   100.00       0.00\n",
       "25%                   100.00      24.00\n",
       "50%                   100.00      60.00\n",
       "75%                   100.00      60.00\n",
       "max                   100.00     136.00"
      ]
     },
     "execution_count": 131,
     "metadata": {},
     "output_type": "execute_result"
    }
   ],
   "source": [
    "ppp_1[['SBAGuarantyPercentage', 'Term']].describe()"
   ]
  },
  {
   "cell_type": "code",
   "execution_count": 137,
   "id": "2420baad-77b5-4f2f-b8fd-3da6a9b03102",
   "metadata": {},
   "outputs": [],
   "source": [
    "loan_sz_inc = ppp_1[ppp_1['InitialApprovalAmount'] < ppp_1['CurrentApprovalAmount']]"
   ]
  },
  {
   "cell_type": "code",
   "execution_count": 142,
   "id": "ee8ab9ad-8e72-4619-9d83-395495ff6d28",
   "metadata": {},
   "outputs": [],
   "source": [
    "# By how much were loan amounts increased?\n",
    "percent_inc = (loan_sz_inc['CurrentApprovalAmount'] - loan_sz_inc['InitialApprovalAmount'])/loan_sz_inc['InitialApprovalAmount']"
   ]
  },
  {
   "cell_type": "code",
   "execution_count": 143,
   "id": "7ed6dc92-2ff3-46b1-9b52-87b88adc8de9",
   "metadata": {},
   "outputs": [
    {
     "data": {
      "text/plain": [
       "count   9,914.00\n",
       "mean         inf\n",
       "std          NaN\n",
       "min         0.00\n",
       "25%         0.06\n",
       "50%         0.32\n",
       "75%         1.21\n",
       "max          inf\n",
       "dtype: float64"
      ]
     },
     "execution_count": 143,
     "metadata": {},
     "output_type": "execute_result"
    }
   ],
   "source": [
    "percent_inc.describe()"
   ]
  },
  {
   "cell_type": "markdown",
   "id": "f09fa3e5-f3f7-435c-8058-65ad72f1973b",
   "metadata": {},
   "source": [
    "There are nearly 10,000 loans which were increased.  The median amount of increase was about 32% of the original loan size."
   ]
  },
  {
   "cell_type": "code",
   "execution_count": 144,
   "id": "95f76eff-5bc2-4380-9a26-f2d421a256c0",
   "metadata": {},
   "outputs": [
    {
     "data": {
      "text/plain": [
       "count   899,943.00\n",
       "mean          0.08\n",
       "std          71.39\n",
       "min           0.00\n",
       "25%           0.00\n",
       "50%           0.00\n",
       "75%           0.00\n",
       "max      67,720.00\n",
       "Name: UndisbursedAmount, dtype: float64"
      ]
     },
     "execution_count": 144,
     "metadata": {},
     "output_type": "execute_result"
    }
   ],
   "source": [
    "ppp_1['UndisbursedAmount'].describe()"
   ]
  },
  {
   "cell_type": "code",
   "execution_count": 147,
   "id": "c0e524fc-a6b5-45de-90fb-b246ee111527",
   "metadata": {},
   "outputs": [
    {
     "data": {
      "text/plain": [
       "1"
      ]
     },
     "execution_count": 147,
     "metadata": {},
     "output_type": "execute_result"
    }
   ],
   "source": [
    "np.sum(ppp_1['UndisbursedAmount'] > 0)  # only one loan was not fully disbursed"
   ]
  },
  {
   "cell_type": "code",
   "execution_count": 154,
   "id": "423760ea-feb3-4735-8f99-51bb1daffcdb",
   "metadata": {},
   "outputs": [
    {
     "data": {
      "text/plain": [
       "383    Best Western - Membership Agreement\n",
       "404                          Vision Source\n",
       "502                               Pita Pit\n",
       "521                           Ace Hardware\n",
       "560                                 Subway\n",
       "608    Best Western - Membership Agreement\n",
       "744                                Re-Bath\n",
       "745                                Re-Bath\n",
       "899                             SportClips\n",
       "919                Four Points by Sheraton\n",
       "Name: FranchiseName, dtype: object"
      ]
     },
     "execution_count": 154,
     "metadata": {},
     "output_type": "execute_result"
    }
   ],
   "source": [
    "ppp_1[ppp_1['FranchiseName'].notna()]['FranchiseName'].head(10)"
   ]
  },
  {
   "cell_type": "markdown",
   "id": "a8715e5f-1bb7-4da7-9bf2-813b98f07bd0",
   "metadata": {},
   "source": [
    "Whether a small business is part of a franchise may signal its robustness for loan repayment."
   ]
  },
  {
   "cell_type": "code",
   "execution_count": 166,
   "id": "5f856777-58b9-4969-9d4e-6e175795f738",
   "metadata": {},
   "outputs": [
    {
     "name": "stdout",
     "output_type": "stream",
     "text": [
      "OriginatingLender\n",
      "BSD Capital, LLC dba Lendistry       17088\n",
      "US Bank National Association         11025\n",
      "Kabbage, Inc.                         6648\n",
      "First Source Federal Credit Union     6572\n",
      "Celtic Bank Corporation               5411\n",
      "First Republic Bank                   5111\n",
      "Readycap Lending, LLC                 5028\n",
      "Northeast Bank                        2839\n",
      "Cadence Bank                          2303\n",
      "WebBank                               2297\n",
      "Name: count, dtype: int64\n",
      "ServicingLenderName\n",
      "Harvest Small Business Finance, LLC          14373\n",
      "Loan Source Incorporated                     11353\n",
      "U.S. Bank, National Association              11026\n",
      "Customers Bank                               10416\n",
      "PNC Bank, National Association                6572\n",
      "Square Capital, LLC                           5411\n",
      "JPMorgan Chase Bank, National Association     5111\n",
      "Quontic Bank                                  3246\n",
      "Fed – Kabbage                                 3131\n",
      "Lendistry SBLC, LLC                           2797\n",
      "Name: count, dtype: int64\n"
     ]
    }
   ],
   "source": [
    "serv_orig_lender = ppp_1[['CurrentApprovalAmount', 'ServicingLenderName', 'OriginatingLender']]\n",
    "diff_lenders_mask = (ppp_1['ServicingLenderName'] != ppp_1['OriginatingLender']) & ppp_1['OriginatingLender'].notna()\n",
    "print(serv_orig_lender[diff_lenders_mask]['OriginatingLender'].value_counts()[:10])\n",
    "print(serv_orig_lender[diff_lenders_mask]['ServicingLenderName'].value_counts()[:10])"
   ]
  },
  {
   "cell_type": "markdown",
   "id": "54d1de00-6dfd-4a7c-ae3e-648c86004b7d",
   "metadata": {},
   "source": [
    "Originating and servicing lenders may be different entities."
   ]
  },
  {
   "cell_type": "code",
   "execution_count": 167,
   "id": "2e1a59e3-2aa3-441e-b460-3ca803e77d93",
   "metadata": {},
   "outputs": [
    {
     "data": {
      "text/plain": [
       "BusinessType\n",
       "Corporation                            268729\n",
       "Sole Proprietorship                    232108\n",
       "Limited  Liability Company(LLC)        164490\n",
       "Subchapter S Corporation                97160\n",
       "Self-Employed Individuals               50255\n",
       "Independent Contractors                 40116\n",
       "Non-Profit Organization                 18654\n",
       "Partnership                             12323\n",
       "Limited Liability Partnership            5520\n",
       "Single Member LLC                        3979\n",
       "Professional Association                 3432\n",
       "Cooperative                               978\n",
       "501(c)3 – Non Profit                      856\n",
       "501(c)6 – Non Profit Membership           422\n",
       "Trust                                     249\n",
       "Non-Profit Childcare Center               238\n",
       "Tenant in Common                          116\n",
       "Qualified Joint-Venture (spouses)          84\n",
       "Joint Venture                              79\n",
       "Employee Stock Ownership Plan(ESOP)        39\n",
       "Tribal Concerns                            10\n",
       "501(c)19 – Non Profit Veterans              6\n",
       "501(c) – Non Profit except 3,4,6,           5\n",
       "Rollover as Business Start-Ups (ROB         2\n",
       "Name: count, dtype: int64"
      ]
     },
     "execution_count": 167,
     "metadata": {},
     "output_type": "execute_result"
    }
   ],
   "source": [
    "ppp_1['BusinessType'].value_counts()"
   ]
  },
  {
   "cell_type": "markdown",
   "id": "47d4239b-a838-4b18-849c-db88b0629fb7",
   "metadata": {},
   "source": [
    "Business type describes different kinds of incorporations, whether it's a nonprofit, or self-employed individual businesses."
   ]
  },
  {
   "cell_type": "code",
   "execution_count": 181,
   "id": "fe1cf95e-d6cf-4279-a84c-4d8768bae91d",
   "metadata": {},
   "outputs": [
    {
     "data": {
      "text/plain": [
       "0"
      ]
     },
     "execution_count": 181,
     "metadata": {},
     "output_type": "execute_result"
    }
   ],
   "source": [
    "np.sum(ppp_1['RuralUrbanIndicator'].isna())"
   ]
  },
  {
   "cell_type": "code",
   "execution_count": 189,
   "id": "42c9a3a9-2eae-4df4-8101-f1a2fa1b5806",
   "metadata": {},
   "outputs": [
    {
     "name": "stdout",
     "output_type": "stream",
     "text": [
      "0\n"
     ]
    }
   ],
   "source": [
    "print(np.sum(ppp_1['HubzoneIndicator'].isna()))"
   ]
  },
  {
   "cell_type": "markdown",
   "id": "801031cd-baf7-4ac7-a63e-f6f37cefe742",
   "metadata": {},
   "source": [
    "There are no missing values. There is a significant fraction of borrowers in HubZones."
   ]
  },
  {
   "cell_type": "code",
   "execution_count": 190,
   "id": "891dbf6d-bd74-4fc2-a0cd-0faf0be3aaef",
   "metadata": {},
   "outputs": [
    {
     "data": {
      "text/plain": [
       "0    Existing or more than 2 years old\n",
       "1      New Business or 2 years or less\n",
       "2    Existing or more than 2 years old\n",
       "3    Existing or more than 2 years old\n",
       "4                           Unanswered\n",
       "Name: BusinessAgeDescription, dtype: object"
      ]
     },
     "execution_count": 190,
     "metadata": {},
     "output_type": "execute_result"
    }
   ],
   "source": [
    "ppp_1['BusinessAgeDescription'].head()"
   ]
  },
  {
   "cell_type": "code",
   "execution_count": 191,
   "id": "abc44979-6a3a-4abf-ac5a-2b22c16a1c96",
   "metadata": {},
   "outputs": [
    {
     "data": {
      "text/plain": [
       "BusinessAgeDescription\n",
       "Existing or more than 2 years old         786363\n",
       "New Business or 2 years or less            76518\n",
       "Unanswered                                 36762\n",
       "Startup, Loan Funds will Open Business       234\n",
       "Change of Ownership                          123\n",
       "Name: count, dtype: int64"
      ]
     },
     "execution_count": 191,
     "metadata": {},
     "output_type": "execute_result"
    }
   ],
   "source": [
    "ppp_1['BusinessAgeDescription'].value_counts()"
   ]
  },
  {
   "cell_type": "markdown",
   "id": "9969c09b-726b-46cb-820f-1b20fd2a9d33",
   "metadata": {},
   "source": [
    "The Business Age Description should be translated to a more intuitive numeric or categorical classification. We can see there are a few classes of businesses with the majority being businesses that have operated for more than 2 years."
   ]
  },
  {
   "cell_type": "code",
   "execution_count": 192,
   "id": "eab2971e-0b53-42a1-98df-15b8e4c74be4",
   "metadata": {},
   "outputs": [],
   "source": [
    "# TODO decide how to best encode business age"
   ]
  },
  {
   "cell_type": "code",
   "execution_count": 201,
   "id": "e368ea85-a1c3-404e-bf51-ccd5400819fb",
   "metadata": {},
   "outputs": [
    {
     "data": {
      "text/plain": [
       "1"
      ]
     },
     "execution_count": 201,
     "metadata": {},
     "output_type": "execute_result"
    }
   ],
   "source": [
    "np.sum(ppp_1['JobsReported'].isna()) # One business does not report their number of employees"
   ]
  },
  {
   "cell_type": "code",
   "execution_count": 203,
   "id": "5b5b0edb-d969-48c5-aa1a-b2bd032d5a4f",
   "metadata": {},
   "outputs": [],
   "source": [
    "ppp_1.where(ppp_1['JobsReported'].notna(), other=0, inplace=True)"
   ]
  },
  {
   "cell_type": "code",
   "execution_count": 204,
   "id": "ba96d88c-b825-4572-aea1-4a6819b1b8d2",
   "metadata": {},
   "outputs": [
    {
     "data": {
      "text/plain": [
       "0          15\n",
       "1          12\n",
       "2           3\n",
       "3         170\n",
       "4          14\n",
       "         ... \n",
       "899995      1\n",
       "899996      1\n",
       "899997      1\n",
       "899998      1\n",
       "899999      1\n",
       "Name: JobsReported, Length: 900000, dtype: int32"
      ]
     },
     "execution_count": 204,
     "metadata": {},
     "output_type": "execute_result"
    }
   ],
   "source": [
    "ppp_1['JobsReported'].astype('int32')"
   ]
  },
  {
   "cell_type": "code",
   "execution_count": 205,
   "id": "d752d5b2-b599-4533-94f4-92838c667689",
   "metadata": {},
   "outputs": [
    {
     "data": {
      "text/plain": [
       "NAICSCode\n",
       "722,511.00    31839\n",
       "812,112.00    28527\n",
       "621,210.00    28197\n",
       "621,111.00    21841\n",
       "541,110.00    19959\n",
       "              ...  \n",
       "311,711.00        1\n",
       "517,212.00        1\n",
       "313,311.00        1\n",
       "333,312.00        1\n",
       "454,112.00        1\n",
       "Name: count, Length: 1130, dtype: int64"
      ]
     },
     "execution_count": 205,
     "metadata": {},
     "output_type": "execute_result"
    }
   ],
   "source": [
    "ppp_1['NAICSCode'].value_counts()"
   ]
  },
  {
   "cell_type": "markdown",
   "id": "4188ad53-98cf-417f-89ba-15aa54944a9b",
   "metadata": {},
   "source": [
    "We remark that there are consideration for how to clean the data that are  not yet obvious.  We will proceed first to visualize some of the most important features and do some selected EDA with the goal of building the baseline classification / prediction model.\n",
    "\n",
    "We also have to sort out the csv backup issue."
   ]
  }
 ],
 "metadata": {
  "kernelspec": {
   "display_name": "Python 3 (ipykernel)",
   "language": "python",
   "name": "python3"
  },
  "language_info": {
   "codemirror_mode": {
    "name": "ipython",
    "version": 3
   },
   "file_extension": ".py",
   "mimetype": "text/x-python",
   "name": "python",
   "nbconvert_exporter": "python",
   "pygments_lexer": "ipython3",
   "version": "3.11.5"
  }
 },
 "nbformat": 4,
 "nbformat_minor": 5
}
