{
 "cells": [
  {
   "cell_type": "code",
   "execution_count": 11,
   "id": "38a27a2c-56df-407f-90b1-bdc181af6270",
   "metadata": {},
   "outputs": [],
   "source": [
    "# Imports\n",
    "import numpy as np\n",
    "import pandas as pd\n",
    "import matplotlib.pyplot as plt\n",
    "\n",
    "from sklearn.preprocessing import OneHotEncoder, StandardScaler\n",
    "from sklearn.compose import ColumnTransformer\n",
    "from sklearn.pipeline import Pipeline\n",
    "from sklearn.ensemble import RandomForestClassifier, ExtraTreesClassifier\n",
    "from sklearn.model_selection import train_test_split, GridSearchCV, RandomizedSearchCV\n",
    "from sklearn.metrics import confusion_matrix, ConfusionMatrixDisplay"
   ]
  },
  {
   "cell_type": "code",
   "execution_count": 12,
   "id": "975f09a7-bd63-4f4c-9511-e18012d86047",
   "metadata": {},
   "outputs": [
    {
     "data": {
      "text/html": [
       "<div>\n",
       "<style scoped>\n",
       "    .dataframe tbody tr th:only-of-type {\n",
       "        vertical-align: middle;\n",
       "    }\n",
       "\n",
       "    .dataframe tbody tr th {\n",
       "        vertical-align: top;\n",
       "    }\n",
       "\n",
       "    .dataframe thead th {\n",
       "        text-align: right;\n",
       "    }\n",
       "</style>\n",
       "<table border=\"1\" class=\"dataframe\">\n",
       "  <thead>\n",
       "    <tr style=\"text-align: right;\">\n",
       "      <th></th>\n",
       "      <th>SBAOfficeCode</th>\n",
       "      <th>ProcessingMethod</th>\n",
       "      <th>LoanStatus</th>\n",
       "      <th>Term</th>\n",
       "      <th>SBAGuarantyPercentage</th>\n",
       "      <th>InitialApprovalAmount</th>\n",
       "      <th>CurrentApprovalAmount</th>\n",
       "      <th>ServicingLenderLocationID</th>\n",
       "      <th>RuralUrbanIndicator</th>\n",
       "      <th>HubzoneIndicator</th>\n",
       "      <th>...</th>\n",
       "      <th>PAYROLL_PROCEED</th>\n",
       "      <th>MORTGAGE_INTEREST_PROCEED</th>\n",
       "      <th>RENT_PROCEED</th>\n",
       "      <th>REFINANCE_EIDL_PROCEED</th>\n",
       "      <th>HEALTH_CARE_PROCEED</th>\n",
       "      <th>DEBT_INTEREST_PROCEED</th>\n",
       "      <th>BusinessType</th>\n",
       "      <th>OriginatingLenderLocationID</th>\n",
       "      <th>Gender</th>\n",
       "      <th>Veteran</th>\n",
       "    </tr>\n",
       "  </thead>\n",
       "  <tbody>\n",
       "    <tr>\n",
       "      <th>0</th>\n",
       "      <td>156</td>\n",
       "      <td>PPP</td>\n",
       "      <td>1</td>\n",
       "      <td>24</td>\n",
       "      <td>100</td>\n",
       "      <td>18457.00</td>\n",
       "      <td>18457.00</td>\n",
       "      <td>9551</td>\n",
       "      <td>U</td>\n",
       "      <td>N</td>\n",
       "      <td>...</td>\n",
       "      <td>18457.00</td>\n",
       "      <td>0.0</td>\n",
       "      <td>0.0</td>\n",
       "      <td>0.0</td>\n",
       "      <td>0.0</td>\n",
       "      <td>0.0</td>\n",
       "      <td>Limited  Liability Company(LLC)</td>\n",
       "      <td>9551</td>\n",
       "      <td>Unanswered</td>\n",
       "      <td>Unanswered</td>\n",
       "    </tr>\n",
       "    <tr>\n",
       "      <th>1</th>\n",
       "      <td>156</td>\n",
       "      <td>PPP</td>\n",
       "      <td>1</td>\n",
       "      <td>24</td>\n",
       "      <td>100</td>\n",
       "      <td>18457.00</td>\n",
       "      <td>18457.00</td>\n",
       "      <td>9551</td>\n",
       "      <td>U</td>\n",
       "      <td>N</td>\n",
       "      <td>...</td>\n",
       "      <td>18457.00</td>\n",
       "      <td>0.0</td>\n",
       "      <td>0.0</td>\n",
       "      <td>0.0</td>\n",
       "      <td>0.0</td>\n",
       "      <td>0.0</td>\n",
       "      <td>Corporation</td>\n",
       "      <td>9551</td>\n",
       "      <td>Female Owned</td>\n",
       "      <td>Unanswered</td>\n",
       "    </tr>\n",
       "    <tr>\n",
       "      <th>2</th>\n",
       "      <td>156</td>\n",
       "      <td>PPS</td>\n",
       "      <td>1</td>\n",
       "      <td>60</td>\n",
       "      <td>100</td>\n",
       "      <td>18456.65</td>\n",
       "      <td>18456.65</td>\n",
       "      <td>93682</td>\n",
       "      <td>R</td>\n",
       "      <td>N</td>\n",
       "      <td>...</td>\n",
       "      <td>18450.65</td>\n",
       "      <td>0.0</td>\n",
       "      <td>0.0</td>\n",
       "      <td>0.0</td>\n",
       "      <td>0.0</td>\n",
       "      <td>0.0</td>\n",
       "      <td>Limited  Liability Company(LLC)</td>\n",
       "      <td>93682</td>\n",
       "      <td>Female Owned</td>\n",
       "      <td>Non-Veteran</td>\n",
       "    </tr>\n",
       "    <tr>\n",
       "      <th>3</th>\n",
       "      <td>156</td>\n",
       "      <td>PPP</td>\n",
       "      <td>1</td>\n",
       "      <td>60</td>\n",
       "      <td>100</td>\n",
       "      <td>18456.00</td>\n",
       "      <td>18456.00</td>\n",
       "      <td>93490</td>\n",
       "      <td>U</td>\n",
       "      <td>N</td>\n",
       "      <td>...</td>\n",
       "      <td>18455.00</td>\n",
       "      <td>0.0</td>\n",
       "      <td>0.0</td>\n",
       "      <td>0.0</td>\n",
       "      <td>0.0</td>\n",
       "      <td>0.0</td>\n",
       "      <td>Single Member LLC</td>\n",
       "      <td>93490</td>\n",
       "      <td>Male Owned</td>\n",
       "      <td>Non-Veteran</td>\n",
       "    </tr>\n",
       "    <tr>\n",
       "      <th>4</th>\n",
       "      <td>156</td>\n",
       "      <td>PPP</td>\n",
       "      <td>1</td>\n",
       "      <td>60</td>\n",
       "      <td>100</td>\n",
       "      <td>18455.00</td>\n",
       "      <td>18455.00</td>\n",
       "      <td>433860</td>\n",
       "      <td>U</td>\n",
       "      <td>N</td>\n",
       "      <td>...</td>\n",
       "      <td>18455.00</td>\n",
       "      <td>0.0</td>\n",
       "      <td>0.0</td>\n",
       "      <td>0.0</td>\n",
       "      <td>0.0</td>\n",
       "      <td>0.0</td>\n",
       "      <td>Corporation</td>\n",
       "      <td>529111</td>\n",
       "      <td>Unanswered</td>\n",
       "      <td>Unanswered</td>\n",
       "    </tr>\n",
       "  </tbody>\n",
       "</table>\n",
       "<p>5 rows × 28 columns</p>\n",
       "</div>"
      ],
      "text/plain": [
       "   SBAOfficeCode ProcessingMethod  LoanStatus  Term  SBAGuarantyPercentage  \\\n",
       "0            156              PPP           1    24                    100   \n",
       "1            156              PPP           1    24                    100   \n",
       "2            156              PPS           1    60                    100   \n",
       "3            156              PPP           1    60                    100   \n",
       "4            156              PPP           1    60                    100   \n",
       "\n",
       "   InitialApprovalAmount  CurrentApprovalAmount  ServicingLenderLocationID  \\\n",
       "0               18457.00               18457.00                       9551   \n",
       "1               18457.00               18457.00                       9551   \n",
       "2               18456.65               18456.65                      93682   \n",
       "3               18456.00               18456.00                      93490   \n",
       "4               18455.00               18455.00                     433860   \n",
       "\n",
       "  RuralUrbanIndicator HubzoneIndicator  ... PAYROLL_PROCEED  \\\n",
       "0                   U                N  ...        18457.00   \n",
       "1                   U                N  ...        18457.00   \n",
       "2                   R                N  ...        18450.65   \n",
       "3                   U                N  ...        18455.00   \n",
       "4                   U                N  ...        18455.00   \n",
       "\n",
       "  MORTGAGE_INTEREST_PROCEED RENT_PROCEED  REFINANCE_EIDL_PROCEED  \\\n",
       "0                       0.0          0.0                     0.0   \n",
       "1                       0.0          0.0                     0.0   \n",
       "2                       0.0          0.0                     0.0   \n",
       "3                       0.0          0.0                     0.0   \n",
       "4                       0.0          0.0                     0.0   \n",
       "\n",
       "   HEALTH_CARE_PROCEED DEBT_INTEREST_PROCEED                     BusinessType  \\\n",
       "0                  0.0                   0.0  Limited  Liability Company(LLC)   \n",
       "1                  0.0                   0.0                      Corporation   \n",
       "2                  0.0                   0.0  Limited  Liability Company(LLC)   \n",
       "3                  0.0                   0.0                Single Member LLC   \n",
       "4                  0.0                   0.0                      Corporation   \n",
       "\n",
       "   OriginatingLenderLocationID        Gender      Veteran  \n",
       "0                         9551    Unanswered   Unanswered  \n",
       "1                         9551  Female Owned   Unanswered  \n",
       "2                        93682  Female Owned  Non-Veteran  \n",
       "3                        93490    Male Owned  Non-Veteran  \n",
       "4                       529111    Unanswered   Unanswered  \n",
       "\n",
       "[5 rows x 28 columns]"
      ]
     },
     "execution_count": 12,
     "metadata": {},
     "output_type": "execute_result"
    }
   ],
   "source": [
    "ppp = pd.read_csv('../data/cleaned_1and2_reduced.csv')\n",
    "ppp.head()"
   ]
  },
  {
   "cell_type": "markdown",
   "id": "1811082a-f80b-4538-a0b2-3411c2263a7c",
   "metadata": {},
   "source": [
    "What is our full parameter set?"
   ]
  },
  {
   "cell_type": "code",
   "execution_count": 13,
   "id": "70fb56e7-eca9-4ca3-bc44-7acaeef89b4d",
   "metadata": {},
   "outputs": [],
   "source": [
    "num_code_features = ['SBAOfficeCode', 'ServicingLenderLocationID', 'NAICSCode', 'OriginatingLenderLocationID']\n",
    "\n",
    "for p in num_code_features:\n",
    "    ppp[p] = ppp[p].astype(str)"
   ]
  },
  {
   "cell_type": "code",
   "execution_count": 14,
   "id": "05fe3647-65f9-4f32-b35e-53ed909d68e0",
   "metadata": {},
   "outputs": [
    {
     "data": {
      "text/plain": [
       "LoanStatus                     int64\n",
       "Term                           int64\n",
       "SBAGuarantyPercentage          int64\n",
       "InitialApprovalAmount        float64\n",
       "CurrentApprovalAmount        float64\n",
       "JobsReported                   int64\n",
       "UTILITIES_PROCEED            float64\n",
       "PAYROLL_PROCEED              float64\n",
       "MORTGAGE_INTEREST_PROCEED    float64\n",
       "RENT_PROCEED                 float64\n",
       "REFINANCE_EIDL_PROCEED       float64\n",
       "HEALTH_CARE_PROCEED          float64\n",
       "DEBT_INTEREST_PROCEED        float64\n",
       "dtype: object"
      ]
     },
     "execution_count": 14,
     "metadata": {},
     "output_type": "execute_result"
    }
   ],
   "source": [
    "# numeric columns\n",
    "numeric_features = ppp.dtypes[ppp.dtypes != 'object']\n",
    "numeric_features"
   ]
  },
  {
   "cell_type": "markdown",
   "id": "315ba2f5-9815-4081-b5c2-72f9dfcab204",
   "metadata": {},
   "source": [
    "A number of parameters are being misinterpreted as numerical because the information is a numeric code, say for the ServicingLenderLocationID.  These should be corrected to categorical."
   ]
  },
  {
   "cell_type": "code",
   "execution_count": 15,
   "id": "c9602da3-466e-4f68-b9d7-e24c1dd9ee9c",
   "metadata": {},
   "outputs": [
    {
     "data": {
      "text/plain": [
       "['LoanStatus',\n",
       " 'Term',\n",
       " 'SBAGuarantyPercentage',\n",
       " 'InitialApprovalAmount',\n",
       " 'CurrentApprovalAmount',\n",
       " 'JobsReported',\n",
       " 'UTILITIES_PROCEED',\n",
       " 'PAYROLL_PROCEED',\n",
       " 'MORTGAGE_INTEREST_PROCEED',\n",
       " 'RENT_PROCEED',\n",
       " 'REFINANCE_EIDL_PROCEED',\n",
       " 'HEALTH_CARE_PROCEED',\n",
       " 'DEBT_INTEREST_PROCEED']"
      ]
     },
     "execution_count": 15,
     "metadata": {},
     "output_type": "execute_result"
    }
   ],
   "source": [
    "# Include all  numeric features\n",
    "subset_cols = numeric_features.index.to_list()\n",
    "subset_cols"
   ]
  },
  {
   "cell_type": "code",
   "execution_count": 16,
   "id": "ef092e26-fae3-434f-a158-f1148b1f678c",
   "metadata": {},
   "outputs": [
    {
     "data": {
      "text/plain": [
       "['SBAOfficeCode',\n",
       " 'ProcessingMethod',\n",
       " 'ServicingLenderLocationID',\n",
       " 'RuralUrbanIndicator',\n",
       " 'HubzoneIndicator',\n",
       " 'LMIIndicator',\n",
       " 'BusinessAgeDescription',\n",
       " 'CD',\n",
       " 'NAICSCode',\n",
       " 'Race',\n",
       " 'Ethnicity',\n",
       " 'BusinessType',\n",
       " 'OriginatingLenderLocationID',\n",
       " 'Gender',\n",
       " 'Veteran']"
      ]
     },
     "execution_count": 16,
     "metadata": {},
     "output_type": "execute_result"
    }
   ],
   "source": [
    "categorical_features = ppp.dtypes[ppp.dtypes == 'object'].index.to_list()\n",
    "categorical_features"
   ]
  },
  {
   "cell_type": "code",
   "execution_count": 17,
   "id": "dbd0ebdd-5711-49b0-8fd6-422c2a2d24f7",
   "metadata": {
    "scrolled": true
   },
   "outputs": [
    {
     "data": {
      "text/plain": [
       "['LoanStatus',\n",
       " 'Term',\n",
       " 'SBAGuarantyPercentage',\n",
       " 'InitialApprovalAmount',\n",
       " 'CurrentApprovalAmount',\n",
       " 'JobsReported',\n",
       " 'UTILITIES_PROCEED',\n",
       " 'PAYROLL_PROCEED',\n",
       " 'MORTGAGE_INTEREST_PROCEED',\n",
       " 'RENT_PROCEED',\n",
       " 'REFINANCE_EIDL_PROCEED',\n",
       " 'HEALTH_CARE_PROCEED',\n",
       " 'DEBT_INTEREST_PROCEED',\n",
       " 'BusinessType',\n",
       " 'RuralUrbanIndicator',\n",
       " 'LMIIndicator',\n",
       " 'HubzoneIndicator',\n",
       " 'BusinessAgeDescription',\n",
       " 'Race',\n",
       " 'Ethnicity',\n",
       " 'Gender',\n",
       " 'Veteran']"
      ]
     },
     "execution_count": 17,
     "metadata": {},
     "output_type": "execute_result"
    }
   ],
   "source": [
    "# To speed up computation, work with reduced dimensionality\n",
    "# Add back categorical features as we tune\n",
    "cat_cols = ['BusinessType', 'RuralUrbanIndicator', 'LMIIndicator', 'HubzoneIndicator', 'BusinessAgeDescription', 'Race', 'Ethnicity', 'Gender', 'Veteran']\n",
    "subset_cols = subset_cols + cat_cols\n",
    "subset_cols"
   ]
  },
  {
   "cell_type": "code",
   "execution_count": 8,
   "id": "aa5db800-a770-4f24-b919-734b0fb335d3",
   "metadata": {},
   "outputs": [
    {
     "data": {
      "text/plain": [
       "Index(['SBAOfficeCode', 'LoanStatus', 'Term', 'SBAGuarantyPercentage',\n",
       "       'InitialApprovalAmount', 'CurrentApprovalAmount',\n",
       "       'ServicingLenderLocationID', 'JobsReported', 'NAICSCode',\n",
       "       'UTILITIES_PROCEED', 'PAYROLL_PROCEED', 'MORTGAGE_INTEREST_PROCEED',\n",
       "       'RENT_PROCEED', 'REFINANCE_EIDL_PROCEED', 'HEALTH_CARE_PROCEED',\n",
       "       'DEBT_INTEREST_PROCEED', 'OriginatingLenderLocationID', 'BusinessType',\n",
       "       'RuralUrbanIndicator', 'LMIIndicator', 'HubzoneIndicator',\n",
       "       'BusinessAgeDescription', 'Race', 'Ethnicity', 'Gender', 'Veteran'],\n",
       "      dtype='object')"
      ]
     },
     "execution_count": 8,
     "metadata": {},
     "output_type": "execute_result"
    }
   ],
   "source": [
    "subset_ppp = ppp[subset_cols]\n",
    "subset_ppp.columns"
   ]
  },
  {
   "cell_type": "code",
   "execution_count": 9,
   "id": "0f3373ad-72dd-4a4c-9681-063328aa634d",
   "metadata": {},
   "outputs": [],
   "source": [
    "# Define X and y\n",
    "X = subset_ppp.drop(columns=['LoanStatus'])\n",
    "y = subset_ppp['LoanStatus']"
   ]
  },
  {
   "cell_type": "code",
   "execution_count": 10,
   "id": "0bfe3696-cb6f-4f01-95b3-3420ab302aa0",
   "metadata": {},
   "outputs": [
    {
     "data": {
      "text/plain": [
       "25"
      ]
     },
     "execution_count": 10,
     "metadata": {},
     "output_type": "execute_result"
    }
   ],
   "source": [
    "X.shape[1]"
   ]
  },
  {
   "cell_type": "markdown",
   "id": "4531816b-4e4a-4dce-9da7-cc40e229ca36",
   "metadata": {},
   "source": [
    "Deciding on a train-val-test split proportion\n",
    "A rule of thumb is that the validation set fraction should be inversely proportional to the log2 of the number of free adjustable parameters."
   ]
  },
  {
   "cell_type": "code",
   "execution_count": 11,
   "id": "9f513396-092a-4e6a-8e05-a5fa0208c79a",
   "metadata": {},
   "outputs": [
    {
     "name": "stdout",
     "output_type": "stream",
     "text": [
      "20.0% should be reserved for validation\n"
     ]
    }
   ],
   "source": [
    "print(f'{round((1 / np.sqrt(X.shape[1])*100), 2)}% should be reserved for validation')"
   ]
  },
  {
   "cell_type": "code",
   "execution_count": 12,
   "id": "a5bd51e3-10eb-4b85-885e-e57df74304c2",
   "metadata": {},
   "outputs": [
    {
     "name": "stdout",
     "output_type": "stream",
     "text": [
      "80.0% should be used for training\n"
     ]
    }
   ],
   "source": [
    "print(f'{round(((1 - 1 / np.sqrt(X.shape[1]))*100), 2)}% should be used for training')"
   ]
  },
  {
   "cell_type": "code",
   "execution_count": 13,
   "id": "e03822d5-8184-4827-b81f-a153e25c5392",
   "metadata": {},
   "outputs": [
    {
     "data": {
      "text/plain": [
       "LoanStatus\n",
       "1    0.908\n",
       "0    0.092\n",
       "Name: proportion, dtype: float64"
      ]
     },
     "execution_count": 13,
     "metadata": {},
     "output_type": "execute_result"
    }
   ],
   "source": [
    "baseline_accuracy = y.value_counts(normalize=True)[1]\n",
    "y.value_counts(normalize=True)"
   ]
  },
  {
   "cell_type": "markdown",
   "id": "50d13b11-e005-41cf-a1fc-fb2832d78f66",
   "metadata": {},
   "source": [
    "### Preprocessing \n",
    "#### OneHotEncoder to dummify the categorical features"
   ]
  },
  {
   "cell_type": "code",
   "execution_count": 14,
   "id": "47ffafd3-2434-4fc3-b7fb-2afb40d17156",
   "metadata": {},
   "outputs": [],
   "source": [
    "# Make a list of categorical features\n",
    "categorical_cols = X.select_dtypes(include=['object']).columns.tolist()\n",
    "numerical_cols = X.select_dtypes(exclude=['object']).columns.tolist()"
   ]
  },
  {
   "cell_type": "code",
   "execution_count": 15,
   "id": "021d90fb-6015-4942-a47d-2c869e8302c3",
   "metadata": {},
   "outputs": [],
   "source": [
    "# len(subset_ppp['BusinessType'].unique())"
   ]
  },
  {
   "cell_type": "code",
   "execution_count": 16,
   "id": "8fe03b9c-95e0-47e8-bbfb-d386db08fdf9",
   "metadata": {},
   "outputs": [],
   "source": [
    "# Preprocessing pipeline for categorical features\n",
    "preprocessor = ColumnTransformer(transformers=[\n",
    "    ('oh', OneHotEncoder(handle_unknown='ignore'), categorical_cols),\n",
    "    ('num', StandardScaler(), numerical_cols)  \n",
    "])"
   ]
  },
  {
   "cell_type": "code",
   "execution_count": 17,
   "id": "5978c3ef-2484-4ca6-ac7e-28c09a637a08",
   "metadata": {
    "scrolled": true
   },
   "outputs": [],
   "source": [
    "# Define the Random Forest model with preprocessing and classifier\n",
    "# Use default tuning parameters\n",
    "rf = RandomForestClassifier(n_estimators=5, max_depth=3, )\n",
    "\n",
    "pipe = Pipeline(steps=[\n",
    "    ('preprocessor', preprocessor),\n",
    "    ('rf', rf)\n",
    "])"
   ]
  },
  {
   "cell_type": "code",
   "execution_count": 18,
   "id": "a28f96b2-d22e-4ba9-aabd-9bce966b7461",
   "metadata": {},
   "outputs": [],
   "source": [
    "# Perform train test split\n",
    "X_train_full, X_test, y_train_full, y_test = train_test_split(X, y, test_size=0.1, random_state=42)"
   ]
  },
  {
   "cell_type": "code",
   "execution_count": 19,
   "id": "5571d812-0976-4293-a8a9-2d273d0ddaf5",
   "metadata": {},
   "outputs": [],
   "source": [
    "# Split training set further into training and validation sets\n",
    "X_train, X_val, y_train, y_val = train_test_split(X_train_full, y_train_full, test_size=0.2, random_state=42)"
   ]
  },
  {
   "cell_type": "code",
   "execution_count": 20,
   "id": "65560b13-0b28-4240-95d0-8d2b0899ba3a",
   "metadata": {},
   "outputs": [
    {
     "data": {
      "text/html": [
       "<style>#sk-container-id-1 {color: black;background-color: white;}#sk-container-id-1 pre{padding: 0;}#sk-container-id-1 div.sk-toggleable {background-color: white;}#sk-container-id-1 label.sk-toggleable__label {cursor: pointer;display: block;width: 100%;margin-bottom: 0;padding: 0.3em;box-sizing: border-box;text-align: center;}#sk-container-id-1 label.sk-toggleable__label-arrow:before {content: \"▸\";float: left;margin-right: 0.25em;color: #696969;}#sk-container-id-1 label.sk-toggleable__label-arrow:hover:before {color: black;}#sk-container-id-1 div.sk-estimator:hover label.sk-toggleable__label-arrow:before {color: black;}#sk-container-id-1 div.sk-toggleable__content {max-height: 0;max-width: 0;overflow: hidden;text-align: left;background-color: #f0f8ff;}#sk-container-id-1 div.sk-toggleable__content pre {margin: 0.2em;color: black;border-radius: 0.25em;background-color: #f0f8ff;}#sk-container-id-1 input.sk-toggleable__control:checked~div.sk-toggleable__content {max-height: 200px;max-width: 100%;overflow: auto;}#sk-container-id-1 input.sk-toggleable__control:checked~label.sk-toggleable__label-arrow:before {content: \"▾\";}#sk-container-id-1 div.sk-estimator input.sk-toggleable__control:checked~label.sk-toggleable__label {background-color: #d4ebff;}#sk-container-id-1 div.sk-label input.sk-toggleable__control:checked~label.sk-toggleable__label {background-color: #d4ebff;}#sk-container-id-1 input.sk-hidden--visually {border: 0;clip: rect(1px 1px 1px 1px);clip: rect(1px, 1px, 1px, 1px);height: 1px;margin: -1px;overflow: hidden;padding: 0;position: absolute;width: 1px;}#sk-container-id-1 div.sk-estimator {font-family: monospace;background-color: #f0f8ff;border: 1px dotted black;border-radius: 0.25em;box-sizing: border-box;margin-bottom: 0.5em;}#sk-container-id-1 div.sk-estimator:hover {background-color: #d4ebff;}#sk-container-id-1 div.sk-parallel-item::after {content: \"\";width: 100%;border-bottom: 1px solid gray;flex-grow: 1;}#sk-container-id-1 div.sk-label:hover label.sk-toggleable__label {background-color: #d4ebff;}#sk-container-id-1 div.sk-serial::before {content: \"\";position: absolute;border-left: 1px solid gray;box-sizing: border-box;top: 0;bottom: 0;left: 50%;z-index: 0;}#sk-container-id-1 div.sk-serial {display: flex;flex-direction: column;align-items: center;background-color: white;padding-right: 0.2em;padding-left: 0.2em;position: relative;}#sk-container-id-1 div.sk-item {position: relative;z-index: 1;}#sk-container-id-1 div.sk-parallel {display: flex;align-items: stretch;justify-content: center;background-color: white;position: relative;}#sk-container-id-1 div.sk-item::before, #sk-container-id-1 div.sk-parallel-item::before {content: \"\";position: absolute;border-left: 1px solid gray;box-sizing: border-box;top: 0;bottom: 0;left: 50%;z-index: -1;}#sk-container-id-1 div.sk-parallel-item {display: flex;flex-direction: column;z-index: 1;position: relative;background-color: white;}#sk-container-id-1 div.sk-parallel-item:first-child::after {align-self: flex-end;width: 50%;}#sk-container-id-1 div.sk-parallel-item:last-child::after {align-self: flex-start;width: 50%;}#sk-container-id-1 div.sk-parallel-item:only-child::after {width: 0;}#sk-container-id-1 div.sk-dashed-wrapped {border: 1px dashed gray;margin: 0 0.4em 0.5em 0.4em;box-sizing: border-box;padding-bottom: 0.4em;background-color: white;}#sk-container-id-1 div.sk-label label {font-family: monospace;font-weight: bold;display: inline-block;line-height: 1.2em;}#sk-container-id-1 div.sk-label-container {text-align: center;}#sk-container-id-1 div.sk-container {/* jupyter's `normalize.less` sets `[hidden] { display: none; }` but bootstrap.min.css set `[hidden] { display: none !important; }` so we also need the `!important` here to be able to override the default hidden behavior on the sphinx rendered scikit-learn.org. See: https://github.com/scikit-learn/scikit-learn/issues/21755 */display: inline-block !important;position: relative;}#sk-container-id-1 div.sk-text-repr-fallback {display: none;}</style><div id=\"sk-container-id-1\" class=\"sk-top-container\"><div class=\"sk-text-repr-fallback\"><pre>Pipeline(steps=[(&#x27;preprocessor&#x27;,\n",
       "                 ColumnTransformer(transformers=[(&#x27;oh&#x27;,\n",
       "                                                  OneHotEncoder(handle_unknown=&#x27;ignore&#x27;),\n",
       "                                                  [&#x27;BusinessType&#x27;,\n",
       "                                                   &#x27;RuralUrbanIndicator&#x27;,\n",
       "                                                   &#x27;LMIIndicator&#x27;,\n",
       "                                                   &#x27;HubzoneIndicator&#x27;,\n",
       "                                                   &#x27;BusinessAgeDescription&#x27;,\n",
       "                                                   &#x27;Race&#x27;, &#x27;Ethnicity&#x27;,\n",
       "                                                   &#x27;Gender&#x27;, &#x27;Veteran&#x27;]),\n",
       "                                                 (&#x27;num&#x27;, StandardScaler(),\n",
       "                                                  [&#x27;SBAOfficeCode&#x27;, &#x27;Term&#x27;,\n",
       "                                                   &#x27;SBAGuarantyPercentage&#x27;,\n",
       "                                                   &#x27;InitialApprovalAmount&#x27;,\n",
       "                                                   &#x27;CurrentApprovalAmount&#x27;,\n",
       "                                                   &#x27;ServicingLenderLocationID&#x27;,\n",
       "                                                   &#x27;JobsReported&#x27;, &#x27;NAICSCode&#x27;,\n",
       "                                                   &#x27;UTILITIES_PROCEED&#x27;,\n",
       "                                                   &#x27;PAYROLL_PROCEED&#x27;,\n",
       "                                                   &#x27;MORTGAGE_INTEREST_PROCEED&#x27;,\n",
       "                                                   &#x27;RENT_PROCEED&#x27;,\n",
       "                                                   &#x27;REFINANCE_EIDL_PROCEED&#x27;,\n",
       "                                                   &#x27;HEALTH_CARE_PROCEED&#x27;,\n",
       "                                                   &#x27;DEBT_INTEREST_PROCEED&#x27;,\n",
       "                                                   &#x27;OriginatingLenderLocationID&#x27;])])),\n",
       "                (&#x27;rf&#x27;, RandomForestClassifier(max_depth=3, n_estimators=5))])</pre><b>In a Jupyter environment, please rerun this cell to show the HTML representation or trust the notebook. <br />On GitHub, the HTML representation is unable to render, please try loading this page with nbviewer.org.</b></div><div class=\"sk-container\" hidden><div class=\"sk-item sk-dashed-wrapped\"><div class=\"sk-label-container\"><div class=\"sk-label sk-toggleable\"><input class=\"sk-toggleable__control sk-hidden--visually\" id=\"sk-estimator-id-1\" type=\"checkbox\" ><label for=\"sk-estimator-id-1\" class=\"sk-toggleable__label sk-toggleable__label-arrow\">Pipeline</label><div class=\"sk-toggleable__content\"><pre>Pipeline(steps=[(&#x27;preprocessor&#x27;,\n",
       "                 ColumnTransformer(transformers=[(&#x27;oh&#x27;,\n",
       "                                                  OneHotEncoder(handle_unknown=&#x27;ignore&#x27;),\n",
       "                                                  [&#x27;BusinessType&#x27;,\n",
       "                                                   &#x27;RuralUrbanIndicator&#x27;,\n",
       "                                                   &#x27;LMIIndicator&#x27;,\n",
       "                                                   &#x27;HubzoneIndicator&#x27;,\n",
       "                                                   &#x27;BusinessAgeDescription&#x27;,\n",
       "                                                   &#x27;Race&#x27;, &#x27;Ethnicity&#x27;,\n",
       "                                                   &#x27;Gender&#x27;, &#x27;Veteran&#x27;]),\n",
       "                                                 (&#x27;num&#x27;, StandardScaler(),\n",
       "                                                  [&#x27;SBAOfficeCode&#x27;, &#x27;Term&#x27;,\n",
       "                                                   &#x27;SBAGuarantyPercentage&#x27;,\n",
       "                                                   &#x27;InitialApprovalAmount&#x27;,\n",
       "                                                   &#x27;CurrentApprovalAmount&#x27;,\n",
       "                                                   &#x27;ServicingLenderLocationID&#x27;,\n",
       "                                                   &#x27;JobsReported&#x27;, &#x27;NAICSCode&#x27;,\n",
       "                                                   &#x27;UTILITIES_PROCEED&#x27;,\n",
       "                                                   &#x27;PAYROLL_PROCEED&#x27;,\n",
       "                                                   &#x27;MORTGAGE_INTEREST_PROCEED&#x27;,\n",
       "                                                   &#x27;RENT_PROCEED&#x27;,\n",
       "                                                   &#x27;REFINANCE_EIDL_PROCEED&#x27;,\n",
       "                                                   &#x27;HEALTH_CARE_PROCEED&#x27;,\n",
       "                                                   &#x27;DEBT_INTEREST_PROCEED&#x27;,\n",
       "                                                   &#x27;OriginatingLenderLocationID&#x27;])])),\n",
       "                (&#x27;rf&#x27;, RandomForestClassifier(max_depth=3, n_estimators=5))])</pre></div></div></div><div class=\"sk-serial\"><div class=\"sk-item sk-dashed-wrapped\"><div class=\"sk-label-container\"><div class=\"sk-label sk-toggleable\"><input class=\"sk-toggleable__control sk-hidden--visually\" id=\"sk-estimator-id-2\" type=\"checkbox\" ><label for=\"sk-estimator-id-2\" class=\"sk-toggleable__label sk-toggleable__label-arrow\">preprocessor: ColumnTransformer</label><div class=\"sk-toggleable__content\"><pre>ColumnTransformer(transformers=[(&#x27;oh&#x27;, OneHotEncoder(handle_unknown=&#x27;ignore&#x27;),\n",
       "                                 [&#x27;BusinessType&#x27;, &#x27;RuralUrbanIndicator&#x27;,\n",
       "                                  &#x27;LMIIndicator&#x27;, &#x27;HubzoneIndicator&#x27;,\n",
       "                                  &#x27;BusinessAgeDescription&#x27;, &#x27;Race&#x27;, &#x27;Ethnicity&#x27;,\n",
       "                                  &#x27;Gender&#x27;, &#x27;Veteran&#x27;]),\n",
       "                                (&#x27;num&#x27;, StandardScaler(),\n",
       "                                 [&#x27;SBAOfficeCode&#x27;, &#x27;Term&#x27;,\n",
       "                                  &#x27;SBAGuarantyPercentage&#x27;,\n",
       "                                  &#x27;InitialApprovalAmount&#x27;,\n",
       "                                  &#x27;CurrentApprovalAmount&#x27;,\n",
       "                                  &#x27;ServicingLenderLocationID&#x27;, &#x27;JobsReported&#x27;,\n",
       "                                  &#x27;NAICSCode&#x27;, &#x27;UTILITIES_PROCEED&#x27;,\n",
       "                                  &#x27;PAYROLL_PROCEED&#x27;,\n",
       "                                  &#x27;MORTGAGE_INTEREST_PROCEED&#x27;, &#x27;RENT_PROCEED&#x27;,\n",
       "                                  &#x27;REFINANCE_EIDL_PROCEED&#x27;,\n",
       "                                  &#x27;HEALTH_CARE_PROCEED&#x27;,\n",
       "                                  &#x27;DEBT_INTEREST_PROCEED&#x27;,\n",
       "                                  &#x27;OriginatingLenderLocationID&#x27;])])</pre></div></div></div><div class=\"sk-parallel\"><div class=\"sk-parallel-item\"><div class=\"sk-item\"><div class=\"sk-label-container\"><div class=\"sk-label sk-toggleable\"><input class=\"sk-toggleable__control sk-hidden--visually\" id=\"sk-estimator-id-3\" type=\"checkbox\" ><label for=\"sk-estimator-id-3\" class=\"sk-toggleable__label sk-toggleable__label-arrow\">oh</label><div class=\"sk-toggleable__content\"><pre>[&#x27;BusinessType&#x27;, &#x27;RuralUrbanIndicator&#x27;, &#x27;LMIIndicator&#x27;, &#x27;HubzoneIndicator&#x27;, &#x27;BusinessAgeDescription&#x27;, &#x27;Race&#x27;, &#x27;Ethnicity&#x27;, &#x27;Gender&#x27;, &#x27;Veteran&#x27;]</pre></div></div></div><div class=\"sk-serial\"><div class=\"sk-item\"><div class=\"sk-estimator sk-toggleable\"><input class=\"sk-toggleable__control sk-hidden--visually\" id=\"sk-estimator-id-4\" type=\"checkbox\" ><label for=\"sk-estimator-id-4\" class=\"sk-toggleable__label sk-toggleable__label-arrow\">OneHotEncoder</label><div class=\"sk-toggleable__content\"><pre>OneHotEncoder(handle_unknown=&#x27;ignore&#x27;)</pre></div></div></div></div></div></div><div class=\"sk-parallel-item\"><div class=\"sk-item\"><div class=\"sk-label-container\"><div class=\"sk-label sk-toggleable\"><input class=\"sk-toggleable__control sk-hidden--visually\" id=\"sk-estimator-id-5\" type=\"checkbox\" ><label for=\"sk-estimator-id-5\" class=\"sk-toggleable__label sk-toggleable__label-arrow\">num</label><div class=\"sk-toggleable__content\"><pre>[&#x27;SBAOfficeCode&#x27;, &#x27;Term&#x27;, &#x27;SBAGuarantyPercentage&#x27;, &#x27;InitialApprovalAmount&#x27;, &#x27;CurrentApprovalAmount&#x27;, &#x27;ServicingLenderLocationID&#x27;, &#x27;JobsReported&#x27;, &#x27;NAICSCode&#x27;, &#x27;UTILITIES_PROCEED&#x27;, &#x27;PAYROLL_PROCEED&#x27;, &#x27;MORTGAGE_INTEREST_PROCEED&#x27;, &#x27;RENT_PROCEED&#x27;, &#x27;REFINANCE_EIDL_PROCEED&#x27;, &#x27;HEALTH_CARE_PROCEED&#x27;, &#x27;DEBT_INTEREST_PROCEED&#x27;, &#x27;OriginatingLenderLocationID&#x27;]</pre></div></div></div><div class=\"sk-serial\"><div class=\"sk-item\"><div class=\"sk-estimator sk-toggleable\"><input class=\"sk-toggleable__control sk-hidden--visually\" id=\"sk-estimator-id-6\" type=\"checkbox\" ><label for=\"sk-estimator-id-6\" class=\"sk-toggleable__label sk-toggleable__label-arrow\">StandardScaler</label><div class=\"sk-toggleable__content\"><pre>StandardScaler()</pre></div></div></div></div></div></div></div></div><div class=\"sk-item\"><div class=\"sk-estimator sk-toggleable\"><input class=\"sk-toggleable__control sk-hidden--visually\" id=\"sk-estimator-id-7\" type=\"checkbox\" ><label for=\"sk-estimator-id-7\" class=\"sk-toggleable__label sk-toggleable__label-arrow\">RandomForestClassifier</label><div class=\"sk-toggleable__content\"><pre>RandomForestClassifier(max_depth=3, n_estimators=5)</pre></div></div></div></div></div></div></div>"
      ],
      "text/plain": [
       "Pipeline(steps=[('preprocessor',\n",
       "                 ColumnTransformer(transformers=[('oh',\n",
       "                                                  OneHotEncoder(handle_unknown='ignore'),\n",
       "                                                  ['BusinessType',\n",
       "                                                   'RuralUrbanIndicator',\n",
       "                                                   'LMIIndicator',\n",
       "                                                   'HubzoneIndicator',\n",
       "                                                   'BusinessAgeDescription',\n",
       "                                                   'Race', 'Ethnicity',\n",
       "                                                   'Gender', 'Veteran']),\n",
       "                                                 ('num', StandardScaler(),\n",
       "                                                  ['SBAOfficeCode', 'Term',\n",
       "                                                   'SBAGuarantyPercentage',\n",
       "                                                   'InitialApprovalAmount',\n",
       "                                                   'CurrentApprovalAmount',\n",
       "                                                   'ServicingLenderLocationID',\n",
       "                                                   'JobsReported', 'NAICSCode',\n",
       "                                                   'UTILITIES_PROCEED',\n",
       "                                                   'PAYROLL_PROCEED',\n",
       "                                                   'MORTGAGE_INTEREST_PROCEED',\n",
       "                                                   'RENT_PROCEED',\n",
       "                                                   'REFINANCE_EIDL_PROCEED',\n",
       "                                                   'HEALTH_CARE_PROCEED',\n",
       "                                                   'DEBT_INTEREST_PROCEED',\n",
       "                                                   'OriginatingLenderLocationID'])])),\n",
       "                ('rf', RandomForestClassifier(max_depth=3, n_estimators=5))])"
      ]
     },
     "execution_count": 20,
     "metadata": {},
     "output_type": "execute_result"
    }
   ],
   "source": [
    "pipe.fit(X_train, y_train)"
   ]
  },
  {
   "cell_type": "code",
   "execution_count": 21,
   "id": "b00f158d-7262-45e6-b876-309020c6eacc",
   "metadata": {},
   "outputs": [
    {
     "data": {
      "text/plain": [
       "0.9079474501307111"
      ]
     },
     "execution_count": 21,
     "metadata": {},
     "output_type": "execute_result"
    }
   ],
   "source": [
    "pipe.score(X_train, y_train)"
   ]
  },
  {
   "cell_type": "code",
   "execution_count": 22,
   "id": "88ff8cdc-90a6-49f8-8efd-8d94eb51a081",
   "metadata": {},
   "outputs": [
    {
     "data": {
      "text/plain": [
       "0.9087121177047935"
      ]
     },
     "execution_count": 22,
     "metadata": {},
     "output_type": "execute_result"
    }
   ],
   "source": [
    "pipe.score(X_val, y_val)"
   ]
  },
  {
   "cell_type": "code",
   "execution_count": 23,
   "id": "771553bb-ee15-45fb-ae7a-910b03aa9afe",
   "metadata": {},
   "outputs": [],
   "source": [
    "# Delete this! Just peeking at holdout data\n",
    "# pipe.score(X_test, y_test) # 0.9108"
   ]
  },
  {
   "cell_type": "markdown",
   "id": "26d18131-167e-4595-8f6a-c65e370300d2",
   "metadata": {},
   "source": [
    "We remark that after splitting data to create a holdout set, performance apparently reduced from score 0.92 to 0.91.  However, we are still working with a very small subset of the features.  We expect that after we add more columns back, and potentially concatenate more of the PPP loans from the rest of the 5GB datset, we will see restoration of Validation Set accuracy.  This is an important thing to do because we want to be able to have greater confidence in interpreting the efficacy of our model on holdout (unseen) data."
   ]
  },
  {
   "cell_type": "code",
   "execution_count": 24,
   "id": "550d54de-3945-4f21-ab6a-11f73094493a",
   "metadata": {},
   "outputs": [
    {
     "data": {
      "text/plain": [
       "['BusinessType_501(c) – Non Profit except 3,4,6,',\n",
       " 'BusinessType_501(c)19 – Non Profit Veterans',\n",
       " 'BusinessType_501(c)3 – Non Profit',\n",
       " 'BusinessType_501(c)6 – Non Profit Membership',\n",
       " 'BusinessType_Cooperative',\n",
       " 'BusinessType_Corporation',\n",
       " 'BusinessType_Employee Stock Ownership Plan(ESOP)',\n",
       " 'BusinessType_Housing Co-op',\n",
       " 'BusinessType_Independent Contractors',\n",
       " 'BusinessType_Joint Venture',\n",
       " 'BusinessType_Limited  Liability Company(LLC)',\n",
       " 'BusinessType_Limited Liability Partnership',\n",
       " 'BusinessType_Non-Profit Childcare Center',\n",
       " 'BusinessType_Non-Profit Organization',\n",
       " 'BusinessType_Partnership',\n",
       " 'BusinessType_Professional Association',\n",
       " 'BusinessType_Qualified Joint-Venture (spouses)',\n",
       " 'BusinessType_Rollover as Business Start-Ups (ROB',\n",
       " 'BusinessType_Self-Employed Individuals',\n",
       " 'BusinessType_Single Member LLC',\n",
       " 'BusinessType_Sole Proprietorship',\n",
       " 'BusinessType_Subchapter S Corporation',\n",
       " 'BusinessType_Tenant in Common',\n",
       " 'BusinessType_Tribal Concerns',\n",
       " 'BusinessType_Trust',\n",
       " 'BusinessType_unrecorded',\n",
       " 'RuralUrbanIndicator_R',\n",
       " 'RuralUrbanIndicator_U',\n",
       " 'LMIIndicator_N',\n",
       " 'LMIIndicator_Y',\n",
       " 'HubzoneIndicator_N',\n",
       " 'HubzoneIndicator_Y',\n",
       " 'BusinessAgeDescription_Change of Ownership',\n",
       " 'BusinessAgeDescription_Existing or more than 2 years old',\n",
       " 'BusinessAgeDescription_New Business or 2 years or less',\n",
       " 'BusinessAgeDescription_Startup, Loan Funds will Open Business',\n",
       " 'BusinessAgeDescription_Unanswered',\n",
       " 'Race_American Indian or Alaska Native',\n",
       " 'Race_Asian',\n",
       " 'Race_Black or African American',\n",
       " 'Race_Multi Group',\n",
       " 'Race_Native Hawaiian or Other Pacific Islander',\n",
       " 'Race_Puerto Rican',\n",
       " 'Race_Unanswered',\n",
       " 'Race_White',\n",
       " 'Ethnicity_Hispanic or Latino',\n",
       " 'Ethnicity_Not Hispanic or Latino',\n",
       " 'Ethnicity_Unknown/NotStated',\n",
       " 'Gender_Female Owned',\n",
       " 'Gender_Male Owned',\n",
       " 'Gender_Unanswered',\n",
       " 'Veteran_Non-Veteran',\n",
       " 'Veteran_Unanswered',\n",
       " 'Veteran_Veteran',\n",
       " 'SBAOfficeCode',\n",
       " 'Term',\n",
       " 'SBAGuarantyPercentage',\n",
       " 'InitialApprovalAmount',\n",
       " 'CurrentApprovalAmount',\n",
       " 'ServicingLenderLocationID',\n",
       " 'JobsReported',\n",
       " 'NAICSCode',\n",
       " 'UTILITIES_PROCEED',\n",
       " 'PAYROLL_PROCEED',\n",
       " 'MORTGAGE_INTEREST_PROCEED',\n",
       " 'RENT_PROCEED',\n",
       " 'REFINANCE_EIDL_PROCEED',\n",
       " 'HEALTH_CARE_PROCEED',\n",
       " 'DEBT_INTEREST_PROCEED',\n",
       " 'OriginatingLenderLocationID']"
      ]
     },
     "execution_count": 24,
     "metadata": {},
     "output_type": "execute_result"
    }
   ],
   "source": [
    "# Reassemble the feature names so that we can map these correctly to feature importances\n",
    "\n",
    "transformed_feature_names = pipe.named_steps['preprocessor'].named_transformers_['oh']      .get_feature_names_out(categorical_cols).tolist()\n",
    "all_feature_names = transformed_feature_names + numerical_cols\n",
    "all_feature_names"
   ]
  },
  {
   "cell_type": "code",
   "execution_count": 25,
   "id": "f2b58175-d94a-4cf1-9a69-0cc7e69d1d6c",
   "metadata": {},
   "outputs": [
    {
     "data": {
      "text/plain": [
       "70"
      ]
     },
     "execution_count": 25,
     "metadata": {},
     "output_type": "execute_result"
    }
   ],
   "source": [
    "# Get feature importances from the trained model\n",
    "feature_importances = pipe.named_steps['rf'].feature_importances_\n",
    "len(feature_importances)"
   ]
  },
  {
   "cell_type": "code",
   "execution_count": 26,
   "id": "759da4ec-2014-4df1-9cdf-b2670f12a3e0",
   "metadata": {},
   "outputs": [
    {
     "data": {
      "text/html": [
       "<div>\n",
       "<style scoped>\n",
       "    .dataframe tbody tr th:only-of-type {\n",
       "        vertical-align: middle;\n",
       "    }\n",
       "\n",
       "    .dataframe tbody tr th {\n",
       "        vertical-align: top;\n",
       "    }\n",
       "\n",
       "    .dataframe thead th {\n",
       "        text-align: right;\n",
       "    }\n",
       "</style>\n",
       "<table border=\"1\" class=\"dataframe\">\n",
       "  <thead>\n",
       "    <tr style=\"text-align: right;\">\n",
       "      <th></th>\n",
       "      <th>Feature</th>\n",
       "      <th>Importance</th>\n",
       "    </tr>\n",
       "  </thead>\n",
       "  <tbody>\n",
       "    <tr>\n",
       "      <th>69</th>\n",
       "      <td>OriginatingLenderLocationID</td>\n",
       "      <td>0.243760</td>\n",
       "    </tr>\n",
       "    <tr>\n",
       "      <th>57</th>\n",
       "      <td>InitialApprovalAmount</td>\n",
       "      <td>0.239013</td>\n",
       "    </tr>\n",
       "    <tr>\n",
       "      <th>55</th>\n",
       "      <td>Term</td>\n",
       "      <td>0.137315</td>\n",
       "    </tr>\n",
       "    <tr>\n",
       "      <th>59</th>\n",
       "      <td>ServicingLenderLocationID</td>\n",
       "      <td>0.127071</td>\n",
       "    </tr>\n",
       "    <tr>\n",
       "      <th>60</th>\n",
       "      <td>JobsReported</td>\n",
       "      <td>0.081055</td>\n",
       "    </tr>\n",
       "    <tr>\n",
       "      <th>5</th>\n",
       "      <td>BusinessType_Corporation</td>\n",
       "      <td>0.046880</td>\n",
       "    </tr>\n",
       "    <tr>\n",
       "      <th>18</th>\n",
       "      <td>BusinessType_Self-Employed Individuals</td>\n",
       "      <td>0.033038</td>\n",
       "    </tr>\n",
       "    <tr>\n",
       "      <th>20</th>\n",
       "      <td>BusinessType_Sole Proprietorship</td>\n",
       "      <td>0.028331</td>\n",
       "    </tr>\n",
       "    <tr>\n",
       "      <th>63</th>\n",
       "      <td>PAYROLL_PROCEED</td>\n",
       "      <td>0.026677</td>\n",
       "    </tr>\n",
       "    <tr>\n",
       "      <th>58</th>\n",
       "      <td>CurrentApprovalAmount</td>\n",
       "      <td>0.021467</td>\n",
       "    </tr>\n",
       "    <tr>\n",
       "      <th>26</th>\n",
       "      <td>RuralUrbanIndicator_R</td>\n",
       "      <td>0.007912</td>\n",
       "    </tr>\n",
       "    <tr>\n",
       "      <th>61</th>\n",
       "      <td>NAICSCode</td>\n",
       "      <td>0.002244</td>\n",
       "    </tr>\n",
       "    <tr>\n",
       "      <th>29</th>\n",
       "      <td>LMIIndicator_Y</td>\n",
       "      <td>0.001275</td>\n",
       "    </tr>\n",
       "    <tr>\n",
       "      <th>33</th>\n",
       "      <td>BusinessAgeDescription_Existing or more than 2...</td>\n",
       "      <td>0.000974</td>\n",
       "    </tr>\n",
       "    <tr>\n",
       "      <th>27</th>\n",
       "      <td>RuralUrbanIndicator_U</td>\n",
       "      <td>0.000844</td>\n",
       "    </tr>\n",
       "    <tr>\n",
       "      <th>54</th>\n",
       "      <td>SBAOfficeCode</td>\n",
       "      <td>0.000831</td>\n",
       "    </tr>\n",
       "    <tr>\n",
       "      <th>50</th>\n",
       "      <td>Gender_Unanswered</td>\n",
       "      <td>0.000499</td>\n",
       "    </tr>\n",
       "    <tr>\n",
       "      <th>49</th>\n",
       "      <td>Gender_Male Owned</td>\n",
       "      <td>0.000489</td>\n",
       "    </tr>\n",
       "    <tr>\n",
       "      <th>46</th>\n",
       "      <td>Ethnicity_Not Hispanic or Latino</td>\n",
       "      <td>0.000218</td>\n",
       "    </tr>\n",
       "    <tr>\n",
       "      <th>51</th>\n",
       "      <td>Veteran_Non-Veteran</td>\n",
       "      <td>0.000044</td>\n",
       "    </tr>\n",
       "    <tr>\n",
       "      <th>36</th>\n",
       "      <td>BusinessAgeDescription_Unanswered</td>\n",
       "      <td>0.000030</td>\n",
       "    </tr>\n",
       "    <tr>\n",
       "      <th>48</th>\n",
       "      <td>Gender_Female Owned</td>\n",
       "      <td>0.000017</td>\n",
       "    </tr>\n",
       "    <tr>\n",
       "      <th>62</th>\n",
       "      <td>UTILITIES_PROCEED</td>\n",
       "      <td>0.000016</td>\n",
       "    </tr>\n",
       "  </tbody>\n",
       "</table>\n",
       "</div>"
      ],
      "text/plain": [
       "                                              Feature  Importance\n",
       "69                        OriginatingLenderLocationID    0.243760\n",
       "57                              InitialApprovalAmount    0.239013\n",
       "55                                               Term    0.137315\n",
       "59                          ServicingLenderLocationID    0.127071\n",
       "60                                       JobsReported    0.081055\n",
       "5                            BusinessType_Corporation    0.046880\n",
       "18             BusinessType_Self-Employed Individuals    0.033038\n",
       "20                   BusinessType_Sole Proprietorship    0.028331\n",
       "63                                    PAYROLL_PROCEED    0.026677\n",
       "58                              CurrentApprovalAmount    0.021467\n",
       "26                              RuralUrbanIndicator_R    0.007912\n",
       "61                                          NAICSCode    0.002244\n",
       "29                                     LMIIndicator_Y    0.001275\n",
       "33  BusinessAgeDescription_Existing or more than 2...    0.000974\n",
       "27                              RuralUrbanIndicator_U    0.000844\n",
       "54                                      SBAOfficeCode    0.000831\n",
       "50                                  Gender_Unanswered    0.000499\n",
       "49                                  Gender_Male Owned    0.000489\n",
       "46                   Ethnicity_Not Hispanic or Latino    0.000218\n",
       "51                                Veteran_Non-Veteran    0.000044\n",
       "36                  BusinessAgeDescription_Unanswered    0.000030\n",
       "48                                Gender_Female Owned    0.000017\n",
       "62                                  UTILITIES_PROCEED    0.000016"
      ]
     },
     "execution_count": 26,
     "metadata": {},
     "output_type": "execute_result"
    }
   ],
   "source": [
    "# Create a DataFrame to display feature importances\n",
    "importance_df = pd.DataFrame({'Feature': all_feature_names, 'Importance': feature_importances})\n",
    "sorted_importances = importance_df.sort_values(by='Importance', ascending=False)\n",
    "top_features = sorted_importances[sorted_importances['Importance'] > 0]\n",
    "top_features"
   ]
  },
  {
   "cell_type": "code",
   "execution_count": 27,
   "id": "b2f7a9f6-a93b-4227-a803-bef367d5155d",
   "metadata": {},
   "outputs": [
    {
     "data": {
      "text/plain": [
       "1    1.0\n",
       "Name: proportion, dtype: float64"
      ]
     },
     "execution_count": 27,
     "metadata": {},
     "output_type": "execute_result"
    }
   ],
   "source": [
    "# Examine y predictions\n",
    "y_pred = pipe.predict(X_val)\n",
    "pd.Series(y_pred).value_counts(normalize=True)"
   ]
  },
  {
   "cell_type": "code",
   "execution_count": 28,
   "id": "efdac6ec-6c20-4cac-b060-5e409f0435b0",
   "metadata": {},
   "outputs": [],
   "source": [
    "# Examine the confusion matrix\n",
    "cm = confusion_matrix(y_val, y_pred)"
   ]
  },
  {
   "cell_type": "code",
   "execution_count": 29,
   "id": "317fd97e-b054-43e3-b37f-19888d8cb2ed",
   "metadata": {},
   "outputs": [
    {
     "name": "stdout",
     "output_type": "stream",
     "text": [
      "[[     0  29577]\n",
      " [     0 294420]]\n"
     ]
    }
   ],
   "source": [
    "print(cm)"
   ]
  },
  {
   "cell_type": "code",
   "execution_count": 30,
   "id": "5cb94060-a947-4314-b31c-44afdf23d3d6",
   "metadata": {},
   "outputs": [
    {
     "data": {
      "image/png": "[encoded data removed]",
      "text/plain": [
       "<Figure size 640x480 with 2 Axes>"
      ]
     },
     "metadata": {},
     "output_type": "display_data"
    }
   ],
   "source": [
    "ConfusionMatrixDisplay.from_estimator(pipe, X_val, y_val, cmap='Blues');"
   ]
  },
  {
   "cell_type": "code",
   "execution_count": 31,
   "id": "b912fbf7-0fe4-4240-a034-92ed1124b5f0",
   "metadata": {},
   "outputs": [],
   "source": [
    "# Compute overall accuracy from confusion matrix\n",
    "overall_accuracy = (cm[0, 0] + cm[1, 1]) / cm.sum()"
   ]
  },
  {
   "cell_type": "code",
   "execution_count": 32,
   "id": "7e053cba-9761-4dec-a504-e440b7ad04e5",
   "metadata": {},
   "outputs": [],
   "source": [
    "# Calculate precision, recall, and F1-score for each class\n",
    "precision = cm[1, 1] / (cm[1, 1] + cm[0, 1])\n",
    "# recall = cm.diagonal() / (cm.sum(axis=1) + 1)\n",
    "# f1_score = 2 * (precision * recall) / (precision + recall)"
   ]
  },
  {
   "cell_type": "code",
   "execution_count": 33,
   "id": "08c37aea-6a2f-43a7-a9e6-7b64d0c6ec2e",
   "metadata": {},
   "outputs": [
    {
     "name": "stdout",
     "output_type": "stream",
     "text": [
      "Overall Accuracy: 0.9087\n",
      "Baseline Accuracy: 0.9080\n",
      "Precision: 0.9087\n"
     ]
    }
   ],
   "source": [
    "print(f\"Overall Accuracy: {overall_accuracy:.4f}\")\n",
    "print(f\"Baseline Accuracy: {baseline_accuracy:.4f}\")\n",
    "print(f\"Precision: {precision:.4f}\")\n",
    "# print(f\"Recall (Sensitivity): {recall}\")\n",
    "# print(f\"F1-Score: {f1_score}\")"
   ]
  },
  {
   "cell_type": "markdown",
   "id": "bb53595b-24be-4736-8e3a-63ce2583f94a",
   "metadata": {},
   "source": [
    "# TO-DO >>>\n",
    "\n",
    "## Data cleaning\n",
    "~~collapse target into binary~~\n",
    "\n",
    "## Holdout - best practices \n",
    "~~split train val test 80 10 10~~\n",
    "\n",
    "### Improving performance\n",
    "## The numerical columns\n",
    "~~0) add all numeric features back in~~\n",
    "1) feature engineer multicollinear PROCEEDS variables\n",
    "\n",
    "## Feature engineering to handle categorical features\n",
    "exclude categorical vals where there are too many unique values\n",
    "\n",
    "how to narrow down cat cols:\n",
    "1) engineer feature to reduce number of unique values by doing top 5, and 'other'\n",
    "2) ordinal labeling\n",
    "3) examine feature importance and drop least important, then retrain\n",
    "\n",
    "### Downsample as needed until it finishes within reasonable time\n",
    "\n",
    "## Scale back up to more data \n",
    "Google colab for scale up\n",
    "\n",
    "# Optional\n",
    "cross-validation -- why do we do this\n",
    "~~no need to boostrap resample, sufficient to binarize~~\n",
    "~~NN keras~~\n",
    "\n",
    "## Other kinds of models to try\n",
    "### Ensembling an ensemble could be interesting\n",
    "0) RandomForest\n",
    "1) XGBoost\n",
    "2) knn\n",
    "3) SVM\n",
    "4) Multilayer perceptron NN - fewer hyperparameters"
   ]
  },
  {
   "cell_type": "code",
   "execution_count": null,
   "id": "f425bdb8-7e06-4ec6-9d33-63f175612ed8",
   "metadata": {},
   "outputs": [],
   "source": []
  }
 ],
 "metadata": {
  "kernelspec": {
   "display_name": "Python 3 (ipykernel)",
   "language": "python",
   "name": "python3"
  },
  "language_info": {
   "codemirror_mode": {
    "name": "ipython",
    "version": 3
   },
   "file_extension": ".py",
   "mimetype": "text/x-python",
   "name": "python",
   "nbconvert_exporter": "python",
   "pygments_lexer": "ipython3",
   "version": "3.11.5"
  }
 },
 "nbformat": 4,
 "nbformat_minor": 5
}
