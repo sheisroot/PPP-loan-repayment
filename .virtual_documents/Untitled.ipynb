


# Imports:
import numpy as np
import pandas as pd
import matplotlib.pyplot as plt


# Read in the data
advert = pd.read_csv('./data/data.csv', low_memory=False)


advert.shape






