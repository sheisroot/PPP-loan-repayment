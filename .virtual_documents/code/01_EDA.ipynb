





# Imports
import numpy as np
import pandas as pd
import matplotlib.pyplot as plt


# dataset sourced from https://data.sba.gov/dataset/ppp-foia
# created March 2, 2021, 4:30 PM (UTC-08:00)
# updated October 3, 2023, 8:04 AM (UTC-07:00)
# split across 13 csv files - 12 files describe loans under 150k
# 1 file contains data on loans made above 150k

ppp_1 = pd.read_csv('../data/public_up_to_150k_1_230930.csv')


ppp_1.head()


ppp_1.info()





# Generate an easy to read data dictionary
dict_df = pd.read_csv('../data/ppp-data-dictionary.csv', index_col=0)
dict_df['dtype'] = ppp_1.dtypes
dict_df.reset_index(inplace=True)


dict_df.iloc[:5, :]





dict_df.iloc[3,1] # Greater detail on ProcessingMethod











dict_df.iloc[5:10,:]





dict_df.iloc[9, 1]





dict_df.iloc[10:15,:]


dict_df.iloc[10, 1]








dict_df.iloc[15:23,:]





dict_df.iloc[23:31,:]





dict_df.iloc[31:43,:]





dict_df.iloc[36,1]





dict_df.iloc[43:,:]








# TODO make a pipline to process all the separate csvs this way


ppp_1['DateApproved'] = pd.to_datetime(ppp_1['DateApproved'])
ppp_1['DateApproved'].head()


ppp_1['LoanNumber'].head()


ppp_1['SBAOfficeCode'].describe()


ppp_1['ProcessingMethod'].describe()


ppp_1['BorrowerName'].unique()


ppp_1['LoanStatusDate'] = pd.to_datetime(ppp_1['LoanStatusDate'])
ppp_1[['LoanStatusDate', 'LoanStatus']].head()


# ppp_1 = pd.read_csv('../data/public_up_to_150k_1_230930.csv')
ppp_1['LoanStatusDate'].value_counts()


np.sum(ppp_1['LoanStatusDate'].isna()) / ppp_1['LoanStatusDate'].size





ppp_1[ppp_1['LoanStatusDate'].isna()][['BusinessType', 'BorrowerName', 'CurrentApprovalAmount']]


ppp_1['LoanStatus'].value_counts()


ppp_1[['SBAGuarantyPercentage', 'Term']].describe()


loan_sz_inc = ppp_1[ppp_1['InitialApprovalAmount'] < ppp_1['CurrentApprovalAmount']]


# By how much were loan amounts increased?
percent_inc = (loan_sz_inc['CurrentApprovalAmount'] - loan_sz_inc['InitialApprovalAmount'])/loan_sz_inc['InitialApprovalAmount']


percent_inc.describe()





ppp_1['UndisbursedAmount'].describe()


np.sum(ppp_1['UndisbursedAmount'] > 0)  # only one loan was not fully disbursed


ppp_1[ppp_1['FranchiseName'].notna()]['FranchiseName'].head(10)





serv_orig_lender = ppp_1[['CurrentApprovalAmount', 'ServicingLenderName', 'OriginatingLender']]
diff_lenders_mask = (ppp_1['ServicingLenderName'] != ppp_1['OriginatingLender']) & ppp_1['OriginatingLender'].notna()
print(serv_orig_lender[diff_lenders_mask]['OriginatingLender'].value_counts()[:10])
print(serv_orig_lender[diff_lenders_mask]['ServicingLenderName'].value_counts()[:10])





ppp_1['BusinessType'].value_counts()





np.sum(ppp_1['RuralUrbanIndicator'].isna())


print(np.sum(ppp_1['HubzoneIndicator'].isna()))





ppp_1['BusinessAgeDescription'].head()


ppp_1['BusinessAgeDescription'].value_counts()





# TODO decide how to best encode business age


np.sum(ppp_1['JobsReported'].isna()) # One business does not report their number of employees


ppp_1.where(ppp_1['JobsReported'].notna(), other=0, inplace=True)


ppp_1['JobsReported'].astype('int32')


ppp_1['NAICSCode'].value_counts()



