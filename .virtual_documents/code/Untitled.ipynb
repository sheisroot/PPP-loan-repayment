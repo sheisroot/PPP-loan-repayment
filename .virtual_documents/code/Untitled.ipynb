# Imports
import numpy as np
import pandas as pd
import matplotlib.pyplot as plt

from sklearn.preprocessing import OneHotEncoder
from sklearn.compose import ColumnTransformer
from sklearn.pipeline import Pipeline
from sklearn.ensemble import RandomForestClassifier, ExtraTreesClassifier
from sklearn.model_selection import train_test_split, GridSearchCV, RandomizedSearchCV


ppp = pd.read_csv('../data/cleaned_1and2_reduced.csv')
ppp.head()


# Define X and y
X = ppp.drop(columns=['LoanStatus'])
y = ppp['LoanStatus']


y.value_counts(normalize=True)





# Make a list of categorical features
categorical_cols = X.select_dtypes(include=['object']).columns.tolist()
categorical_cols


# Preprocessing pipeline for categorical features
preprocessor = ColumnTransformer(transformers=[
    ('oh', OneHotEncoder(handle_unknown='ignore'), categorical_cols)
])


# Define the Random Forest model with preprocessing and classifier
# Use default tuning parameters
rf = RandomForestClassifier()

pipe = Pipeline(steps=[
    ('preprocessor', preprocessor),
    ('rf', rf)
])


# Perform train test split
X_train, X_test, y_train, y_test = train_test_split(X, y, random_state=42)


pipe.fit(X_train, y_train)



