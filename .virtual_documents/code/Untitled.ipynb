# Imports
import numpy as np
import pandas as pd
import matplotlib.pyplot as plt

import os





# ppp1 = pd.read_csv('../data/public_up_to_150k_1_230930.csv')
path = '../data/'
dir_list = os.listdir(path)[:-1] # Exclude the data dict
print(dir_list)


loans_1 = pd.read_csv(path + dir_list[0])
loans_2 = pd.read_csv(path + dir_list[1])
ppp = pd.concat([loans_1, loans_2])


ppp.shape


ppp.columns


print(ppp['LoanStatus'].value_counts())
print(np.sum(ppp['LoanStatus'].isna()))
np.sum(ppp[ppp['LoanStatus'] == 'Paid in Full']) / ppp.shape[0]



