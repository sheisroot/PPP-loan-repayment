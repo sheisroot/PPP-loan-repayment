# Imports
import numpy as np
import pandas as pd
import matplotlib.pyplot as plt

import os





# ppp1 = pd.read_csv('../data/public_up_to_150k_1_230930.csv')
path = '../data/'
dir_list = os.listdir(path)[:-1] # Exclude the data dict
print(dir_list)


loans_1 = pd.read_csv(path + dir_list[0])
loans_2 = pd.read_csv(path + dir_list[1])
ppp = pd.concat([loans_1, loans_2])


ppp.shape


ppp.columns


print(ppp['LoanStatus'].value_counts())
print(np.sum(ppp['LoanStatus'].isna())) # no nulls


# Baseline model and class imbalance
paid_frac = np.sum(ppp['LoanStatus'] == 'Paid in Full') / ppp.shape[0]
forgiven_frac = np.sum(ppp['LoanStatus'] == 'Charged Off') / ppp.shape[0]
ex4_frac = np.sum(ppp['LoanStatus'] == 'Exemption 4') / ppp.shape[0]
print(f'Paid in full: {round(paid_frac, 3)}')
print(f'Charged Off: {round(forgiven_frac, 3)}')
print(f'Exemption 4: {round(ex4_frac, 3)}')








# type check
ppp['SBAOfficeCode'] = ppp['SBAOfficeCode'].astype(int)


np.sum(ppp['LoanStatusDate'].isna()) / ppp['LoanStatusDate'].size





np.sum(ppp['UndisbursedAmount'] > 0)


ppp[ppp['UndisbursedAmount'] > 0][['UndisbursedAmount', 'CurrentApprovalAmount']]





ppp['RuralUrbanIndicator'].value_counts()


np.sum(ppp['RuralUrbanIndicator'].isna())


ppp['HubzoneIndicator'].value_counts()


np.sum(ppp['BusinessAgeDescription'].isna())


np.sum(ppp['ProjectCountyName'].isna())





np.sum(ppp['CD'].isna())





ppp['CD'] = ppp['CD'].where(ppp['CD'].notna(), 'unrecorded')
np.sum(ppp['CD'].isna())


np.sum(ppp['JobsReported'].isna()) # All businesses report number of jobs (business size)


ppp['NAICSCode'].dtypes


np.sum(ppp['NAICSCode'].isna())





# temp_ppp = ppp


ppp['NAICSCode'] = ppp['NAICSCode'].where(ppp['NAICSCode'].notna(), 0)
np.sum(ppp['NAICSCode'].isna())


temp = ppp['NAICSCode'].astype(int).astype(str).replace(to_replace='0', value='000000')
np.sum(temp == '000000')


ppp['NAICSCode'] = temp


ppp['NAICSCode'].dtypes


# Choose features we believe will be most predictive
drop_features = ['LoanNumber', 'DateApproved', 'BorrowerName', 'BorrowerAddress', 'LoanStatusDate', 'UndisbursedAmount', 'ServicingLenderName', 'ServicingLenderAddress', 'ProjectCity', 'ProjectCountyName', 'ProjectState', 'ProjectZip', 
ppp.drop(


np.sum(ppp[['Race', 'Ethnicity', 'Gender', 'Veteran']].isna(), axis=0)





np.sum(ppp[['UTILITIES_PROCEED', 'PAYROLL_PROCEED', 'MORTGAGE_INTEREST_PROCEED', 'RENT_PROCEED', 'REFINANCE_EIDL_PROCEED', 'HEALTH_CARE_PROCEED', 'DEBT_INTEREST_PROCEED']].isna(), axis=0)



