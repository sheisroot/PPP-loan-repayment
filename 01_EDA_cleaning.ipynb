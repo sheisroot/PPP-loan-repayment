{
 "cells": [
  {
   "cell_type": "markdown",
   "id": "95cf0854-faf0-49fa-893c-fd668667d6c7",
   "metadata": {},
   "source": [
    "# Internet Advertisement Detection\n",
    "## Reducing noise-to-information ratio when using internet search engines "
   ]
  },
  {
   "cell_type": "code",
   "execution_count": 2,
   "id": "8a394430-8ade-4596-a88f-c7c160d8ba4f",
   "metadata": {},
   "outputs": [],
   "source": [
    "# Imports:\n",
    "import numpy as np\n",
    "import pandas as pd\n",
    "import matplotlib.pyplot as plt"
   ]
  },
  {
   "cell_type": "code",
   "execution_count": 5,
   "id": "13f844de-a639-45bd-985a-fe21cda5f715",
   "metadata": {},
   "outputs": [],
   "source": [
    "# Read in the data\n",
    "advert = pd.read_csv('./data/data.csv', low_memory=False)"
   ]
  },
  {
   "cell_type": "code",
   "execution_count": 6,
   "id": "8be66457-0cce-48f7-8c07-d3a1800ed9cd",
   "metadata": {},
   "outputs": [
    {
     "data": {
      "text/plain": [
       "(3278, 1559)"
      ]
     },
     "execution_count": 6,
     "metadata": {},
     "output_type": "execute_result"
    }
   ],
   "source": [
    "advert.shape"
   ]
  },
  {
   "cell_type": "markdown",
   "id": "ac87a690-9236-4313-80b5-17ba987d60aa",
   "metadata": {},
   "source": [
    "There are 3,278 images (along with their associated text and metadata) which may be ads.\n",
    "There are 1,559 features which correspond to "
   ]
  },
  {
   "cell_type": "markdown",
   "id": "91bbe977-4dba-4ed4-99a0-260209eed742",
   "metadata": {},
   "source": [
    "Here's a useful thought to join datasets and make a richer model:\n",
    "grab the url, origul, ancurl features as they did in the paper from the images only dataset to add more features"
   ]
  }
 ],
 "metadata": {
  "kernelspec": {
   "display_name": "Python 3 (ipykernel)",
   "language": "python",
   "name": "python3"
  },
  "language_info": {
   "codemirror_mode": {
    "name": "ipython",
    "version": 3
   },
   "file_extension": ".py",
   "mimetype": "text/x-python",
   "name": "python",
   "nbconvert_exporter": "python",
   "pygments_lexer": "ipython3",
   "version": "3.11.5"
  }
 },
 "nbformat": 4,
 "nbformat_minor": 5
}
